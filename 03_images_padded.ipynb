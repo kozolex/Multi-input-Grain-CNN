{
 "cells": [
  {
   "cell_type": "code",
   "execution_count": 2,
   "metadata": {},
   "outputs": [],
   "source": [
    "from pathlib import Path\n",
    "from PIL import Image, ImageOps\n",
    "import shutil\n",
    "\n",
    "def preprocess_and_save_images(input_dir, output_dir, target_size=(310, 890), ext_name = \"png\", ext_name_others =\"_S.png\", _S_files_padding = True):\n",
    "    \"\"\"\n",
    "    Przetwarza obrazy, zmieniając ich rozmiar i dodając odpowiednie tło, a następnie zapisuje w nowej lokalizacji.\n",
    "\n",
    "    Args:\n",
    "        input_dir (str): Ścieżka do katalogu z oryginalnymi obrazami.\n",
    "        output_dir (str): Ścieżka do katalogu docelowego dla przetworzonych obrazów.\n",
    "        target_size (tuple): Docelowy rozmiar obrazu (szerokość, wysokość).\n",
    "        ext_name (str): Rozszerzenie plików do przetworzenia (domyślnie \"png\").\n",
    "        ext_name_others (str): Rozszerzenie plików innych niż domyślne (domyślnie \"_S.png\").\n",
    "        _S_files_padding (bool): Flaga określająca, czy pliki z końcówką \"_S\" mają być przetwarzane z paddingiem (domyślnie True).\n",
    "    \"\"\"\n",
    "    input_dir = Path(input_dir)\n",
    "    output_dir = Path(output_dir)\n",
    "\n",
    "    # Iteracja przez wszystkie pliki w katalogu wejściowym\n",
    "    for file_path in input_dir.rglob(f\"*.{ext_name}\"):  # Przeszukuje rekurencyjnie pliki PNG\n",
    "        try:\n",
    "            img = Image.open(file_path)\n",
    "\n",
    "            # Zmień rozmiar obrazu z zachowaniem proporcji, bez wychodzenia poza docelowy wymiar\n",
    "            img.thumbnail(target_size)\n",
    "\n",
    "            # Utwórz ścieżkę do zapisu\n",
    "            relative_path = file_path.relative_to(input_dir)  # Ścieżka względna do oryginalnego katalogu\n",
    "            destination_path = output_dir / relative_path\n",
    "            # Utwórz katalog docelowy, jeśli nie istnieje\n",
    "            destination_path.parent.mkdir(parents=True, exist_ok=True)\n",
    "\n",
    "            # Wybór koloru tła na podstawie końcówki nazwy pliku\n",
    "            if file_path.name.endswith(ext_name_others):\n",
    "                if _S_files_padding:\n",
    "                    background_color = (255)  # Białe tło\n",
    "                    background = Image.new(\"L\", target_size, background_color)\n",
    "                else:\n",
    "                    shutil.copy(str(file_path), str(destination_path))\n",
    "                    continue # Jeśli nie ma paddingu, kopiuj plik bez zmian i przejdź do następnego pliku\n",
    "            else:\n",
    "                background_color = (0, 0, 0)  # Czarne tło\n",
    "\n",
    "                # Utwórz tło o docelowym rozmiarze\n",
    "                background = Image.new(\"RGB\", target_size, background_color)\n",
    "\n",
    "            \n",
    "            # Oblicz pozycję środka, aby umieścić obraz w tle\n",
    "            x_offset = (target_size[0] - img.width) // 2\n",
    "            y_offset = (target_size[1] - img.height) // 2\n",
    "\n",
    "            # Wklej obraz do środka tła\n",
    "            background.paste(img, (x_offset, y_offset))\n",
    "\n",
    "            # Zapisz przetworzony obraz\n",
    "            background.save(destination_path)\n",
    "\n",
    "            #print(f\"Przetworzono i zapisano: {destination_path}\")\n",
    "        except Exception as e:\n",
    "            print(f\"Błąd przetwarzania pliku {file_path}: {e}\")\n",
    "\n",
    "# Przykład użycia:\n",
    "input_dir = \"/home/mk/Desktop/preprocesed_dataset/\"  # Katalog wejściowy\n",
    "output_dir = \"/media/512GB_ext/preprocessed_dataset_padded_S_no_changes_2\"  # Nowa lokalizacja\n",
    "output_dir = \"/media/512GB_ext/preprocessed_dataset_padded_S_no_changes_2\"  # Nowa lokalizacja\n"
   ]
  },
  {
   "cell_type": "code",
   "execution_count": null,
   "metadata": {},
   "outputs": [],
   "source": [
    "preprocess_and_save_images(input_dir, output_dir, target_size=(310, 890), ext_name=\"png\", ext_name_others=\"_S.png\", _S_files_padding=True) #False oznacza, że pliki z końcówką _S będą kopiowane bez zmian"
   ]
  },
  {
   "cell_type": "code",
   "execution_count": null,
   "metadata": {},
   "outputs": [],
   "source": [
    "preprocess_and_save_images(input_dir, \"/media/512GB_ext/pproces_dataset/80_224/\", target_size=(80, 224), ext_name=\"png\", ext_name_others=\"_S.png\", _S_files_padding=True) #False oznacza, że pliki z końcówką _S będą kopiowane bez zmian"
   ]
  },
  {
   "cell_type": "code",
   "execution_count": 4,
   "metadata": {},
   "outputs": [],
   "source": [
    "preprocess_and_save_images(input_dir, \"/media/512GB_ext/pproces_dataset/224_224/\", target_size=(224, 224), ext_name=\"png\", ext_name_others=\"_S.png\", _S_files_padding=True) #False oznacza, że pliki z końcówką _S będą kopiowane bez zmian"
   ]
  }
 ],
 "metadata": {
  "kernelspec": {
   "display_name": "dnn_gpu",
   "language": "python",
   "name": "python3"
  },
  "language_info": {
   "codemirror_mode": {
    "name": "ipython",
    "version": 3
   },
   "file_extension": ".py",
   "mimetype": "text/x-python",
   "name": "python",
   "nbconvert_exporter": "python",
   "pygments_lexer": "ipython3",
   "version": "3.11.11"
  }
 },
 "nbformat": 4,
 "nbformat_minor": 2
}
