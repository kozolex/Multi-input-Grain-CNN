{
 "cells": [
  {
   "cell_type": "markdown",
   "metadata": {},
   "source": [
    "Source dir to CSV file"
   ]
  },
  {
   "cell_type": "code",
   "execution_count": null,
   "metadata": {},
   "outputs": [],
   "source": [
    "import os\n",
    "import pandas as pd\n",
    "\n",
    "def generate_dataset_csv(data_dir, output_csv):\n",
    "    \"\"\"\n",
    "    Generuje plik dataset.csv na podstawie struktury katalogu ze zbiorami danych.\n",
    "\n",
    "    Args:\n",
    "        data_dir (str): Ścieżka do głównego katalogu danych.\n",
    "        output_csv (str): Ścieżka do pliku wyjściowego CSV.\n",
    "    \"\"\"\n",
    "    # Lista do przechowywania informacji o plikach\n",
    "    data = []\n",
    "\n",
    "    # Przejdź przez wszystkie pliki w katalogach klas\n",
    "    for class_name in os.listdir(data_dir):\n",
    "        class_dir = os.path.join(data_dir, class_name)\n",
    "        \n",
    "        # Sprawdź, czy to katalog (klasa)\n",
    "        if os.path.isdir(class_dir):\n",
    "            for file_name in os.listdir(class_dir):\n",
    "                file_path = os.path.join(class_dir, file_name)\n",
    "                \n",
    "                # Sprawdź, czy to plik z rozszerzeniem .png\n",
    "                if os.path.isfile(file_path) and file_name.endswith(\".png\"):\n",
    "                    # Dodaj dane do listy\n",
    "                    data.append({\n",
    "                        \"class\": class_name,  # Klasa to nazwa katalogu nadrzędnego\n",
    "                        \"path\": file_path,   # Pełna ścieżka do pliku\n",
    "                    })\n",
    "\n",
    "    # Utwórz DataFrame i zapisz do CSV\n",
    "    df = pd.DataFrame(data)\n",
    "    df.to_csv(output_csv, index=False)\n",
    "    print(f\"Plik CSV wygenerowany: {output_csv}\")\n",
    "\n",
    "data_dir = \"/path/to/dataset\"  # Ścieżka do katalogu ze zbiorami danych\n",
    "output_csv = \"dataset.csv\"     # Ścieżka do pliku wyjściowego CSV\n",
    "generate_dataset_csv(data_dir, output_csv)"
   ]
  }
 ],
 "metadata": {
  "kernelspec": {
   "display_name": "dnn_gpu",
   "language": "python",
   "name": "python3"
  },
  "language_info": {
   "name": "python",
   "version": "3.11.11"
  }
 },
 "nbformat": 4,
 "nbformat_minor": 2
}
