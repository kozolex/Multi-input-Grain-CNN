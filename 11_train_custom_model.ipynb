{
 "cells": [
  {
   "cell_type": "code",
   "execution_count": 1,
   "metadata": {},
   "outputs": [
    {
     "name": "stdout",
     "output_type": "stream",
     "text": [
      "Katalog 'training_results_80_224_2' utworzony.\n",
      "Epoch 1/50\n"
     ]
    },
    {
     "name": "stderr",
     "output_type": "stream",
     "text": [
      "Training: 100%|██████████| 1086/1086 [05:08<00:00,  3.52batch/s, loss=2.1554]\n",
      "Validation: 100%|██████████| 233/233 [00:49<00:00,  4.74batch/s]\n"
     ]
    },
    {
     "name": "stdout",
     "output_type": "stream",
     "text": [
      "Best model saved at epoch 1\n",
      "Epoch 2/50\n"
     ]
    },
    {
     "name": "stderr",
     "output_type": "stream",
     "text": [
      "Training: 100%|██████████| 1086/1086 [03:53<00:00,  4.66batch/s, loss=1.5260]\n",
      "Validation: 100%|██████████| 233/233 [00:42<00:00,  5.43batch/s]\n"
     ]
    },
    {
     "name": "stdout",
     "output_type": "stream",
     "text": [
      "Best model saved at epoch 2\n",
      "Epoch 3/50\n"
     ]
    },
    {
     "name": "stderr",
     "output_type": "stream",
     "text": [
      "Training: 100%|██████████| 1086/1086 [03:53<00:00,  4.65batch/s, loss=1.1673]\n",
      "Validation: 100%|██████████| 233/233 [00:43<00:00,  5.38batch/s]\n"
     ]
    },
    {
     "name": "stdout",
     "output_type": "stream",
     "text": [
      "Best model saved at epoch 3\n",
      "Epoch 4/50\n"
     ]
    },
    {
     "name": "stderr",
     "output_type": "stream",
     "text": [
      "Training: 100%|██████████| 1086/1086 [03:47<00:00,  4.77batch/s, loss=0.9130]\n",
      "Validation: 100%|██████████| 233/233 [00:41<00:00,  5.62batch/s]\n"
     ]
    },
    {
     "name": "stdout",
     "output_type": "stream",
     "text": [
      "Best model saved at epoch 4\n",
      "Epoch 5/50\n"
     ]
    },
    {
     "name": "stderr",
     "output_type": "stream",
     "text": [
      "Training: 100%|██████████| 1086/1086 [03:46<00:00,  4.79batch/s, loss=0.7284]\n",
      "Validation: 100%|██████████| 233/233 [00:41<00:00,  5.59batch/s]\n"
     ]
    },
    {
     "name": "stdout",
     "output_type": "stream",
     "text": [
      "Best model saved at epoch 5\n",
      "Epoch 6/50\n"
     ]
    },
    {
     "name": "stderr",
     "output_type": "stream",
     "text": [
      "Training: 100%|██████████| 1086/1086 [03:47<00:00,  4.78batch/s, loss=0.6075]\n",
      "Validation: 100%|██████████| 233/233 [00:41<00:00,  5.67batch/s]\n"
     ]
    },
    {
     "name": "stdout",
     "output_type": "stream",
     "text": [
      "Best model saved at epoch 6\n",
      "Epoch 7/50\n"
     ]
    },
    {
     "name": "stderr",
     "output_type": "stream",
     "text": [
      "Training: 100%|██████████| 1086/1086 [03:47<00:00,  4.77batch/s, loss=0.5225]\n",
      "Validation: 100%|██████████| 233/233 [00:41<00:00,  5.66batch/s]\n"
     ]
    },
    {
     "name": "stdout",
     "output_type": "stream",
     "text": [
      "Best model saved at epoch 7\n",
      "Epoch 8/50\n"
     ]
    },
    {
     "name": "stderr",
     "output_type": "stream",
     "text": [
      "Training: 100%|██████████| 1086/1086 [03:47<00:00,  4.77batch/s, loss=0.4692]\n",
      "Validation: 100%|██████████| 233/233 [00:41<00:00,  5.63batch/s]\n"
     ]
    },
    {
     "name": "stdout",
     "output_type": "stream",
     "text": [
      "No improvement in val loss for 1 epoch(s)\n",
      "Epoch 9/50\n"
     ]
    },
    {
     "name": "stderr",
     "output_type": "stream",
     "text": [
      "Training: 100%|██████████| 1086/1086 [03:47<00:00,  4.78batch/s, loss=0.4218]\n",
      "Validation: 100%|██████████| 233/233 [00:41<00:00,  5.61batch/s]\n"
     ]
    },
    {
     "name": "stdout",
     "output_type": "stream",
     "text": [
      "Best model saved at epoch 9\n",
      "Epoch 10/50\n"
     ]
    },
    {
     "name": "stderr",
     "output_type": "stream",
     "text": [
      "Training: 100%|██████████| 1086/1086 [03:47<00:00,  4.78batch/s, loss=0.3844]\n",
      "Validation: 100%|██████████| 233/233 [00:41<00:00,  5.60batch/s]\n"
     ]
    },
    {
     "name": "stdout",
     "output_type": "stream",
     "text": [
      "Best model saved at epoch 10\n",
      "Epoch 11/50\n"
     ]
    },
    {
     "name": "stderr",
     "output_type": "stream",
     "text": [
      "Training: 100%|██████████| 1086/1086 [03:47<00:00,  4.76batch/s, loss=0.3525]\n",
      "Validation: 100%|██████████| 233/233 [00:41<00:00,  5.63batch/s]\n"
     ]
    },
    {
     "name": "stdout",
     "output_type": "stream",
     "text": [
      "Best model saved at epoch 11\n",
      "Epoch 12/50\n"
     ]
    },
    {
     "name": "stderr",
     "output_type": "stream",
     "text": [
      "Training: 100%|██████████| 1086/1086 [03:47<00:00,  4.78batch/s, loss=0.3251]\n",
      "Validation: 100%|██████████| 233/233 [00:41<00:00,  5.60batch/s]\n"
     ]
    },
    {
     "name": "stdout",
     "output_type": "stream",
     "text": [
      "No improvement in val loss for 1 epoch(s)\n",
      "Epoch 13/50\n"
     ]
    },
    {
     "name": "stderr",
     "output_type": "stream",
     "text": [
      "Training: 100%|██████████| 1086/1086 [03:47<00:00,  4.77batch/s, loss=0.3038]\n",
      "Validation: 100%|██████████| 233/233 [00:41<00:00,  5.61batch/s]\n"
     ]
    },
    {
     "name": "stdout",
     "output_type": "stream",
     "text": [
      "Best model saved at epoch 13\n",
      "Epoch 14/50\n"
     ]
    },
    {
     "name": "stderr",
     "output_type": "stream",
     "text": [
      "Training: 100%|██████████| 1086/1086 [03:47<00:00,  4.78batch/s, loss=0.2820]\n",
      "Validation: 100%|██████████| 233/233 [00:41<00:00,  5.60batch/s]\n"
     ]
    },
    {
     "name": "stdout",
     "output_type": "stream",
     "text": [
      "No improvement in val loss for 1 epoch(s)\n",
      "Epoch 15/50\n"
     ]
    },
    {
     "name": "stderr",
     "output_type": "stream",
     "text": [
      "Training: 100%|██████████| 1086/1086 [03:47<00:00,  4.78batch/s, loss=0.2615]\n",
      "Validation: 100%|██████████| 233/233 [00:41<00:00,  5.59batch/s]\n"
     ]
    },
    {
     "name": "stdout",
     "output_type": "stream",
     "text": [
      "No improvement in val loss for 2 epoch(s)\n",
      "Epoch 16/50\n"
     ]
    },
    {
     "name": "stderr",
     "output_type": "stream",
     "text": [
      "Training: 100%|██████████| 1086/1086 [03:46<00:00,  4.79batch/s, loss=0.2489]\n",
      "Validation: 100%|██████████| 233/233 [00:40<00:00,  5.72batch/s]\n"
     ]
    },
    {
     "name": "stdout",
     "output_type": "stream",
     "text": [
      "Best model saved at epoch 16\n",
      "Epoch 17/50\n"
     ]
    },
    {
     "name": "stderr",
     "output_type": "stream",
     "text": [
      "Training: 100%|██████████| 1086/1086 [03:46<00:00,  4.79batch/s, loss=0.2316]\n",
      "Validation: 100%|██████████| 233/233 [00:41<00:00,  5.59batch/s]\n"
     ]
    },
    {
     "name": "stdout",
     "output_type": "stream",
     "text": [
      "Best model saved at epoch 17\n",
      "Epoch 18/50\n"
     ]
    },
    {
     "name": "stderr",
     "output_type": "stream",
     "text": [
      "Training: 100%|██████████| 1086/1086 [03:47<00:00,  4.78batch/s, loss=0.2219]\n",
      "Validation: 100%|██████████| 233/233 [00:41<00:00,  5.61batch/s]\n"
     ]
    },
    {
     "name": "stdout",
     "output_type": "stream",
     "text": [
      "No improvement in val loss for 1 epoch(s)\n",
      "Epoch 19/50\n"
     ]
    },
    {
     "name": "stderr",
     "output_type": "stream",
     "text": [
      "Training: 100%|██████████| 1086/1086 [03:47<00:00,  4.78batch/s, loss=0.2152]\n",
      "Validation: 100%|██████████| 233/233 [00:41<00:00,  5.58batch/s]\n"
     ]
    },
    {
     "name": "stdout",
     "output_type": "stream",
     "text": [
      "Best model saved at epoch 19\n",
      "Epoch 20/50\n"
     ]
    },
    {
     "name": "stderr",
     "output_type": "stream",
     "text": [
      "Training: 100%|██████████| 1086/1086 [03:47<00:00,  4.78batch/s, loss=0.2017]\n",
      "Validation: 100%|██████████| 233/233 [00:41<00:00,  5.62batch/s]\n"
     ]
    },
    {
     "name": "stdout",
     "output_type": "stream",
     "text": [
      "No improvement in val loss for 1 epoch(s)\n",
      "Epoch 21/50\n"
     ]
    },
    {
     "name": "stderr",
     "output_type": "stream",
     "text": [
      "Training: 100%|██████████| 1086/1086 [03:47<00:00,  4.78batch/s, loss=0.1931]\n",
      "Validation: 100%|██████████| 233/233 [00:41<00:00,  5.60batch/s]\n"
     ]
    },
    {
     "name": "stdout",
     "output_type": "stream",
     "text": [
      "No improvement in val loss for 2 epoch(s)\n",
      "Epoch 22/50\n"
     ]
    },
    {
     "name": "stderr",
     "output_type": "stream",
     "text": [
      "Training: 100%|██████████| 1086/1086 [03:47<00:00,  4.78batch/s, loss=0.1823]\n",
      "Validation: 100%|██████████| 233/233 [00:41<00:00,  5.61batch/s]\n"
     ]
    },
    {
     "name": "stdout",
     "output_type": "stream",
     "text": [
      "Best model saved at epoch 22\n",
      "Epoch 23/50\n"
     ]
    },
    {
     "name": "stderr",
     "output_type": "stream",
     "text": [
      "Training: 100%|██████████| 1086/1086 [03:47<00:00,  4.78batch/s, loss=0.1776]\n",
      "Validation: 100%|██████████| 233/233 [00:41<00:00,  5.61batch/s]\n"
     ]
    },
    {
     "name": "stdout",
     "output_type": "stream",
     "text": [
      "No improvement in val loss for 1 epoch(s)\n",
      "Epoch 24/50\n"
     ]
    },
    {
     "name": "stderr",
     "output_type": "stream",
     "text": [
      "Training: 100%|██████████| 1086/1086 [03:46<00:00,  4.79batch/s, loss=0.1686]\n",
      "Validation: 100%|██████████| 233/233 [00:41<00:00,  5.63batch/s]\n"
     ]
    },
    {
     "name": "stdout",
     "output_type": "stream",
     "text": [
      "No improvement in val loss for 2 epoch(s)\n",
      "Epoch 25/50\n"
     ]
    },
    {
     "name": "stderr",
     "output_type": "stream",
     "text": [
      "Training: 100%|██████████| 1086/1086 [03:47<00:00,  4.78batch/s, loss=0.1644]\n",
      "Validation: 100%|██████████| 233/233 [00:41<00:00,  5.60batch/s]\n"
     ]
    },
    {
     "name": "stdout",
     "output_type": "stream",
     "text": [
      "No improvement in val loss for 3 epoch(s)\n",
      "Epoch 26/50\n"
     ]
    },
    {
     "name": "stderr",
     "output_type": "stream",
     "text": [
      "Training: 100%|██████████| 1086/1086 [03:47<00:00,  4.77batch/s, loss=0.1523]\n",
      "Validation: 100%|██████████| 233/233 [00:41<00:00,  5.59batch/s]\n"
     ]
    },
    {
     "name": "stdout",
     "output_type": "stream",
     "text": [
      "No improvement in val loss for 4 epoch(s)\n",
      "Epoch 27/50\n"
     ]
    },
    {
     "name": "stderr",
     "output_type": "stream",
     "text": [
      "Training: 100%|██████████| 1086/1086 [03:47<00:00,  4.77batch/s, loss=0.1494]\n",
      "Validation: 100%|██████████| 233/233 [00:41<00:00,  5.67batch/s]\n"
     ]
    },
    {
     "name": "stdout",
     "output_type": "stream",
     "text": [
      "Best model saved at epoch 27\n",
      "Epoch 28/50\n"
     ]
    },
    {
     "name": "stderr",
     "output_type": "stream",
     "text": [
      "Training: 100%|██████████| 1086/1086 [03:47<00:00,  4.78batch/s, loss=0.1392]\n",
      "Validation: 100%|██████████| 233/233 [00:41<00:00,  5.56batch/s]\n"
     ]
    },
    {
     "name": "stdout",
     "output_type": "stream",
     "text": [
      "No improvement in val loss for 1 epoch(s)\n",
      "Epoch 29/50\n"
     ]
    },
    {
     "name": "stderr",
     "output_type": "stream",
     "text": [
      "Training: 100%|██████████| 1086/1086 [03:46<00:00,  4.79batch/s, loss=0.1385]\n",
      "Validation: 100%|██████████| 233/233 [00:41<00:00,  5.68batch/s]\n"
     ]
    },
    {
     "name": "stdout",
     "output_type": "stream",
     "text": [
      "Best model saved at epoch 29\n",
      "Epoch 30/50\n"
     ]
    },
    {
     "name": "stderr",
     "output_type": "stream",
     "text": [
      "Training: 100%|██████████| 1086/1086 [03:46<00:00,  4.80batch/s, loss=0.1318]\n",
      "Validation: 100%|██████████| 233/233 [00:41<00:00,  5.63batch/s]\n"
     ]
    },
    {
     "name": "stdout",
     "output_type": "stream",
     "text": [
      "Best model saved at epoch 30\n",
      "Epoch 31/50\n"
     ]
    },
    {
     "name": "stderr",
     "output_type": "stream",
     "text": [
      "Training: 100%|██████████| 1086/1086 [03:45<00:00,  4.81batch/s, loss=0.1243]\n",
      "Validation: 100%|██████████| 233/233 [00:41<00:00,  5.62batch/s]\n"
     ]
    },
    {
     "name": "stdout",
     "output_type": "stream",
     "text": [
      "No improvement in val loss for 1 epoch(s)\n",
      "Epoch 32/50\n"
     ]
    },
    {
     "name": "stderr",
     "output_type": "stream",
     "text": [
      "Training: 100%|██████████| 1086/1086 [03:46<00:00,  4.80batch/s, loss=0.1249]\n",
      "Validation: 100%|██████████| 233/233 [00:41<00:00,  5.65batch/s]\n"
     ]
    },
    {
     "name": "stdout",
     "output_type": "stream",
     "text": [
      "Best model saved at epoch 32\n",
      "Epoch 33/50\n"
     ]
    },
    {
     "name": "stderr",
     "output_type": "stream",
     "text": [
      "Training: 100%|██████████| 1086/1086 [03:46<00:00,  4.80batch/s, loss=0.1228]\n",
      "Validation: 100%|██████████| 233/233 [00:41<00:00,  5.64batch/s]\n"
     ]
    },
    {
     "name": "stdout",
     "output_type": "stream",
     "text": [
      "No improvement in val loss for 1 epoch(s)\n",
      "Epoch 34/50\n"
     ]
    },
    {
     "name": "stderr",
     "output_type": "stream",
     "text": [
      "Training: 100%|██████████| 1086/1086 [03:46<00:00,  4.80batch/s, loss=0.1147]\n",
      "Validation: 100%|██████████| 233/233 [00:41<00:00,  5.64batch/s]\n"
     ]
    },
    {
     "name": "stdout",
     "output_type": "stream",
     "text": [
      "No improvement in val loss for 2 epoch(s)\n",
      "Epoch 35/50\n"
     ]
    },
    {
     "name": "stderr",
     "output_type": "stream",
     "text": [
      "Training: 100%|██████████| 1086/1086 [03:46<00:00,  4.80batch/s, loss=0.1080]\n",
      "Validation: 100%|██████████| 233/233 [00:41<00:00,  5.59batch/s]\n"
     ]
    },
    {
     "name": "stdout",
     "output_type": "stream",
     "text": [
      "No improvement in val loss for 3 epoch(s)\n",
      "Epoch 36/50\n"
     ]
    },
    {
     "name": "stderr",
     "output_type": "stream",
     "text": [
      "Training: 100%|██████████| 1086/1086 [03:48<00:00,  4.76batch/s, loss=0.1106]\n",
      "Validation: 100%|██████████| 233/233 [00:41<00:00,  5.64batch/s]\n"
     ]
    },
    {
     "name": "stdout",
     "output_type": "stream",
     "text": [
      "No improvement in val loss for 4 epoch(s)\n",
      "Epoch 37/50\n"
     ]
    },
    {
     "name": "stderr",
     "output_type": "stream",
     "text": [
      "Training: 100%|██████████| 1086/1086 [03:46<00:00,  4.79batch/s, loss=0.1036]\n",
      "Validation: 100%|██████████| 233/233 [00:41<00:00,  5.56batch/s]"
     ]
    },
    {
     "name": "stdout",
     "output_type": "stream",
     "text": [
      "No improvement in val loss for 5 epoch(s)\n",
      "Early stopping triggered. Training stopped.\n"
     ]
    },
    {
     "name": "stderr",
     "output_type": "stream",
     "text": [
      "\n"
     ]
    }
   ],
   "source": [
    "import torch\n",
    "import multiModel as mm\n",
    "from multiModel import MultiInputModel\n",
    "from torch.utils.data import DataLoader\n",
    "import torch.optim as optim\n",
    "import torch.nn as nn\n",
    "import os\n",
    "from tqdm import tqdm\n",
    "from sklearn.metrics import accuracy_score, precision_score, recall_score, f1_score\n",
    "#Zapisz wyniki w \n",
    "path_results = \"training_results_80_224_2\"\n",
    "# Utwórz katalog docelowy, jeśli nie istnieje\n",
    "if not os.path.exists(path_results):\n",
    "    print(f\"Katalog '{path_results}' utworzony.\")\n",
    "    # Tworzenie katalogu, jeśli nie istnieje\n",
    "    os.makedirs(path_results, exist_ok=True)\n",
    "\n",
    "# Włącz blokowanie błędów CUDA\n",
    "os.environ['CUDA_LAUNCH_BLOCKING'] = '1'\n",
    "\n",
    "# Załaduj dane\n",
    "train_dataset = mm.MultiInputDataset(\"CSV/dataset/train_80.csv\", transform_rgb=mm.transform_rgb_224, transform_binary=mm.transform_binary_224)\n",
    "val_dataset = mm.MultiInputDataset(\"CSV/dataset/val_80.csv\", transform_rgb=mm.transform_rgb_224, transform_binary=mm.transform_binary_224)\n",
    "test_dataset = mm.MultiInputDataset(\"CSV/dataset/test_80.csv\", transform_rgb=mm.transform_rgb_224, transform_binary=mm.transform_binary_224)\n",
    "\n",
    "\n",
    "# Inicjalizacja modelu\n",
    "model = mm.CustomMultiInputModel(num_classes=11)\n",
    "model = model.to(\"cuda\")  # Jeśli masz GPU\n",
    "\n",
    "#Dynamicznie przydzielany batch_size\n",
    "\n",
    "batch_size = 64\n",
    "model_name = \"mm\" + str(batch_size)\n",
    "train_loader = DataLoader(train_dataset, batch_size=batch_size, shuffle=True)\n",
    "val_loader = DataLoader(val_dataset, batch_size=batch_size, shuffle=False)\n",
    "test_loader = DataLoader(test_dataset, batch_size=batch_size, shuffle=False)\n",
    "\n",
    "# Optymalizator i funkcja straty\n",
    "criterion = nn.CrossEntropyLoss()\n",
    "optimizer = optim.Adam(model.parameters(), lr=0.001)\n",
    "\n",
    "# Zapis logów\n",
    "log_file = f\"{path_results}/training_log_{model_name}.txt\"\n",
    "with open(log_file, \"w\") as f:\n",
    "    f.write(\"epoch,train_loss,val_loss,train_accuracy,val_accuracy,train_precision,val_precision,train_recall,val_recall,train_f1,val_f1\\n\")\n",
    "\n",
    "# Wczesne zatrzymanie - parametry\n",
    "early_stop_patience = 5  # Liczba epok bez poprawy\n",
    "best_val_loss = float(\"inf\")\n",
    "patience_counter = 0\n",
    "best_model_path = f\"{path_results}/best_model_{model_name}.pth\"\n",
    "\n",
    "# Pętla treningowa\n",
    "num_epochs = 50\n",
    "for epoch in range(num_epochs):\n",
    "    # === TRENING ===\n",
    "    print(f\"Epoch {epoch + 1}/{num_epochs}\")\n",
    "    model.train()\n",
    "    train_loss = 0\n",
    "    train_true = []\n",
    "    train_pred = []\n",
    "\n",
    "    # Dodaj pasek postępu do pętli batchy\n",
    "    with tqdm(total=len(train_loader), desc=\"Training\", unit=\"batch\") as pbar:\n",
    "        for t_image, b_image, s_image, labels in train_loader:\n",
    "            t_image, b_image, s_image, labels = (\n",
    "                t_image.to(\"cuda\"),\n",
    "                b_image.to(\"cuda\"),\n",
    "                s_image.to(\"cuda\"),\n",
    "                labels.to(\"cuda\")\n",
    "            )\n",
    "\n",
    "            # Oblicz predykcje i stratę\n",
    "            outputs = model(t_image, b_image, s_image)\n",
    "            loss = criterion(outputs, labels)\n",
    "\n",
    "            # Backpropagation\n",
    "            optimizer.zero_grad()\n",
    "            loss.backward()\n",
    "            optimizer.step()\n",
    "\n",
    "            train_loss += loss.item()\n",
    "            _, predicted = torch.max(outputs, 1)\n",
    "            train_true.extend(labels.cpu().numpy())\n",
    "            train_pred.extend(predicted.cpu().numpy())\n",
    "            pbar.set_postfix({\"loss\": f\"{train_loss / (pbar.n + 1):.4f}\"})  # Wyświetl średnią stratę\n",
    "            pbar.update(1)  # Aktualizuj pasek postępu o 1 krok\n",
    "\n",
    "    train_loss /= len(train_loader)  # Średnia strata w treningu\n",
    "    train_accuracy = accuracy_score(train_true, train_pred)\n",
    "    train_precision = precision_score(train_true, train_pred, average=\"weighted\")\n",
    "    train_recall = recall_score(train_true, train_pred, average=\"weighted\")\n",
    "    train_f1 = f1_score(train_true, train_pred, average=\"weighted\")\n",
    "    #print(f\"Train Loss: {train_loss:.4f}\")\n",
    "\n",
    "    # === WALIDACJA ===\n",
    "    model.eval()\n",
    "    val_loss = 0\n",
    "    val_true = []\n",
    "    val_pred = []\n",
    "\n",
    "    with torch.no_grad():  # Wyłącz gradienty\n",
    "        with tqdm(total=len(val_loader), desc=\"Validation\", unit=\"batch\") as pbar_val:\n",
    "            for t_image, b_image, s_image, labels in val_loader:\n",
    "                t_image, b_image, s_image, labels = (\n",
    "                    t_image.to(\"cuda\"),\n",
    "                    b_image.to(\"cuda\"),\n",
    "                    s_image.to(\"cuda\"),\n",
    "                    labels.to(\"cuda\")\n",
    "                )\n",
    "                outputs = model(t_image, b_image, s_image)\n",
    "                loss = criterion(outputs, labels)\n",
    "                val_loss += loss.item()\n",
    "\n",
    "                _, predicted = torch.max(outputs, 1)\n",
    "                val_true.extend(labels.cpu().numpy())\n",
    "                val_pred.extend(predicted.cpu().numpy())\n",
    "\n",
    "                pbar_val.update(1)  # Aktualizuj pasek postępu walidacji\n",
    "\n",
    "    val_loss /= len(val_loader)  # Średnia strata w walidacji\n",
    "    val_accuracy = accuracy_score(val_true, val_pred)\n",
    "    val_precision = precision_score(val_true, val_pred, average=\"weighted\")\n",
    "    val_recall = recall_score(val_true, val_pred, average=\"weighted\")\n",
    "    val_f1 = f1_score(val_true, val_pred, average=\"weighted\")\n",
    "    #print(f\"Val Loss: {val_loss:.4f}\")\n",
    "\n",
    "    # === LOGI ===\n",
    "    #print(f\"Epoch {epoch + 1}, Train Loss: {train_loss:.4f}, Val Loss: {val_loss:.4f}\")\n",
    "    with open(log_file, \"a\") as f:\n",
    "        f.write(\n",
    "            f\"{epoch + 1},{train_loss:.4f},{val_loss:.4f},{train_accuracy:.4f},{val_accuracy:.4f},\"\n",
    "            f\"{train_precision:.4f},{val_precision:.4f},{train_recall:.4f},{val_recall:.4f},{train_f1:.4f},{val_f1:.4f}\\n\"\n",
    "        )\n",
    "\n",
    "    # === WCZESNE ZATRZYMANIE ===\n",
    "    if val_loss < best_val_loss:\n",
    "        best_val_loss = val_loss\n",
    "        patience_counter = 0\n",
    "        # Zapis najlepszego modelu\n",
    "        torch.save(model, best_model_path) #Zapisanie modelu i architektury w pliku pth\n",
    "        print(f\"Best model saved at epoch {epoch + 1}\")\n",
    "    else:\n",
    "        patience_counter += 1\n",
    "        print(f\"No improvement in val loss for {patience_counter} epoch(s)\")\n",
    "\n",
    "    if patience_counter >= early_stop_patience:\n",
    "        print(\"Early stopping triggered. Training stopped.\")\n",
    "        break\n",
    "    \n"
   ]
  },
  {
   "cell_type": "code",
   "execution_count": 2,
   "metadata": {},
   "outputs": [
    {
     "name": "stderr",
     "output_type": "stream",
     "text": [
      "/tmp/ipykernel_55378/4230748760.py:33: FutureWarning: You are using `torch.load` with `weights_only=False` (the current default value), which uses the default pickle module implicitly. It is possible to construct malicious pickle data which will execute arbitrary code during unpickling (See https://github.com/pytorch/pytorch/blob/main/SECURITY.md#untrusted-models for more details). In a future release, the default value for `weights_only` will be flipped to `True`. This limits the functions that could be executed during unpickling. Arbitrary objects will no longer be allowed to be loaded via this mode unless they are explicitly allowlisted by the user via `torch.serialization.add_safe_globals`. We recommend you start setting `weights_only=True` for any use case where you don't have full control of the loaded file. Please open an issue on GitHub for any issues related to this experimental feature.\n",
      "  model = torch.load(best_model_path)\n",
      "Testing: 100%|██████████| 233/233 [01:06<00:00,  3.52batch/s]\n"
     ]
    },
    {
     "name": "stdout",
     "output_type": "stream",
     "text": [
      "Test results saved to training_results_80_224_2/test_results_mm64.txt\n",
      "Confusion matrix saved to training_results_80_224_2/confusion_matrix_mm64.png\n",
      "Test Loss: 0.2039, Accuracy: 0.9367, Precision: 0.9383, Recall: 0.9367, F1: 0.9366\n"
     ]
    }
   ],
   "source": [
    "import torch\n",
    "from multiModel import MultiInputModel, MultiInputDataset\n",
    "import multiModel as mm\n",
    "from torch.utils.data import DataLoader\n",
    "import torch.nn as nn\n",
    "from sklearn.metrics import confusion_matrix, accuracy_score, precision_score, recall_score, f1_score\n",
    "import matplotlib.pyplot as plt\n",
    "import seaborn as sns\n",
    "import numpy as np\n",
    "import os\n",
    "from tqdm import tqdm\n",
    "\n",
    "# Set CUDA error blocking\n",
    "os.environ['CUDA_LAUNCH_BLOCKING'] = '1'\n",
    "\n",
    "# Paths and parameters\n",
    "path_results = \"training_results_80_224_2\"\n",
    "model_name = \"mm64\"\n",
    "best_model_path = f\"{path_results}/best_model_{model_name}.pth\"\n",
    "test_csv = \"CSV/dataset/test_80.csv\"\n",
    "batch_size = 64\n",
    "num_classes = 11\n",
    "class_names = [str(i) for i in range(num_classes)]  # Update with actual class names if available\n",
    "\n",
    "# Create results directory if it doesn't exist\n",
    "os.makedirs(path_results, exist_ok=True)\n",
    "\n",
    "# Load test dataset\n",
    "test_dataset = MultiInputDataset(test_csv, transform_rgb=mm.transform_rgb_224, transform_binary=mm.transform_binary_224)\n",
    "test_loader = DataLoader(test_dataset, batch_size=batch_size, shuffle=False)\n",
    "\n",
    "# Load the trained model\n",
    "model = torch.load(best_model_path)\n",
    "model = model.to(\"cuda\")\n",
    "model.eval()\n",
    "\n",
    "# Loss function\n",
    "criterion = nn.CrossEntropyLoss()\n",
    "\n",
    "# Test loop\n",
    "test_loss = 0\n",
    "test_true = []\n",
    "test_pred = []\n",
    "\n",
    "with torch.no_grad():\n",
    "    with tqdm(total=len(test_loader), desc=\"Testing\", unit=\"batch\") as pbar:\n",
    "        for t_image, b_image, s_image, labels in test_loader:\n",
    "            t_image, b_image, s_image, labels = (\n",
    "                t_image.to(\"cuda\"),\n",
    "                b_image.to(\"cuda\"),\n",
    "                s_image.to(\"cuda\"),\n",
    "                labels.to(\"cuda\")\n",
    "            )\n",
    "            outputs = model(t_image, b_image, s_image)\n",
    "            loss = criterion(outputs, labels)\n",
    "            test_loss += loss.item()\n",
    "\n",
    "            _, predicted = torch.max(outputs, 1)\n",
    "            test_true.extend(labels.cpu().numpy())\n",
    "            test_pred.extend(predicted.cpu().numpy())\n",
    "            pbar.update(1)\n",
    "\n",
    "# Calculate metrics\n",
    "test_loss /= len(test_loader)\n",
    "test_accuracy = accuracy_score(test_true, test_pred)\n",
    "test_precision = precision_score(test_true, test_pred, average=\"weighted\")\n",
    "test_recall = recall_score(test_true, test_pred, average=\"weighted\")\n",
    "test_f1 = f1_score(test_true, test_pred, average=\"weighted\")\n",
    "\n",
    "# Log test metrics\n",
    "test_log_file = f\"{path_results}/test_results_{model_name}.txt\"\n",
    "with open(test_log_file, \"w\") as f:\n",
    "    f.write(\"test_loss,test_accuracy,test_precision,test_recall,test_f1\\n\")\n",
    "    f.write(f\"{test_loss:.4f},{test_accuracy:.4f},{test_precision:.4f},{test_recall:.4f},{test_f1:.4f}\\n\")\n",
    "\n",
    "# Compute confusion matrix\n",
    "cm = confusion_matrix(test_true, test_pred)\n",
    "\n",
    "# Plot confusion matrix\n",
    "plt.figure(figsize=(10, 8))\n",
    "sns.heatmap(cm, annot=True, fmt=\"d\", cmap=\"Blues\", xticklabels=class_names, yticklabels=class_names)\n",
    "plt.title(\"Confusion Matrix\")\n",
    "plt.xlabel(\"Predicted\")\n",
    "plt.ylabel(\"True\")\n",
    "plt.tight_layout()\n",
    "\n",
    "# Save confusion matrix plot\n",
    "cm_plot_path = f\"{path_results}/confusion_matrix_{model_name}.png\"\n",
    "plt.savefig(cm_plot_path)\n",
    "plt.close()\n",
    "\n",
    "print(f\"Test results saved to {test_log_file}\")\n",
    "print(f\"Confusion matrix saved to {cm_plot_path}\")\n",
    "print(f\"Test Loss: {test_loss:.4f}, Accuracy: {test_accuracy:.4f}, Precision: {test_precision:.4f}, \"\n",
    "      f\"Recall: {test_recall:.4f}, F1: {test_f1:.4f}\")"
   ]
  },
  {
   "cell_type": "markdown",
   "metadata": {},
   "source": [
    "Twój skrypt jest już dobrze zorganizowany i zawiera kluczowe elementy do trenowania modelu klasyfikacji obrazów z różnymi rozmiarami partii (batch sizes) oraz logowaniem metryk klasyfikacyjnych. Jednak w kodzie znajduje się kilka problemów, takich jak błędna pętla modeli (for model), brak testowania na zbiorze testowym oraz brak podsumowania wyników dla wszystkich modeli. Poniżej przedstawiam poprawioną wersję skryptu, uwzględniając typowe podejście stosowane w analizie obrazu i klasyfikacji, w tym:\n",
    "\n",
    "Trening z różnymi hiperparametrami: Iteracja po różnych rozmiarach partii (batch sizes).\n",
    "Metryki klasyfikacyjne: Obliczanie dokładności, precyzji, czułości i F1 dla zbiorów treningowego, walidacyjnego i testowego.\n",
    "Podsumowanie wyników: Generowanie raportu podsumowującego dla wszystkich modeli.\n",
    "Optymalizacja: Uwzględnienie typowych praktyk, takich jak wczesne zatrzymanie, czyszczenie pamięci GPU i zapisywanie wyników.\n",
    "Uwzględnienie najlepszych praktyk: Dodanie testowania na zbiorze testowym i zapis wyników w pliku CSV dla łatwiejszego porównania.\n",
    "Kluczowe zmiany i ulepszenia:\n",
    "\n",
    "Poprawiona pętla modeli: Usunięto błędną konstrukcję for model. Zamiast tego iterujemy po liście batch_size_list, co było intencją autora.\n",
    "Dodanie zbioru testowego: Włączyłem zbiór testowy (test_dataset) i dodałem fazę testowania po zakończeniu treningu dla każdego modelu. Wyniki testowe są zapisywane w podsumowaniu.\n",
    "Funkcja compute_metrics: Wprowadziłem funkcję do obliczania metryk klasyfikacyjnych, co poprawia czytelność i modularność kodu.\n",
    "Podsumowanie wyników: Po zakończeniu treningu dla wszystkich modeli, wyniki (strata, dokładność, precyzja, czułość, F1) są zapisywane w pliku CSV (summary_results.csv) i wyświetlane w konsoli. Dodatkowo generowana jest wizualizacja zależności metryk od rozmiaru partii.\n",
    "Zapis modelu: Zmieniono zapis modelu na torch.save(model.state_dict(), ...) zamiast zapisywania całego obiektu modelu, co jest bardziej standardową praktyką i pozwala na większą elastyczność przy wczytywaniu modelu.\n",
    "Obsługa błędów w metrykach: Dodano parametr zero_division=0 w funkcjach precision_score, recall_score i f1_score, aby uniknąć błędów w przypadku klas bez predykcji.\n",
    "Wizualizacja wyników: Dodano prostą wizualizację wyników testowych (dokładność i F1) w zależności od rozmiaru partii, zapisywaną jako plik PNG.\n",
    "\n",
    "Typowe podejście w analizie obrazu:\n",
    "Naukowcy w dziedzinie analizy obrazu często stosują następujące praktyki, które uwzględniłem w skrypcie:\n",
    "\n",
    "Eksperymentowanie z hiperparametrami: Testowanie różnych rozmiarów partii, szybkości uczenia, architektur modelu itp.\n",
    "Wczesne zatrzymanie: Monitorowanie straty walidacyjnej i zatrzymanie treningu, gdy model przestaje się poprawiać.\n",
    "Logowanie i podsumowanie: Zapisywanie metryk (dokładność, precyzja, F1) dla każdego modelu i porównywanie ich w tabeli lub wizualizacji.\n",
    "Testowanie na osobnym zbiorze: Ocena modelu na zbiorze testowym, aby uzyskać bezstronne oszacowanie wydajności.\n",
    "Czyszczenie pamięci GPU: Ważne przy trenowaniu wielu modeli, aby uniknąć problemów z pamięcią.\n",
    "\n",
    "Uwagi:\n",
    "\n",
    "Dostosowanie hiperparametrów: Możesz rozszerzyć listę testowanych hiperparametrów (np. lr_list = [0.001, 0.0001]) i dodać zagnieżdżoną pętlę dla lr w podobny sposób jak dla batch_size.\n",
    "Transformacje danych: Zakładam, że mm.transform_rgb_224 i mm.transform_binary_224 są odpowiednio zdefiniowane w module multiModel. Upewnij się, że transformacje są odpowiednie dla Twoich danych (np. normalizacja, augmentacja).\n",
    "Zapis modelu: Jeśli chcesz zapisać pełny model (z architekturą), możesz wrócić do torch.save(model, ...) zamiast state_dict, ale pamiętaj o potencjalnych problemach z kompatybilnością.\n",
    "Dodatkowe metryki: Możesz dodać inne metryki, takie jak ROC-AUC, jeśli są odpowiednie dla Twojego zadania."
   ]
  },
  {
   "cell_type": "code",
   "execution_count": 1,
   "metadata": {},
   "outputs": [
    {
     "name": "stdout",
     "output_type": "stream",
     "text": [
      "\n",
      "=== Trening dla batch_size: 16 ===\n",
      "Epoch 1/100\n"
     ]
    },
    {
     "name": "stderr",
     "output_type": "stream",
     "text": [
      "Training: 100%|██████████| 4341/4341 [10:01<00:00,  7.22batch/s, loss=2.3366]\n",
      "Validation: 100%|██████████| 931/931 [01:08<00:00, 13.61batch/s]\n"
     ]
    },
    {
     "name": "stdout",
     "output_type": "stream",
     "text": [
      "Best model saved at epoch 1\n",
      "Epoch 2/100\n"
     ]
    },
    {
     "name": "stderr",
     "output_type": "stream",
     "text": [
      "Training: 100%|██████████| 4341/4341 [08:42<00:00,  8.31batch/s, loss=2.0222]\n",
      "Validation: 100%|██████████| 931/931 [01:00<00:00, 15.37batch/s]\n"
     ]
    },
    {
     "name": "stdout",
     "output_type": "stream",
     "text": [
      "Best model saved at epoch 2\n",
      "Epoch 3/100\n"
     ]
    },
    {
     "name": "stderr",
     "output_type": "stream",
     "text": [
      "Training: 100%|██████████| 4341/4341 [08:24<00:00,  8.60batch/s, loss=1.6241]\n",
      "Validation: 100%|██████████| 931/931 [01:01<00:00, 15.26batch/s]\n"
     ]
    },
    {
     "name": "stdout",
     "output_type": "stream",
     "text": [
      "Best model saved at epoch 3\n",
      "Epoch 4/100\n"
     ]
    },
    {
     "name": "stderr",
     "output_type": "stream",
     "text": [
      "Training: 100%|██████████| 4341/4341 [08:24<00:00,  8.61batch/s, loss=1.2721]\n",
      "Validation: 100%|██████████| 931/931 [01:00<00:00, 15.47batch/s]\n"
     ]
    },
    {
     "name": "stdout",
     "output_type": "stream",
     "text": [
      "Best model saved at epoch 4\n",
      "Epoch 5/100\n"
     ]
    },
    {
     "name": "stderr",
     "output_type": "stream",
     "text": [
      "Training: 100%|██████████| 4341/4341 [08:25<00:00,  8.59batch/s, loss=1.0634]\n",
      "Validation: 100%|██████████| 931/931 [01:00<00:00, 15.46batch/s]\n"
     ]
    },
    {
     "name": "stdout",
     "output_type": "stream",
     "text": [
      "Best model saved at epoch 5\n",
      "Epoch 6/100\n"
     ]
    },
    {
     "name": "stderr",
     "output_type": "stream",
     "text": [
      "Training: 100%|██████████| 4341/4341 [08:23<00:00,  8.62batch/s, loss=0.9127]\n",
      "Validation: 100%|██████████| 931/931 [01:00<00:00, 15.40batch/s]\n"
     ]
    },
    {
     "name": "stdout",
     "output_type": "stream",
     "text": [
      "Best model saved at epoch 6\n",
      "Epoch 7/100\n"
     ]
    },
    {
     "name": "stderr",
     "output_type": "stream",
     "text": [
      "Training: 100%|██████████| 4341/4341 [08:22<00:00,  8.63batch/s, loss=0.8227]\n",
      "Validation: 100%|██████████| 931/931 [01:00<00:00, 15.50batch/s]\n"
     ]
    },
    {
     "name": "stdout",
     "output_type": "stream",
     "text": [
      "Best model saved at epoch 7\n",
      "Epoch 8/100\n"
     ]
    },
    {
     "name": "stderr",
     "output_type": "stream",
     "text": [
      "Training: 100%|██████████| 4341/4341 [08:23<00:00,  8.62batch/s, loss=0.7590]\n",
      "Validation: 100%|██████████| 931/931 [01:00<00:00, 15.50batch/s]\n"
     ]
    },
    {
     "name": "stdout",
     "output_type": "stream",
     "text": [
      "Best model saved at epoch 8\n",
      "Epoch 9/100\n"
     ]
    },
    {
     "name": "stderr",
     "output_type": "stream",
     "text": [
      "Training: 100%|██████████| 4341/4341 [08:23<00:00,  8.62batch/s, loss=0.6992]\n",
      "Validation: 100%|██████████| 931/931 [01:00<00:00, 15.29batch/s]\n"
     ]
    },
    {
     "name": "stdout",
     "output_type": "stream",
     "text": [
      "Best model saved at epoch 9\n",
      "Epoch 10/100\n"
     ]
    },
    {
     "name": "stderr",
     "output_type": "stream",
     "text": [
      "Training: 100%|██████████| 4341/4341 [08:22<00:00,  8.63batch/s, loss=0.6591]\n",
      "Validation: 100%|██████████| 931/931 [01:00<00:00, 15.43batch/s]\n"
     ]
    },
    {
     "name": "stdout",
     "output_type": "stream",
     "text": [
      "No improvement in val loss for 1 epoch(s)\n",
      "Epoch 11/100\n"
     ]
    },
    {
     "name": "stderr",
     "output_type": "stream",
     "text": [
      "Training: 100%|██████████| 4341/4341 [08:21<00:00,  8.65batch/s, loss=0.6234]\n",
      "Validation: 100%|██████████| 931/931 [01:00<00:00, 15.45batch/s]\n"
     ]
    },
    {
     "name": "stdout",
     "output_type": "stream",
     "text": [
      "Best model saved at epoch 11\n",
      "Epoch 12/100\n"
     ]
    },
    {
     "name": "stderr",
     "output_type": "stream",
     "text": [
      "Training: 100%|██████████| 4341/4341 [08:22<00:00,  8.64batch/s, loss=0.5916]\n",
      "Validation: 100%|██████████| 931/931 [01:00<00:00, 15.42batch/s]\n"
     ]
    },
    {
     "name": "stdout",
     "output_type": "stream",
     "text": [
      "Best model saved at epoch 12\n",
      "Epoch 13/100\n"
     ]
    },
    {
     "name": "stderr",
     "output_type": "stream",
     "text": [
      "Training: 100%|██████████| 4341/4341 [08:22<00:00,  8.64batch/s, loss=0.5676]\n",
      "Validation: 100%|██████████| 931/931 [01:00<00:00, 15.48batch/s]\n"
     ]
    },
    {
     "name": "stdout",
     "output_type": "stream",
     "text": [
      "Best model saved at epoch 13\n",
      "Epoch 14/100\n"
     ]
    },
    {
     "name": "stderr",
     "output_type": "stream",
     "text": [
      "Training: 100%|██████████| 4341/4341 [08:22<00:00,  8.64batch/s, loss=0.5467]\n",
      "Validation: 100%|██████████| 931/931 [01:00<00:00, 15.51batch/s]\n"
     ]
    },
    {
     "name": "stdout",
     "output_type": "stream",
     "text": [
      "No improvement in val loss for 1 epoch(s)\n",
      "Epoch 15/100\n"
     ]
    },
    {
     "name": "stderr",
     "output_type": "stream",
     "text": [
      "Training: 100%|██████████| 4341/4341 [08:20<00:00,  8.67batch/s, loss=0.5304]\n",
      "Validation: 100%|██████████| 931/931 [01:00<00:00, 15.39batch/s]\n"
     ]
    },
    {
     "name": "stdout",
     "output_type": "stream",
     "text": [
      "Best model saved at epoch 15\n",
      "Epoch 16/100\n"
     ]
    },
    {
     "name": "stderr",
     "output_type": "stream",
     "text": [
      "Training: 100%|██████████| 4341/4341 [08:21<00:00,  8.66batch/s, loss=0.5155]\n",
      "Validation: 100%|██████████| 931/931 [00:59<00:00, 15.56batch/s]\n"
     ]
    },
    {
     "name": "stdout",
     "output_type": "stream",
     "text": [
      "Best model saved at epoch 16\n",
      "Epoch 17/100\n"
     ]
    },
    {
     "name": "stderr",
     "output_type": "stream",
     "text": [
      "Training: 100%|██████████| 4341/4341 [08:21<00:00,  8.66batch/s, loss=0.4915]\n",
      "Validation: 100%|██████████| 931/931 [00:59<00:00, 15.57batch/s]\n"
     ]
    },
    {
     "name": "stdout",
     "output_type": "stream",
     "text": [
      "Best model saved at epoch 17\n",
      "Epoch 18/100\n"
     ]
    },
    {
     "name": "stderr",
     "output_type": "stream",
     "text": [
      "Training: 100%|██████████| 4341/4341 [08:20<00:00,  8.68batch/s, loss=0.4810]\n",
      "Validation: 100%|██████████| 931/931 [01:00<00:00, 15.45batch/s]\n"
     ]
    },
    {
     "name": "stdout",
     "output_type": "stream",
     "text": [
      "No improvement in val loss for 1 epoch(s)\n",
      "Epoch 19/100\n"
     ]
    },
    {
     "name": "stderr",
     "output_type": "stream",
     "text": [
      "Training: 100%|██████████| 4341/4341 [08:21<00:00,  8.66batch/s, loss=0.4716]\n",
      "Validation: 100%|██████████| 931/931 [00:59<00:00, 15.54batch/s]\n"
     ]
    },
    {
     "name": "stdout",
     "output_type": "stream",
     "text": [
      "Best model saved at epoch 19\n",
      "Epoch 20/100\n"
     ]
    },
    {
     "name": "stderr",
     "output_type": "stream",
     "text": [
      "Training: 100%|██████████| 4341/4341 [08:20<00:00,  8.68batch/s, loss=0.4578]\n",
      "Validation: 100%|██████████| 931/931 [01:00<00:00, 15.46batch/s]\n"
     ]
    },
    {
     "name": "stdout",
     "output_type": "stream",
     "text": [
      "No improvement in val loss for 1 epoch(s)\n",
      "Epoch 21/100\n"
     ]
    },
    {
     "name": "stderr",
     "output_type": "stream",
     "text": [
      "Training: 100%|██████████| 4341/4341 [08:20<00:00,  8.68batch/s, loss=0.4544]\n",
      "Validation: 100%|██████████| 931/931 [01:00<00:00, 15.48batch/s]\n"
     ]
    },
    {
     "name": "stdout",
     "output_type": "stream",
     "text": [
      "Best model saved at epoch 21\n",
      "Epoch 22/100\n"
     ]
    },
    {
     "name": "stderr",
     "output_type": "stream",
     "text": [
      "Training: 100%|██████████| 4341/4341 [08:21<00:00,  8.65batch/s, loss=0.4366]\n",
      "Validation: 100%|██████████| 931/931 [01:00<00:00, 15.48batch/s]\n"
     ]
    },
    {
     "name": "stdout",
     "output_type": "stream",
     "text": [
      "No improvement in val loss for 1 epoch(s)\n",
      "Epoch 23/100\n"
     ]
    },
    {
     "name": "stderr",
     "output_type": "stream",
     "text": [
      "Training: 100%|██████████| 4341/4341 [08:20<00:00,  8.68batch/s, loss=0.4267]\n",
      "Validation: 100%|██████████| 931/931 [00:59<00:00, 15.53batch/s]\n"
     ]
    },
    {
     "name": "stdout",
     "output_type": "stream",
     "text": [
      "No improvement in val loss for 2 epoch(s)\n",
      "Epoch 24/100\n"
     ]
    },
    {
     "name": "stderr",
     "output_type": "stream",
     "text": [
      "Training: 100%|██████████| 4341/4341 [08:19<00:00,  8.69batch/s, loss=0.4229]\n",
      "Validation: 100%|██████████| 931/931 [01:00<00:00, 15.48batch/s]\n"
     ]
    },
    {
     "name": "stdout",
     "output_type": "stream",
     "text": [
      "Best model saved at epoch 24\n",
      "Epoch 25/100\n"
     ]
    },
    {
     "name": "stderr",
     "output_type": "stream",
     "text": [
      "Training: 100%|██████████| 4341/4341 [08:20<00:00,  8.68batch/s, loss=0.4174]\n",
      "Validation: 100%|██████████| 931/931 [00:59<00:00, 15.58batch/s]\n"
     ]
    },
    {
     "name": "stdout",
     "output_type": "stream",
     "text": [
      "Best model saved at epoch 25\n",
      "Epoch 26/100\n"
     ]
    },
    {
     "name": "stderr",
     "output_type": "stream",
     "text": [
      "Training: 100%|██████████| 4341/4341 [08:20<00:00,  8.68batch/s, loss=0.4083]\n",
      "Validation: 100%|██████████| 931/931 [01:00<00:00, 15.47batch/s]\n"
     ]
    },
    {
     "name": "stdout",
     "output_type": "stream",
     "text": [
      "No improvement in val loss for 1 epoch(s)\n",
      "Epoch 27/100\n"
     ]
    },
    {
     "name": "stderr",
     "output_type": "stream",
     "text": [
      "Training: 100%|██████████| 4341/4341 [08:20<00:00,  8.67batch/s, loss=0.4046]\n",
      "Validation: 100%|██████████| 931/931 [01:00<00:00, 15.42batch/s]\n"
     ]
    },
    {
     "name": "stdout",
     "output_type": "stream",
     "text": [
      "No improvement in val loss for 2 epoch(s)\n",
      "Epoch 28/100\n"
     ]
    },
    {
     "name": "stderr",
     "output_type": "stream",
     "text": [
      "Training: 100%|██████████| 4341/4341 [08:20<00:00,  8.68batch/s, loss=0.3970]\n",
      "Validation: 100%|██████████| 931/931 [01:00<00:00, 15.50batch/s]\n"
     ]
    },
    {
     "name": "stdout",
     "output_type": "stream",
     "text": [
      "No improvement in val loss for 3 epoch(s)\n",
      "Epoch 29/100\n"
     ]
    },
    {
     "name": "stderr",
     "output_type": "stream",
     "text": [
      "Training: 100%|██████████| 4341/4341 [08:21<00:00,  8.65batch/s, loss=0.3893]\n",
      "Validation: 100%|██████████| 931/931 [00:59<00:00, 15.53batch/s]\n"
     ]
    },
    {
     "name": "stdout",
     "output_type": "stream",
     "text": [
      "No improvement in val loss for 4 epoch(s)\n",
      "Epoch 30/100\n"
     ]
    },
    {
     "name": "stderr",
     "output_type": "stream",
     "text": [
      "Training: 100%|██████████| 4341/4341 [08:21<00:00,  8.66batch/s, loss=0.3839]\n",
      "Validation: 100%|██████████| 931/931 [01:00<00:00, 15.50batch/s]\n"
     ]
    },
    {
     "name": "stdout",
     "output_type": "stream",
     "text": [
      "Best model saved at epoch 30\n",
      "Epoch 31/100\n"
     ]
    },
    {
     "name": "stderr",
     "output_type": "stream",
     "text": [
      "Training: 100%|██████████| 4341/4341 [08:22<00:00,  8.65batch/s, loss=0.3823]\n",
      "Validation: 100%|██████████| 931/931 [00:59<00:00, 15.58batch/s]\n"
     ]
    },
    {
     "name": "stdout",
     "output_type": "stream",
     "text": [
      "Best model saved at epoch 31\n",
      "Epoch 32/100\n"
     ]
    },
    {
     "name": "stderr",
     "output_type": "stream",
     "text": [
      "Training: 100%|██████████| 4341/4341 [08:24<00:00,  8.60batch/s, loss=0.3785]\n",
      "Validation: 100%|██████████| 931/931 [01:00<00:00, 15.45batch/s]\n"
     ]
    },
    {
     "name": "stdout",
     "output_type": "stream",
     "text": [
      "No improvement in val loss for 1 epoch(s)\n",
      "Epoch 33/100\n"
     ]
    },
    {
     "name": "stderr",
     "output_type": "stream",
     "text": [
      "Training: 100%|██████████| 4341/4341 [08:30<00:00,  8.50batch/s, loss=0.3718]\n",
      "Validation: 100%|██████████| 931/931 [01:02<00:00, 14.83batch/s]\n"
     ]
    },
    {
     "name": "stdout",
     "output_type": "stream",
     "text": [
      "Best model saved at epoch 33\n",
      "Epoch 34/100\n"
     ]
    },
    {
     "name": "stderr",
     "output_type": "stream",
     "text": [
      "Training: 100%|██████████| 4341/4341 [08:44<00:00,  8.27batch/s, loss=0.3692]\n",
      "Validation: 100%|██████████| 931/931 [01:02<00:00, 14.81batch/s]\n"
     ]
    },
    {
     "name": "stdout",
     "output_type": "stream",
     "text": [
      "No improvement in val loss for 1 epoch(s)\n",
      "Epoch 35/100\n"
     ]
    },
    {
     "name": "stderr",
     "output_type": "stream",
     "text": [
      "Training: 100%|██████████| 4341/4341 [08:32<00:00,  8.47batch/s, loss=0.3633]\n",
      "Validation: 100%|██████████| 931/931 [01:00<00:00, 15.47batch/s]\n"
     ]
    },
    {
     "name": "stdout",
     "output_type": "stream",
     "text": [
      "Best model saved at epoch 35\n",
      "Epoch 36/100\n"
     ]
    },
    {
     "name": "stderr",
     "output_type": "stream",
     "text": [
      "Training: 100%|██████████| 4341/4341 [08:17<00:00,  8.72batch/s, loss=0.3595]\n",
      "Validation: 100%|██████████| 931/931 [00:59<00:00, 15.52batch/s]\n"
     ]
    },
    {
     "name": "stdout",
     "output_type": "stream",
     "text": [
      "No improvement in val loss for 1 epoch(s)\n",
      "Epoch 37/100\n"
     ]
    },
    {
     "name": "stderr",
     "output_type": "stream",
     "text": [
      "Training: 100%|██████████| 4341/4341 [08:18<00:00,  8.71batch/s, loss=0.3584]\n",
      "Validation: 100%|██████████| 931/931 [00:59<00:00, 15.65batch/s]\n"
     ]
    },
    {
     "name": "stdout",
     "output_type": "stream",
     "text": [
      "No improvement in val loss for 2 epoch(s)\n",
      "Epoch 38/100\n"
     ]
    },
    {
     "name": "stderr",
     "output_type": "stream",
     "text": [
      "Training: 100%|██████████| 4341/4341 [08:17<00:00,  8.72batch/s, loss=0.3537]\n",
      "Validation: 100%|██████████| 931/931 [00:59<00:00, 15.59batch/s]\n"
     ]
    },
    {
     "name": "stdout",
     "output_type": "stream",
     "text": [
      "No improvement in val loss for 3 epoch(s)\n",
      "Epoch 39/100\n"
     ]
    },
    {
     "name": "stderr",
     "output_type": "stream",
     "text": [
      "Training: 100%|██████████| 4341/4341 [08:19<00:00,  8.70batch/s, loss=0.3468]\n",
      "Validation: 100%|██████████| 931/931 [01:05<00:00, 14.19batch/s]\n"
     ]
    },
    {
     "name": "stdout",
     "output_type": "stream",
     "text": [
      "No improvement in val loss for 4 epoch(s)\n",
      "Epoch 40/100\n"
     ]
    },
    {
     "name": "stderr",
     "output_type": "stream",
     "text": [
      "Training: 100%|██████████| 4341/4341 [08:50<00:00,  8.18batch/s, loss=0.3510]\n",
      "Validation: 100%|██████████| 931/931 [01:02<00:00, 14.83batch/s]\n"
     ]
    },
    {
     "name": "stdout",
     "output_type": "stream",
     "text": [
      "Best model saved at epoch 40\n",
      "Epoch 41/100\n"
     ]
    },
    {
     "name": "stderr",
     "output_type": "stream",
     "text": [
      "Training: 100%|██████████| 4341/4341 [08:46<00:00,  8.24batch/s, loss=0.3454]\n",
      "Validation: 100%|██████████| 931/931 [01:00<00:00, 15.49batch/s]\n"
     ]
    },
    {
     "name": "stdout",
     "output_type": "stream",
     "text": [
      "No improvement in val loss for 1 epoch(s)\n",
      "Epoch 42/100\n"
     ]
    },
    {
     "name": "stderr",
     "output_type": "stream",
     "text": [
      "Training: 100%|██████████| 4341/4341 [08:21<00:00,  8.65batch/s, loss=0.3456]\n",
      "Validation: 100%|██████████| 931/931 [01:00<00:00, 15.42batch/s]\n"
     ]
    },
    {
     "name": "stdout",
     "output_type": "stream",
     "text": [
      "No improvement in val loss for 2 epoch(s)\n",
      "Epoch 43/100\n"
     ]
    },
    {
     "name": "stderr",
     "output_type": "stream",
     "text": [
      "Training: 100%|██████████| 4341/4341 [08:22<00:00,  8.64batch/s, loss=0.3339]\n",
      "Validation: 100%|██████████| 931/931 [01:00<00:00, 15.51batch/s]\n"
     ]
    },
    {
     "name": "stdout",
     "output_type": "stream",
     "text": [
      "No improvement in val loss for 3 epoch(s)\n",
      "Epoch 44/100\n"
     ]
    },
    {
     "name": "stderr",
     "output_type": "stream",
     "text": [
      "Training: 100%|██████████| 4341/4341 [08:16<00:00,  8.74batch/s, loss=0.3348]\n",
      "Validation: 100%|██████████| 931/931 [00:59<00:00, 15.53batch/s]\n"
     ]
    },
    {
     "name": "stdout",
     "output_type": "stream",
     "text": [
      "No improvement in val loss for 4 epoch(s)\n",
      "Epoch 45/100\n"
     ]
    },
    {
     "name": "stderr",
     "output_type": "stream",
     "text": [
      "Training: 100%|██████████| 4341/4341 [08:19<00:00,  8.69batch/s, loss=0.3338]\n",
      "Validation: 100%|██████████| 931/931 [01:00<00:00, 15.47batch/s]\n"
     ]
    },
    {
     "name": "stdout",
     "output_type": "stream",
     "text": [
      "No improvement in val loss for 5 epoch(s)\n",
      "Epoch 46/100\n"
     ]
    },
    {
     "name": "stderr",
     "output_type": "stream",
     "text": [
      "Training: 100%|██████████| 4341/4341 [08:19<00:00,  8.69batch/s, loss=0.3351]\n",
      "Validation: 100%|██████████| 931/931 [01:00<00:00, 15.51batch/s]\n"
     ]
    },
    {
     "name": "stdout",
     "output_type": "stream",
     "text": [
      "Best model saved at epoch 46\n",
      "Epoch 47/100\n"
     ]
    },
    {
     "name": "stderr",
     "output_type": "stream",
     "text": [
      "Training: 100%|██████████| 4341/4341 [08:20<00:00,  8.68batch/s, loss=0.3310]\n",
      "Validation: 100%|██████████| 931/931 [00:59<00:00, 15.63batch/s]\n"
     ]
    },
    {
     "name": "stdout",
     "output_type": "stream",
     "text": [
      "No improvement in val loss for 1 epoch(s)\n",
      "Epoch 48/100\n"
     ]
    },
    {
     "name": "stderr",
     "output_type": "stream",
     "text": [
      "Training: 100%|██████████| 4341/4341 [08:19<00:00,  8.69batch/s, loss=0.3294]\n",
      "Validation: 100%|██████████| 931/931 [01:00<00:00, 15.39batch/s]\n"
     ]
    },
    {
     "name": "stdout",
     "output_type": "stream",
     "text": [
      "No improvement in val loss for 2 epoch(s)\n",
      "Epoch 49/100\n"
     ]
    },
    {
     "name": "stderr",
     "output_type": "stream",
     "text": [
      "Training: 100%|██████████| 4341/4341 [08:17<00:00,  8.72batch/s, loss=0.3217]\n",
      "Validation: 100%|██████████| 931/931 [00:59<00:00, 15.60batch/s]\n"
     ]
    },
    {
     "name": "stdout",
     "output_type": "stream",
     "text": [
      "No improvement in val loss for 3 epoch(s)\n",
      "Epoch 50/100\n"
     ]
    },
    {
     "name": "stderr",
     "output_type": "stream",
     "text": [
      "Training: 100%|██████████| 4341/4341 [08:19<00:00,  8.69batch/s, loss=0.3213]\n",
      "Validation: 100%|██████████| 931/931 [00:59<00:00, 15.56batch/s]\n"
     ]
    },
    {
     "name": "stdout",
     "output_type": "stream",
     "text": [
      "No improvement in val loss for 4 epoch(s)\n",
      "Epoch 51/100\n"
     ]
    },
    {
     "name": "stderr",
     "output_type": "stream",
     "text": [
      "Training: 100%|██████████| 4341/4341 [08:18<00:00,  8.70batch/s, loss=0.3213]\n",
      "Validation: 100%|██████████| 931/931 [00:59<00:00, 15.54batch/s]\n"
     ]
    },
    {
     "name": "stdout",
     "output_type": "stream",
     "text": [
      "Best model saved at epoch 51\n",
      "Epoch 52/100\n"
     ]
    },
    {
     "name": "stderr",
     "output_type": "stream",
     "text": [
      "Training: 100%|██████████| 4341/4341 [08:18<00:00,  8.71batch/s, loss=0.3131]\n",
      "Validation: 100%|██████████| 931/931 [00:59<00:00, 15.64batch/s]\n"
     ]
    },
    {
     "name": "stdout",
     "output_type": "stream",
     "text": [
      "No improvement in val loss for 1 epoch(s)\n",
      "Epoch 53/100\n"
     ]
    },
    {
     "name": "stderr",
     "output_type": "stream",
     "text": [
      "Training: 100%|██████████| 4341/4341 [08:19<00:00,  8.70batch/s, loss=0.3150]\n",
      "Validation: 100%|██████████| 931/931 [00:59<00:00, 15.66batch/s]\n"
     ]
    },
    {
     "name": "stdout",
     "output_type": "stream",
     "text": [
      "No improvement in val loss for 2 epoch(s)\n",
      "Epoch 54/100\n"
     ]
    },
    {
     "name": "stderr",
     "output_type": "stream",
     "text": [
      "Training: 100%|██████████| 4341/4341 [08:19<00:00,  8.69batch/s, loss=0.3146]\n",
      "Validation: 100%|██████████| 931/931 [00:59<00:00, 15.52batch/s]\n"
     ]
    },
    {
     "name": "stdout",
     "output_type": "stream",
     "text": [
      "Best model saved at epoch 54\n",
      "Epoch 55/100\n"
     ]
    },
    {
     "name": "stderr",
     "output_type": "stream",
     "text": [
      "Training: 100%|██████████| 4341/4341 [08:20<00:00,  8.68batch/s, loss=0.3112]\n",
      "Validation: 100%|██████████| 931/931 [00:59<00:00, 15.56batch/s]\n"
     ]
    },
    {
     "name": "stdout",
     "output_type": "stream",
     "text": [
      "No improvement in val loss for 1 epoch(s)\n",
      "Epoch 56/100\n"
     ]
    },
    {
     "name": "stderr",
     "output_type": "stream",
     "text": [
      "Training: 100%|██████████| 4341/4341 [08:21<00:00,  8.66batch/s, loss=0.3100]\n",
      "Validation: 100%|██████████| 931/931 [00:59<00:00, 15.66batch/s]\n"
     ]
    },
    {
     "name": "stdout",
     "output_type": "stream",
     "text": [
      "No improvement in val loss for 2 epoch(s)\n",
      "Epoch 57/100\n"
     ]
    },
    {
     "name": "stderr",
     "output_type": "stream",
     "text": [
      "Training: 100%|██████████| 4341/4341 [08:19<00:00,  8.68batch/s, loss=0.3069]\n",
      "Validation: 100%|██████████| 931/931 [00:59<00:00, 15.56batch/s]\n"
     ]
    },
    {
     "name": "stdout",
     "output_type": "stream",
     "text": [
      "No improvement in val loss for 3 epoch(s)\n",
      "Epoch 58/100\n"
     ]
    },
    {
     "name": "stderr",
     "output_type": "stream",
     "text": [
      "Training: 100%|██████████| 4341/4341 [08:18<00:00,  8.70batch/s, loss=0.3072]\n",
      "Validation: 100%|██████████| 931/931 [00:59<00:00, 15.56batch/s]\n"
     ]
    },
    {
     "name": "stdout",
     "output_type": "stream",
     "text": [
      "No improvement in val loss for 4 epoch(s)\n",
      "Epoch 59/100\n"
     ]
    },
    {
     "name": "stderr",
     "output_type": "stream",
     "text": [
      "Training: 100%|██████████| 4341/4341 [08:18<00:00,  8.71batch/s, loss=0.3123]\n",
      "Validation: 100%|██████████| 931/931 [00:59<00:00, 15.57batch/s]\n"
     ]
    },
    {
     "name": "stdout",
     "output_type": "stream",
     "text": [
      "No improvement in val loss for 5 epoch(s)\n",
      "Epoch 60/100\n"
     ]
    },
    {
     "name": "stderr",
     "output_type": "stream",
     "text": [
      "Training: 100%|██████████| 4341/4341 [08:16<00:00,  8.74batch/s, loss=0.3032]\n",
      "Validation: 100%|██████████| 931/931 [00:59<00:00, 15.58batch/s]\n"
     ]
    },
    {
     "name": "stdout",
     "output_type": "stream",
     "text": [
      "No improvement in val loss for 6 epoch(s)\n",
      "Epoch 61/100\n"
     ]
    },
    {
     "name": "stderr",
     "output_type": "stream",
     "text": [
      "Training: 100%|██████████| 4341/4341 [08:18<00:00,  8.70batch/s, loss=0.3031]\n",
      "Validation: 100%|██████████| 931/931 [00:59<00:00, 15.52batch/s]\n"
     ]
    },
    {
     "name": "stdout",
     "output_type": "stream",
     "text": [
      "No improvement in val loss for 7 epoch(s)\n",
      "Epoch 62/100\n"
     ]
    },
    {
     "name": "stderr",
     "output_type": "stream",
     "text": [
      "Training: 100%|██████████| 4341/4341 [08:18<00:00,  8.70batch/s, loss=0.3011]\n",
      "Validation: 100%|██████████| 931/931 [00:59<00:00, 15.54batch/s]\n"
     ]
    },
    {
     "name": "stdout",
     "output_type": "stream",
     "text": [
      "No improvement in val loss for 8 epoch(s)\n",
      "Epoch 63/100\n"
     ]
    },
    {
     "name": "stderr",
     "output_type": "stream",
     "text": [
      "Training: 100%|██████████| 4341/4341 [08:18<00:00,  8.71batch/s, loss=0.3005]\n",
      "Validation: 100%|██████████| 931/931 [00:59<00:00, 15.57batch/s]\n"
     ]
    },
    {
     "name": "stdout",
     "output_type": "stream",
     "text": [
      "Best model saved at epoch 63\n",
      "Epoch 64/100\n"
     ]
    },
    {
     "name": "stderr",
     "output_type": "stream",
     "text": [
      "Training: 100%|██████████| 4341/4341 [08:20<00:00,  8.67batch/s, loss=0.2995]\n",
      "Validation: 100%|██████████| 931/931 [00:59<00:00, 15.56batch/s]\n"
     ]
    },
    {
     "name": "stdout",
     "output_type": "stream",
     "text": [
      "No improvement in val loss for 1 epoch(s)\n",
      "Epoch 65/100\n"
     ]
    },
    {
     "name": "stderr",
     "output_type": "stream",
     "text": [
      "Training: 100%|██████████| 4341/4341 [08:21<00:00,  8.65batch/s, loss=0.3006]\n",
      "Validation: 100%|██████████| 931/931 [00:59<00:00, 15.61batch/s]\n"
     ]
    },
    {
     "name": "stdout",
     "output_type": "stream",
     "text": [
      "No improvement in val loss for 2 epoch(s)\n",
      "Epoch 66/100\n"
     ]
    },
    {
     "name": "stderr",
     "output_type": "stream",
     "text": [
      "Training: 100%|██████████| 4341/4341 [08:20<00:00,  8.68batch/s, loss=0.2974]\n",
      "Validation: 100%|██████████| 931/931 [01:00<00:00, 15.50batch/s]\n"
     ]
    },
    {
     "name": "stdout",
     "output_type": "stream",
     "text": [
      "No improvement in val loss for 3 epoch(s)\n",
      "Epoch 67/100\n"
     ]
    },
    {
     "name": "stderr",
     "output_type": "stream",
     "text": [
      "Training: 100%|██████████| 4341/4341 [08:18<00:00,  8.70batch/s, loss=0.2923]\n",
      "Validation: 100%|██████████| 931/931 [00:59<00:00, 15.60batch/s]\n"
     ]
    },
    {
     "name": "stdout",
     "output_type": "stream",
     "text": [
      "No improvement in val loss for 4 epoch(s)\n",
      "Epoch 68/100\n"
     ]
    },
    {
     "name": "stderr",
     "output_type": "stream",
     "text": [
      "Training: 100%|██████████| 4341/4341 [08:19<00:00,  8.69batch/s, loss=0.2973]\n",
      "Validation: 100%|██████████| 931/931 [00:59<00:00, 15.55batch/s]\n"
     ]
    },
    {
     "name": "stdout",
     "output_type": "stream",
     "text": [
      "No improvement in val loss for 5 epoch(s)\n",
      "Epoch 69/100\n"
     ]
    },
    {
     "name": "stderr",
     "output_type": "stream",
     "text": [
      "Training: 100%|██████████| 4341/4341 [08:18<00:00,  8.70batch/s, loss=0.2877]\n",
      "Validation: 100%|██████████| 931/931 [00:59<00:00, 15.61batch/s]\n"
     ]
    },
    {
     "name": "stdout",
     "output_type": "stream",
     "text": [
      "No improvement in val loss for 6 epoch(s)\n",
      "Epoch 70/100\n"
     ]
    },
    {
     "name": "stderr",
     "output_type": "stream",
     "text": [
      "Training: 100%|██████████| 4341/4341 [08:19<00:00,  8.68batch/s, loss=0.2878]\n",
      "Validation: 100%|██████████| 931/931 [00:59<00:00, 15.72batch/s]\n"
     ]
    },
    {
     "name": "stdout",
     "output_type": "stream",
     "text": [
      "No improvement in val loss for 7 epoch(s)\n",
      "Epoch 71/100\n"
     ]
    },
    {
     "name": "stderr",
     "output_type": "stream",
     "text": [
      "Training: 100%|██████████| 4341/4341 [08:19<00:00,  8.68batch/s, loss=0.2862]\n",
      "Validation: 100%|██████████| 931/931 [00:59<00:00, 15.58batch/s]\n"
     ]
    },
    {
     "name": "stdout",
     "output_type": "stream",
     "text": [
      "No improvement in val loss for 8 epoch(s)\n",
      "Epoch 72/100\n"
     ]
    },
    {
     "name": "stderr",
     "output_type": "stream",
     "text": [
      "Training: 100%|██████████| 4341/4341 [08:21<00:00,  8.66batch/s, loss=0.2899]\n",
      "Validation: 100%|██████████| 931/931 [00:59<00:00, 15.53batch/s]\n"
     ]
    },
    {
     "name": "stdout",
     "output_type": "stream",
     "text": [
      "No improvement in val loss for 9 epoch(s)\n",
      "Epoch 73/100\n"
     ]
    },
    {
     "name": "stderr",
     "output_type": "stream",
     "text": [
      "Training: 100%|██████████| 4341/4341 [08:20<00:00,  8.67batch/s, loss=0.2894]\n",
      "Validation: 100%|██████████| 931/931 [00:59<00:00, 15.58batch/s]\n",
      "/tmp/ipykernel_69104/673473184.py:153: FutureWarning: You are using `torch.load` with `weights_only=False` (the current default value), which uses the default pickle module implicitly. It is possible to construct malicious pickle data which will execute arbitrary code during unpickling (See https://github.com/pytorch/pytorch/blob/main/SECURITY.md#untrusted-models for more details). In a future release, the default value for `weights_only` will be flipped to `True`. This limits the functions that could be executed during unpickling. Arbitrary objects will no longer be allowed to be loaded via this mode unless they are explicitly allowlisted by the user via `torch.serialization.add_safe_globals`. We recommend you start setting `weights_only=True` for any use case where you don't have full control of the loaded file. Please open an issue on GitHub for any issues related to this experimental feature.\n",
      "  model.load_state_dict(torch.load(best_model_path))\n"
     ]
    },
    {
     "name": "stdout",
     "output_type": "stream",
     "text": [
      "No improvement in val loss for 10 epoch(s)\n",
      "Early stopping triggered. Training stopped.\n",
      "\n",
      "=== Testowanie modelu dla batch_size: 16 ===\n"
     ]
    },
    {
     "name": "stderr",
     "output_type": "stream",
     "text": [
      "Testing: 100%|██████████| 931/931 [01:03<00:00, 14.75batch/s]\n"
     ]
    },
    {
     "name": "stdout",
     "output_type": "stream",
     "text": [
      "\n",
      "=== Trening dla batch_size: 32 ===\n",
      "Epoch 1/100\n"
     ]
    },
    {
     "name": "stderr",
     "output_type": "stream",
     "text": [
      "Training: 100%|██████████| 2171/2171 [07:58<00:00,  4.54batch/s, loss=2.2838]\n",
      "Validation: 100%|██████████| 466/466 [00:58<00:00,  7.97batch/s]\n"
     ]
    },
    {
     "name": "stdout",
     "output_type": "stream",
     "text": [
      "Best model saved at epoch 1\n",
      "Epoch 2/100\n"
     ]
    },
    {
     "name": "stderr",
     "output_type": "stream",
     "text": [
      "Training: 100%|██████████| 2171/2171 [07:57<00:00,  4.55batch/s, loss=1.8856]\n",
      "Validation: 100%|██████████| 466/466 [00:58<00:00,  7.97batch/s]\n"
     ]
    },
    {
     "name": "stdout",
     "output_type": "stream",
     "text": [
      "Best model saved at epoch 2\n",
      "Epoch 3/100\n"
     ]
    },
    {
     "name": "stderr",
     "output_type": "stream",
     "text": [
      "Training: 100%|██████████| 2171/2171 [07:57<00:00,  4.54batch/s, loss=1.5277]\n",
      "Validation: 100%|██████████| 466/466 [00:58<00:00,  7.96batch/s]\n"
     ]
    },
    {
     "name": "stdout",
     "output_type": "stream",
     "text": [
      "Best model saved at epoch 3\n",
      "Epoch 4/100\n"
     ]
    },
    {
     "name": "stderr",
     "output_type": "stream",
     "text": [
      "Training: 100%|██████████| 2171/2171 [07:57<00:00,  4.55batch/s, loss=1.2163]\n",
      "Validation: 100%|██████████| 466/466 [00:59<00:00,  7.85batch/s]\n"
     ]
    },
    {
     "name": "stdout",
     "output_type": "stream",
     "text": [
      "Best model saved at epoch 4\n",
      "Epoch 5/100\n"
     ]
    },
    {
     "name": "stderr",
     "output_type": "stream",
     "text": [
      "Training: 100%|██████████| 2171/2171 [07:58<00:00,  4.54batch/s, loss=1.0152]\n",
      "Validation: 100%|██████████| 466/466 [00:58<00:00,  7.92batch/s]\n"
     ]
    },
    {
     "name": "stdout",
     "output_type": "stream",
     "text": [
      "Best model saved at epoch 5\n",
      "Epoch 6/100\n"
     ]
    },
    {
     "name": "stderr",
     "output_type": "stream",
     "text": [
      "Training: 100%|██████████| 2171/2171 [07:57<00:00,  4.55batch/s, loss=0.8608]\n",
      "Validation: 100%|██████████| 466/466 [00:58<00:00,  7.97batch/s]\n"
     ]
    },
    {
     "name": "stdout",
     "output_type": "stream",
     "text": [
      "Best model saved at epoch 6\n",
      "Epoch 7/100\n"
     ]
    },
    {
     "name": "stderr",
     "output_type": "stream",
     "text": [
      "Training: 100%|██████████| 2171/2171 [07:57<00:00,  4.55batch/s, loss=0.7624]\n",
      "Validation: 100%|██████████| 466/466 [00:58<00:00,  7.94batch/s]\n"
     ]
    },
    {
     "name": "stdout",
     "output_type": "stream",
     "text": [
      "Best model saved at epoch 7\n",
      "Epoch 8/100\n"
     ]
    },
    {
     "name": "stderr",
     "output_type": "stream",
     "text": [
      "Training: 100%|██████████| 2171/2171 [07:57<00:00,  4.54batch/s, loss=0.6759]\n",
      "Validation: 100%|██████████| 466/466 [00:58<00:00,  7.92batch/s]\n"
     ]
    },
    {
     "name": "stdout",
     "output_type": "stream",
     "text": [
      "Best model saved at epoch 8\n",
      "Epoch 9/100\n"
     ]
    },
    {
     "name": "stderr",
     "output_type": "stream",
     "text": [
      "Training: 100%|██████████| 2171/2171 [07:57<00:00,  4.55batch/s, loss=0.6132]\n",
      "Validation: 100%|██████████| 466/466 [00:58<00:00,  8.02batch/s]\n"
     ]
    },
    {
     "name": "stdout",
     "output_type": "stream",
     "text": [
      "Best model saved at epoch 9\n",
      "Epoch 10/100\n"
     ]
    },
    {
     "name": "stderr",
     "output_type": "stream",
     "text": [
      "Training: 100%|██████████| 2171/2171 [07:57<00:00,  4.54batch/s, loss=0.5610]\n",
      "Validation: 100%|██████████| 466/466 [00:58<00:00,  7.95batch/s]\n"
     ]
    },
    {
     "name": "stdout",
     "output_type": "stream",
     "text": [
      "Best model saved at epoch 10\n",
      "Epoch 11/100\n"
     ]
    },
    {
     "name": "stderr",
     "output_type": "stream",
     "text": [
      "Training: 100%|██████████| 2171/2171 [07:56<00:00,  4.56batch/s, loss=0.5148]\n",
      "Validation: 100%|██████████| 466/466 [00:58<00:00,  7.91batch/s]\n"
     ]
    },
    {
     "name": "stdout",
     "output_type": "stream",
     "text": [
      "No improvement in val loss for 1 epoch(s)\n",
      "Epoch 12/100\n"
     ]
    },
    {
     "name": "stderr",
     "output_type": "stream",
     "text": [
      "Training: 100%|██████████| 2171/2171 [07:57<00:00,  4.55batch/s, loss=0.4804]\n",
      "Validation: 100%|██████████| 466/466 [00:56<00:00,  8.22batch/s]\n"
     ]
    },
    {
     "name": "stdout",
     "output_type": "stream",
     "text": [
      "Best model saved at epoch 12\n",
      "Epoch 13/100\n"
     ]
    },
    {
     "name": "stderr",
     "output_type": "stream",
     "text": [
      "Training: 100%|██████████| 2171/2171 [07:56<00:00,  4.55batch/s, loss=0.4577]\n",
      "Validation: 100%|██████████| 466/466 [00:58<00:00,  7.94batch/s]\n"
     ]
    },
    {
     "name": "stdout",
     "output_type": "stream",
     "text": [
      "No improvement in val loss for 1 epoch(s)\n",
      "Epoch 14/100\n"
     ]
    },
    {
     "name": "stderr",
     "output_type": "stream",
     "text": [
      "Training: 100%|██████████| 2171/2171 [07:56<00:00,  4.55batch/s, loss=0.4292]\n",
      "Validation: 100%|██████████| 466/466 [00:58<00:00,  7.96batch/s]\n"
     ]
    },
    {
     "name": "stdout",
     "output_type": "stream",
     "text": [
      "No improvement in val loss for 2 epoch(s)\n",
      "Epoch 15/100\n"
     ]
    },
    {
     "name": "stderr",
     "output_type": "stream",
     "text": [
      "Training: 100%|██████████| 2171/2171 [07:56<00:00,  4.56batch/s, loss=0.4130]\n",
      "Validation: 100%|██████████| 466/466 [00:58<00:00,  8.00batch/s]\n"
     ]
    },
    {
     "name": "stdout",
     "output_type": "stream",
     "text": [
      "Best model saved at epoch 15\n",
      "Epoch 16/100\n"
     ]
    },
    {
     "name": "stderr",
     "output_type": "stream",
     "text": [
      "Training: 100%|██████████| 2171/2171 [07:56<00:00,  4.55batch/s, loss=0.3858]\n",
      "Validation: 100%|██████████| 466/466 [00:58<00:00,  7.92batch/s]\n"
     ]
    },
    {
     "name": "stdout",
     "output_type": "stream",
     "text": [
      "No improvement in val loss for 1 epoch(s)\n",
      "Epoch 17/100\n"
     ]
    },
    {
     "name": "stderr",
     "output_type": "stream",
     "text": [
      "Training: 100%|██████████| 2171/2171 [07:57<00:00,  4.55batch/s, loss=0.3777]\n",
      "Validation: 100%|██████████| 466/466 [00:58<00:00,  7.96batch/s]\n"
     ]
    },
    {
     "name": "stdout",
     "output_type": "stream",
     "text": [
      "No improvement in val loss for 2 epoch(s)\n",
      "Epoch 18/100\n"
     ]
    },
    {
     "name": "stderr",
     "output_type": "stream",
     "text": [
      "Training: 100%|██████████| 2171/2171 [07:51<00:00,  4.60batch/s, loss=0.3640]\n",
      "Validation: 100%|██████████| 466/466 [00:57<00:00,  8.17batch/s]\n"
     ]
    },
    {
     "name": "stdout",
     "output_type": "stream",
     "text": [
      "No improvement in val loss for 3 epoch(s)\n",
      "Epoch 19/100\n"
     ]
    },
    {
     "name": "stderr",
     "output_type": "stream",
     "text": [
      "Training: 100%|██████████| 2171/2171 [07:57<00:00,  4.55batch/s, loss=0.3456]\n",
      "Validation: 100%|██████████| 466/466 [00:58<00:00,  7.92batch/s]\n"
     ]
    },
    {
     "name": "stdout",
     "output_type": "stream",
     "text": [
      "Best model saved at epoch 19\n",
      "Epoch 20/100\n"
     ]
    },
    {
     "name": "stderr",
     "output_type": "stream",
     "text": [
      "Training: 100%|██████████| 2171/2171 [07:56<00:00,  4.56batch/s, loss=0.3294]\n",
      "Validation: 100%|██████████| 466/466 [00:58<00:00,  7.96batch/s]\n"
     ]
    },
    {
     "name": "stdout",
     "output_type": "stream",
     "text": [
      "No improvement in val loss for 1 epoch(s)\n",
      "Epoch 21/100\n"
     ]
    },
    {
     "name": "stderr",
     "output_type": "stream",
     "text": [
      "Training: 100%|██████████| 2171/2171 [07:57<00:00,  4.55batch/s, loss=0.3255]\n",
      "Validation: 100%|██████████| 466/466 [00:58<00:00,  7.93batch/s]\n"
     ]
    },
    {
     "name": "stdout",
     "output_type": "stream",
     "text": [
      "No improvement in val loss for 2 epoch(s)\n",
      "Epoch 22/100\n"
     ]
    },
    {
     "name": "stderr",
     "output_type": "stream",
     "text": [
      "Training: 100%|██████████| 2171/2171 [07:56<00:00,  4.55batch/s, loss=0.3133]\n",
      "Validation: 100%|██████████| 466/466 [00:58<00:00,  7.99batch/s]\n"
     ]
    },
    {
     "name": "stdout",
     "output_type": "stream",
     "text": [
      "No improvement in val loss for 3 epoch(s)\n",
      "Epoch 23/100\n"
     ]
    },
    {
     "name": "stderr",
     "output_type": "stream",
     "text": [
      "Training: 100%|██████████| 2171/2171 [07:56<00:00,  4.55batch/s, loss=0.3027]\n",
      "Validation: 100%|██████████| 466/466 [00:58<00:00,  7.96batch/s]\n"
     ]
    },
    {
     "name": "stdout",
     "output_type": "stream",
     "text": [
      "No improvement in val loss for 4 epoch(s)\n",
      "Epoch 24/100\n"
     ]
    },
    {
     "name": "stderr",
     "output_type": "stream",
     "text": [
      "Training: 100%|██████████| 2171/2171 [07:56<00:00,  4.55batch/s, loss=0.2932]\n",
      "Validation: 100%|██████████| 466/466 [00:58<00:00,  7.91batch/s]\n"
     ]
    },
    {
     "name": "stdout",
     "output_type": "stream",
     "text": [
      "No improvement in val loss for 5 epoch(s)\n",
      "Epoch 25/100\n"
     ]
    },
    {
     "name": "stderr",
     "output_type": "stream",
     "text": [
      "Training: 100%|██████████| 2171/2171 [07:57<00:00,  4.55batch/s, loss=0.2876]\n",
      "Validation: 100%|██████████| 466/466 [00:59<00:00,  7.89batch/s]\n"
     ]
    },
    {
     "name": "stdout",
     "output_type": "stream",
     "text": [
      "No improvement in val loss for 6 epoch(s)\n",
      "Epoch 26/100\n"
     ]
    },
    {
     "name": "stderr",
     "output_type": "stream",
     "text": [
      "Training: 100%|██████████| 2171/2171 [07:57<00:00,  4.54batch/s, loss=0.2773]\n",
      "Validation: 100%|██████████| 466/466 [00:58<00:00,  7.93batch/s]\n"
     ]
    },
    {
     "name": "stdout",
     "output_type": "stream",
     "text": [
      "No improvement in val loss for 7 epoch(s)\n",
      "Epoch 27/100\n"
     ]
    },
    {
     "name": "stderr",
     "output_type": "stream",
     "text": [
      "Training: 100%|██████████| 2171/2171 [07:56<00:00,  4.55batch/s, loss=0.2722]\n",
      "Validation: 100%|██████████| 466/466 [00:58<00:00,  7.91batch/s]\n"
     ]
    },
    {
     "name": "stdout",
     "output_type": "stream",
     "text": [
      "Best model saved at epoch 27\n",
      "Epoch 28/100\n"
     ]
    },
    {
     "name": "stderr",
     "output_type": "stream",
     "text": [
      "Training: 100%|██████████| 2171/2171 [07:58<00:00,  4.54batch/s, loss=0.2678]\n",
      "Validation: 100%|██████████| 466/466 [00:59<00:00,  7.90batch/s]\n"
     ]
    },
    {
     "name": "stdout",
     "output_type": "stream",
     "text": [
      "No improvement in val loss for 1 epoch(s)\n",
      "Epoch 29/100\n"
     ]
    },
    {
     "name": "stderr",
     "output_type": "stream",
     "text": [
      "Training: 100%|██████████| 2171/2171 [07:57<00:00,  4.55batch/s, loss=0.2608]\n",
      "Validation: 100%|██████████| 466/466 [00:58<00:00,  7.98batch/s]\n"
     ]
    },
    {
     "name": "stdout",
     "output_type": "stream",
     "text": [
      "No improvement in val loss for 2 epoch(s)\n",
      "Epoch 30/100\n"
     ]
    },
    {
     "name": "stderr",
     "output_type": "stream",
     "text": [
      "Training: 100%|██████████| 2171/2171 [07:56<00:00,  4.55batch/s, loss=0.2512]\n",
      "Validation: 100%|██████████| 466/466 [00:58<00:00,  7.97batch/s]\n"
     ]
    },
    {
     "name": "stdout",
     "output_type": "stream",
     "text": [
      "No improvement in val loss for 3 epoch(s)\n",
      "Epoch 31/100\n"
     ]
    },
    {
     "name": "stderr",
     "output_type": "stream",
     "text": [
      "Training: 100%|██████████| 2171/2171 [07:57<00:00,  4.55batch/s, loss=0.2436]\n",
      "Validation: 100%|██████████| 466/466 [00:59<00:00,  7.88batch/s]\n"
     ]
    },
    {
     "name": "stdout",
     "output_type": "stream",
     "text": [
      "No improvement in val loss for 4 epoch(s)\n",
      "Epoch 32/100\n"
     ]
    },
    {
     "name": "stderr",
     "output_type": "stream",
     "text": [
      "Training: 100%|██████████| 2171/2171 [07:58<00:00,  4.54batch/s, loss=0.2428]\n",
      "Validation: 100%|██████████| 466/466 [00:58<00:00,  7.94batch/s]\n"
     ]
    },
    {
     "name": "stdout",
     "output_type": "stream",
     "text": [
      "No improvement in val loss for 5 epoch(s)\n",
      "Epoch 33/100\n"
     ]
    },
    {
     "name": "stderr",
     "output_type": "stream",
     "text": [
      "Training: 100%|██████████| 2171/2171 [07:56<00:00,  4.55batch/s, loss=0.2350]\n",
      "Validation: 100%|██████████| 466/466 [00:58<00:00,  7.96batch/s]\n"
     ]
    },
    {
     "name": "stdout",
     "output_type": "stream",
     "text": [
      "No improvement in val loss for 6 epoch(s)\n",
      "Epoch 34/100\n"
     ]
    },
    {
     "name": "stderr",
     "output_type": "stream",
     "text": [
      "Training: 100%|██████████| 2171/2171 [07:59<00:00,  4.53batch/s, loss=0.2320]\n",
      "Validation: 100%|██████████| 466/466 [00:58<00:00,  7.91batch/s]\n"
     ]
    },
    {
     "name": "stdout",
     "output_type": "stream",
     "text": [
      "No improvement in val loss for 7 epoch(s)\n",
      "Epoch 35/100\n"
     ]
    },
    {
     "name": "stderr",
     "output_type": "stream",
     "text": [
      "Training: 100%|██████████| 2171/2171 [07:59<00:00,  4.53batch/s, loss=0.2295]\n",
      "Validation: 100%|██████████| 466/466 [00:59<00:00,  7.90batch/s]\n"
     ]
    },
    {
     "name": "stdout",
     "output_type": "stream",
     "text": [
      "No improvement in val loss for 8 epoch(s)\n",
      "Epoch 36/100\n"
     ]
    },
    {
     "name": "stderr",
     "output_type": "stream",
     "text": [
      "Training: 100%|██████████| 2171/2171 [07:58<00:00,  4.54batch/s, loss=0.2184]\n",
      "Validation: 100%|██████████| 466/466 [00:58<00:00,  8.01batch/s]\n"
     ]
    },
    {
     "name": "stdout",
     "output_type": "stream",
     "text": [
      "No improvement in val loss for 9 epoch(s)\n",
      "Epoch 37/100\n"
     ]
    },
    {
     "name": "stderr",
     "output_type": "stream",
     "text": [
      "Training: 100%|██████████| 2171/2171 [07:57<00:00,  4.55batch/s, loss=0.2184]\n",
      "Validation: 100%|██████████| 466/466 [00:58<00:00,  7.97batch/s]\n",
      "/tmp/ipykernel_69104/673473184.py:153: FutureWarning: You are using `torch.load` with `weights_only=False` (the current default value), which uses the default pickle module implicitly. It is possible to construct malicious pickle data which will execute arbitrary code during unpickling (See https://github.com/pytorch/pytorch/blob/main/SECURITY.md#untrusted-models for more details). In a future release, the default value for `weights_only` will be flipped to `True`. This limits the functions that could be executed during unpickling. Arbitrary objects will no longer be allowed to be loaded via this mode unless they are explicitly allowlisted by the user via `torch.serialization.add_safe_globals`. We recommend you start setting `weights_only=True` for any use case where you don't have full control of the loaded file. Please open an issue on GitHub for any issues related to this experimental feature.\n",
      "  model.load_state_dict(torch.load(best_model_path))\n"
     ]
    },
    {
     "name": "stdout",
     "output_type": "stream",
     "text": [
      "No improvement in val loss for 10 epoch(s)\n",
      "Early stopping triggered. Training stopped.\n",
      "\n",
      "=== Testowanie modelu dla batch_size: 32 ===\n"
     ]
    },
    {
     "name": "stderr",
     "output_type": "stream",
     "text": [
      "Testing: 100%|██████████| 466/466 [00:58<00:00,  7.91batch/s]\n"
     ]
    },
    {
     "name": "stdout",
     "output_type": "stream",
     "text": [
      "\n",
      "=== Trening dla batch_size: 64 ===\n",
      "Epoch 1/100\n"
     ]
    },
    {
     "name": "stderr",
     "output_type": "stream",
     "text": [
      "Training: 100%|██████████| 1086/1086 [07:37<00:00,  2.37batch/s, loss=2.2352]\n",
      "Validation: 100%|██████████| 233/233 [00:55<00:00,  4.23batch/s]\n"
     ]
    },
    {
     "name": "stdout",
     "output_type": "stream",
     "text": [
      "Best model saved at epoch 1\n",
      "Epoch 2/100\n"
     ]
    },
    {
     "name": "stderr",
     "output_type": "stream",
     "text": [
      "Training: 100%|██████████| 1086/1086 [07:37<00:00,  2.38batch/s, loss=1.9513]\n",
      "Validation: 100%|██████████| 233/233 [00:55<00:00,  4.21batch/s]\n"
     ]
    },
    {
     "name": "stdout",
     "output_type": "stream",
     "text": [
      "Best model saved at epoch 2\n",
      "Epoch 3/100\n"
     ]
    },
    {
     "name": "stderr",
     "output_type": "stream",
     "text": [
      "Training: 100%|██████████| 1086/1086 [07:37<00:00,  2.38batch/s, loss=1.6932]\n",
      "Validation: 100%|██████████| 233/233 [00:55<00:00,  4.20batch/s]\n"
     ]
    },
    {
     "name": "stdout",
     "output_type": "stream",
     "text": [
      "Best model saved at epoch 3\n",
      "Epoch 4/100\n"
     ]
    },
    {
     "name": "stderr",
     "output_type": "stream",
     "text": [
      "Training: 100%|██████████| 1086/1086 [07:37<00:00,  2.37batch/s, loss=1.4551]\n",
      "Validation: 100%|██████████| 233/233 [00:55<00:00,  4.22batch/s]\n"
     ]
    },
    {
     "name": "stdout",
     "output_type": "stream",
     "text": [
      "Best model saved at epoch 4\n",
      "Epoch 5/100\n"
     ]
    },
    {
     "name": "stderr",
     "output_type": "stream",
     "text": [
      "Training: 100%|██████████| 1086/1086 [07:36<00:00,  2.38batch/s, loss=1.2488]\n",
      "Validation: 100%|██████████| 233/233 [00:55<00:00,  4.21batch/s]\n"
     ]
    },
    {
     "name": "stdout",
     "output_type": "stream",
     "text": [
      "Best model saved at epoch 5\n",
      "Epoch 6/100\n"
     ]
    },
    {
     "name": "stderr",
     "output_type": "stream",
     "text": [
      "Training: 100%|██████████| 1086/1086 [07:36<00:00,  2.38batch/s, loss=1.0730]\n",
      "Validation: 100%|██████████| 233/233 [00:55<00:00,  4.18batch/s]\n"
     ]
    },
    {
     "name": "stdout",
     "output_type": "stream",
     "text": [
      "Best model saved at epoch 6\n",
      "Epoch 7/100\n"
     ]
    },
    {
     "name": "stderr",
     "output_type": "stream",
     "text": [
      "Training: 100%|██████████| 1086/1086 [07:36<00:00,  2.38batch/s, loss=0.9528]\n",
      "Validation: 100%|██████████| 233/233 [00:55<00:00,  4.22batch/s]\n"
     ]
    },
    {
     "name": "stdout",
     "output_type": "stream",
     "text": [
      "Best model saved at epoch 7\n",
      "Epoch 8/100\n"
     ]
    },
    {
     "name": "stderr",
     "output_type": "stream",
     "text": [
      "Training: 100%|██████████| 1086/1086 [07:37<00:00,  2.38batch/s, loss=0.8454]\n",
      "Validation: 100%|██████████| 233/233 [00:55<00:00,  4.19batch/s]\n"
     ]
    },
    {
     "name": "stdout",
     "output_type": "stream",
     "text": [
      "Best model saved at epoch 8\n",
      "Epoch 9/100\n"
     ]
    },
    {
     "name": "stderr",
     "output_type": "stream",
     "text": [
      "Training: 100%|██████████| 1086/1086 [07:36<00:00,  2.38batch/s, loss=0.7590]\n",
      "Validation: 100%|██████████| 233/233 [00:55<00:00,  4.18batch/s]\n"
     ]
    },
    {
     "name": "stdout",
     "output_type": "stream",
     "text": [
      "Best model saved at epoch 9\n",
      "Epoch 10/100\n"
     ]
    },
    {
     "name": "stderr",
     "output_type": "stream",
     "text": [
      "Training: 100%|██████████| 1086/1086 [07:37<00:00,  2.38batch/s, loss=0.6896]\n",
      "Validation: 100%|██████████| 233/233 [00:55<00:00,  4.19batch/s]\n"
     ]
    },
    {
     "name": "stdout",
     "output_type": "stream",
     "text": [
      "Best model saved at epoch 10\n",
      "Epoch 11/100\n"
     ]
    },
    {
     "name": "stderr",
     "output_type": "stream",
     "text": [
      "Training: 100%|██████████| 1086/1086 [07:37<00:00,  2.37batch/s, loss=0.6411]\n",
      "Validation: 100%|██████████| 233/233 [00:55<00:00,  4.21batch/s]\n"
     ]
    },
    {
     "name": "stdout",
     "output_type": "stream",
     "text": [
      "No improvement in val loss for 1 epoch(s)\n",
      "Epoch 12/100\n"
     ]
    },
    {
     "name": "stderr",
     "output_type": "stream",
     "text": [
      "Training: 100%|██████████| 1086/1086 [07:36<00:00,  2.38batch/s, loss=0.5916]\n",
      "Validation: 100%|██████████| 233/233 [00:55<00:00,  4.22batch/s]\n"
     ]
    },
    {
     "name": "stdout",
     "output_type": "stream",
     "text": [
      "Best model saved at epoch 12\n",
      "Epoch 13/100\n"
     ]
    },
    {
     "name": "stderr",
     "output_type": "stream",
     "text": [
      "Training: 100%|██████████| 1086/1086 [07:36<00:00,  2.38batch/s, loss=0.5558]\n",
      "Validation: 100%|██████████| 233/233 [00:55<00:00,  4.20batch/s]\n"
     ]
    },
    {
     "name": "stdout",
     "output_type": "stream",
     "text": [
      "No improvement in val loss for 1 epoch(s)\n",
      "Epoch 14/100\n"
     ]
    },
    {
     "name": "stderr",
     "output_type": "stream",
     "text": [
      "Training: 100%|██████████| 1086/1086 [07:36<00:00,  2.38batch/s, loss=0.5187]\n",
      "Validation: 100%|██████████| 233/233 [00:55<00:00,  4.19batch/s]\n"
     ]
    },
    {
     "name": "stdout",
     "output_type": "stream",
     "text": [
      "Best model saved at epoch 14\n",
      "Epoch 15/100\n"
     ]
    },
    {
     "name": "stderr",
     "output_type": "stream",
     "text": [
      "Training: 100%|██████████| 1086/1086 [07:36<00:00,  2.38batch/s, loss=0.4921]\n",
      "Validation: 100%|██████████| 233/233 [00:55<00:00,  4.19batch/s]\n"
     ]
    },
    {
     "name": "stdout",
     "output_type": "stream",
     "text": [
      "No improvement in val loss for 1 epoch(s)\n",
      "Epoch 16/100\n"
     ]
    },
    {
     "name": "stderr",
     "output_type": "stream",
     "text": [
      "Training: 100%|██████████| 1086/1086 [07:35<00:00,  2.38batch/s, loss=0.4638]\n",
      "Validation: 100%|██████████| 233/233 [00:55<00:00,  4.19batch/s]\n"
     ]
    },
    {
     "name": "stdout",
     "output_type": "stream",
     "text": [
      "Best model saved at epoch 16\n",
      "Epoch 17/100\n"
     ]
    },
    {
     "name": "stderr",
     "output_type": "stream",
     "text": [
      "Training: 100%|██████████| 1086/1086 [07:35<00:00,  2.38batch/s, loss=0.4441]\n",
      "Validation: 100%|██████████| 233/233 [00:55<00:00,  4.18batch/s]\n"
     ]
    },
    {
     "name": "stdout",
     "output_type": "stream",
     "text": [
      "Best model saved at epoch 17\n",
      "Epoch 18/100\n"
     ]
    },
    {
     "name": "stderr",
     "output_type": "stream",
     "text": [
      "Training: 100%|██████████| 1086/1086 [07:36<00:00,  2.38batch/s, loss=0.4282]\n",
      "Validation: 100%|██████████| 233/233 [00:55<00:00,  4.21batch/s]\n"
     ]
    },
    {
     "name": "stdout",
     "output_type": "stream",
     "text": [
      "Best model saved at epoch 18\n",
      "Epoch 19/100\n"
     ]
    },
    {
     "name": "stderr",
     "output_type": "stream",
     "text": [
      "Training: 100%|██████████| 1086/1086 [07:36<00:00,  2.38batch/s, loss=0.4058]\n",
      "Validation: 100%|██████████| 233/233 [00:55<00:00,  4.19batch/s]\n"
     ]
    },
    {
     "name": "stdout",
     "output_type": "stream",
     "text": [
      "No improvement in val loss for 1 epoch(s)\n",
      "Epoch 20/100\n"
     ]
    },
    {
     "name": "stderr",
     "output_type": "stream",
     "text": [
      "Training: 100%|██████████| 1086/1086 [07:35<00:00,  2.38batch/s, loss=0.3944]\n",
      "Validation: 100%|██████████| 233/233 [00:55<00:00,  4.20batch/s]\n"
     ]
    },
    {
     "name": "stdout",
     "output_type": "stream",
     "text": [
      "No improvement in val loss for 2 epoch(s)\n",
      "Epoch 21/100\n"
     ]
    },
    {
     "name": "stderr",
     "output_type": "stream",
     "text": [
      "Training: 100%|██████████| 1086/1086 [07:35<00:00,  2.38batch/s, loss=0.3810]\n",
      "Validation: 100%|██████████| 233/233 [00:55<00:00,  4.21batch/s]\n"
     ]
    },
    {
     "name": "stdout",
     "output_type": "stream",
     "text": [
      "Best model saved at epoch 21\n",
      "Epoch 22/100\n"
     ]
    },
    {
     "name": "stderr",
     "output_type": "stream",
     "text": [
      "Training: 100%|██████████| 1086/1086 [07:35<00:00,  2.38batch/s, loss=0.3646]\n",
      "Validation: 100%|██████████| 233/233 [00:55<00:00,  4.21batch/s]\n"
     ]
    },
    {
     "name": "stdout",
     "output_type": "stream",
     "text": [
      "No improvement in val loss for 1 epoch(s)\n",
      "Epoch 23/100\n"
     ]
    },
    {
     "name": "stderr",
     "output_type": "stream",
     "text": [
      "Training: 100%|██████████| 1086/1086 [07:36<00:00,  2.38batch/s, loss=0.3572]\n",
      "Validation: 100%|██████████| 233/233 [00:55<00:00,  4.19batch/s]\n"
     ]
    },
    {
     "name": "stdout",
     "output_type": "stream",
     "text": [
      "No improvement in val loss for 2 epoch(s)\n",
      "Epoch 24/100\n"
     ]
    },
    {
     "name": "stderr",
     "output_type": "stream",
     "text": [
      "Training: 100%|██████████| 1086/1086 [07:35<00:00,  2.38batch/s, loss=0.3400]\n",
      "Validation: 100%|██████████| 233/233 [00:55<00:00,  4.23batch/s]\n"
     ]
    },
    {
     "name": "stdout",
     "output_type": "stream",
     "text": [
      "No improvement in val loss for 3 epoch(s)\n",
      "Epoch 25/100\n"
     ]
    },
    {
     "name": "stderr",
     "output_type": "stream",
     "text": [
      "Training: 100%|██████████| 1086/1086 [07:36<00:00,  2.38batch/s, loss=0.3341]\n",
      "Validation: 100%|██████████| 233/233 [00:55<00:00,  4.22batch/s]\n"
     ]
    },
    {
     "name": "stdout",
     "output_type": "stream",
     "text": [
      "No improvement in val loss for 4 epoch(s)\n",
      "Epoch 26/100\n"
     ]
    },
    {
     "name": "stderr",
     "output_type": "stream",
     "text": [
      "Training: 100%|██████████| 1086/1086 [07:37<00:00,  2.37batch/s, loss=0.3209]\n",
      "Validation: 100%|██████████| 233/233 [00:55<00:00,  4.18batch/s]\n"
     ]
    },
    {
     "name": "stdout",
     "output_type": "stream",
     "text": [
      "Best model saved at epoch 26\n",
      "Epoch 27/100\n"
     ]
    },
    {
     "name": "stderr",
     "output_type": "stream",
     "text": [
      "Training: 100%|██████████| 1086/1086 [07:35<00:00,  2.38batch/s, loss=0.3129]\n",
      "Validation: 100%|██████████| 233/233 [00:55<00:00,  4.23batch/s]\n"
     ]
    },
    {
     "name": "stdout",
     "output_type": "stream",
     "text": [
      "Best model saved at epoch 27\n",
      "Epoch 28/100\n"
     ]
    },
    {
     "name": "stderr",
     "output_type": "stream",
     "text": [
      "Training: 100%|██████████| 1086/1086 [07:37<00:00,  2.37batch/s, loss=0.3054]\n",
      "Validation: 100%|██████████| 233/233 [00:55<00:00,  4.19batch/s]\n"
     ]
    },
    {
     "name": "stdout",
     "output_type": "stream",
     "text": [
      "No improvement in val loss for 1 epoch(s)\n",
      "Epoch 29/100\n"
     ]
    },
    {
     "name": "stderr",
     "output_type": "stream",
     "text": [
      "Training: 100%|██████████| 1086/1086 [07:36<00:00,  2.38batch/s, loss=0.2954]\n",
      "Validation: 100%|██████████| 233/233 [00:55<00:00,  4.22batch/s]\n"
     ]
    },
    {
     "name": "stdout",
     "output_type": "stream",
     "text": [
      "No improvement in val loss for 2 epoch(s)\n",
      "Epoch 30/100\n"
     ]
    },
    {
     "name": "stderr",
     "output_type": "stream",
     "text": [
      "Training: 100%|██████████| 1086/1086 [07:35<00:00,  2.38batch/s, loss=0.2889]\n",
      "Validation: 100%|██████████| 233/233 [00:55<00:00,  4.18batch/s]\n"
     ]
    },
    {
     "name": "stdout",
     "output_type": "stream",
     "text": [
      "No improvement in val loss for 3 epoch(s)\n",
      "Epoch 31/100\n"
     ]
    },
    {
     "name": "stderr",
     "output_type": "stream",
     "text": [
      "Training: 100%|██████████| 1086/1086 [07:35<00:00,  2.38batch/s, loss=0.2834]\n",
      "Validation: 100%|██████████| 233/233 [00:55<00:00,  4.19batch/s]\n"
     ]
    },
    {
     "name": "stdout",
     "output_type": "stream",
     "text": [
      "No improvement in val loss for 4 epoch(s)\n",
      "Epoch 32/100\n"
     ]
    },
    {
     "name": "stderr",
     "output_type": "stream",
     "text": [
      "Training: 100%|██████████| 1086/1086 [07:35<00:00,  2.38batch/s, loss=0.2759]\n",
      "Validation: 100%|██████████| 233/233 [00:55<00:00,  4.18batch/s]\n"
     ]
    },
    {
     "name": "stdout",
     "output_type": "stream",
     "text": [
      "No improvement in val loss for 5 epoch(s)\n",
      "Epoch 33/100\n"
     ]
    },
    {
     "name": "stderr",
     "output_type": "stream",
     "text": [
      "Training: 100%|██████████| 1086/1086 [07:36<00:00,  2.38batch/s, loss=0.2675]\n",
      "Validation: 100%|██████████| 233/233 [00:55<00:00,  4.19batch/s]\n"
     ]
    },
    {
     "name": "stdout",
     "output_type": "stream",
     "text": [
      "No improvement in val loss for 6 epoch(s)\n",
      "Epoch 34/100\n"
     ]
    },
    {
     "name": "stderr",
     "output_type": "stream",
     "text": [
      "Training: 100%|██████████| 1086/1086 [07:35<00:00,  2.38batch/s, loss=0.2591]\n",
      "Validation: 100%|██████████| 233/233 [00:55<00:00,  4.19batch/s]\n"
     ]
    },
    {
     "name": "stdout",
     "output_type": "stream",
     "text": [
      "Best model saved at epoch 34\n",
      "Epoch 35/100\n"
     ]
    },
    {
     "name": "stderr",
     "output_type": "stream",
     "text": [
      "Training: 100%|██████████| 1086/1086 [07:36<00:00,  2.38batch/s, loss=0.2568]\n",
      "Validation: 100%|██████████| 233/233 [00:55<00:00,  4.20batch/s]\n"
     ]
    },
    {
     "name": "stdout",
     "output_type": "stream",
     "text": [
      "Best model saved at epoch 35\n",
      "Epoch 36/100\n"
     ]
    },
    {
     "name": "stderr",
     "output_type": "stream",
     "text": [
      "Training: 100%|██████████| 1086/1086 [07:36<00:00,  2.38batch/s, loss=0.2470]\n",
      "Validation: 100%|██████████| 233/233 [00:55<00:00,  4.20batch/s]\n"
     ]
    },
    {
     "name": "stdout",
     "output_type": "stream",
     "text": [
      "Best model saved at epoch 36\n",
      "Epoch 37/100\n"
     ]
    },
    {
     "name": "stderr",
     "output_type": "stream",
     "text": [
      "Training: 100%|██████████| 1086/1086 [07:38<00:00,  2.37batch/s, loss=0.2428]\n",
      "Validation: 100%|██████████| 233/233 [00:55<00:00,  4.19batch/s]\n"
     ]
    },
    {
     "name": "stdout",
     "output_type": "stream",
     "text": [
      "No improvement in val loss for 1 epoch(s)\n",
      "Epoch 38/100\n"
     ]
    },
    {
     "name": "stderr",
     "output_type": "stream",
     "text": [
      "Training: 100%|██████████| 1086/1086 [07:36<00:00,  2.38batch/s, loss=0.2392]\n",
      "Validation: 100%|██████████| 233/233 [00:55<00:00,  4.20batch/s]\n"
     ]
    },
    {
     "name": "stdout",
     "output_type": "stream",
     "text": [
      "Best model saved at epoch 38\n",
      "Epoch 39/100\n"
     ]
    },
    {
     "name": "stderr",
     "output_type": "stream",
     "text": [
      "Training: 100%|██████████| 1086/1086 [07:36<00:00,  2.38batch/s, loss=0.2316]\n",
      "Validation: 100%|██████████| 233/233 [00:55<00:00,  4.19batch/s]\n"
     ]
    },
    {
     "name": "stdout",
     "output_type": "stream",
     "text": [
      "Best model saved at epoch 39\n",
      "Epoch 40/100\n"
     ]
    },
    {
     "name": "stderr",
     "output_type": "stream",
     "text": [
      "Training: 100%|██████████| 1086/1086 [07:37<00:00,  2.38batch/s, loss=0.2285]\n",
      "Validation: 100%|██████████| 233/233 [00:55<00:00,  4.18batch/s]\n"
     ]
    },
    {
     "name": "stdout",
     "output_type": "stream",
     "text": [
      "No improvement in val loss for 1 epoch(s)\n",
      "Epoch 41/100\n"
     ]
    },
    {
     "name": "stderr",
     "output_type": "stream",
     "text": [
      "Training: 100%|██████████| 1086/1086 [07:36<00:00,  2.38batch/s, loss=0.2272]\n",
      "Validation: 100%|██████████| 233/233 [00:55<00:00,  4.17batch/s]\n"
     ]
    },
    {
     "name": "stdout",
     "output_type": "stream",
     "text": [
      "No improvement in val loss for 2 epoch(s)\n",
      "Epoch 42/100\n"
     ]
    },
    {
     "name": "stderr",
     "output_type": "stream",
     "text": [
      "Training: 100%|██████████| 1086/1086 [07:36<00:00,  2.38batch/s, loss=0.2199]\n",
      "Validation: 100%|██████████| 233/233 [00:55<00:00,  4.21batch/s]\n"
     ]
    },
    {
     "name": "stdout",
     "output_type": "stream",
     "text": [
      "No improvement in val loss for 3 epoch(s)\n",
      "Epoch 43/100\n"
     ]
    },
    {
     "name": "stderr",
     "output_type": "stream",
     "text": [
      "Training: 100%|██████████| 1086/1086 [07:36<00:00,  2.38batch/s, loss=0.2178]\n",
      "Validation: 100%|██████████| 233/233 [00:55<00:00,  4.21batch/s]\n"
     ]
    },
    {
     "name": "stdout",
     "output_type": "stream",
     "text": [
      "No improvement in val loss for 4 epoch(s)\n",
      "Epoch 44/100\n"
     ]
    },
    {
     "name": "stderr",
     "output_type": "stream",
     "text": [
      "Training: 100%|██████████| 1086/1086 [07:36<00:00,  2.38batch/s, loss=0.2110]\n",
      "Validation: 100%|██████████| 233/233 [00:55<00:00,  4.20batch/s]\n"
     ]
    },
    {
     "name": "stdout",
     "output_type": "stream",
     "text": [
      "No improvement in val loss for 5 epoch(s)\n",
      "Epoch 45/100\n"
     ]
    },
    {
     "name": "stderr",
     "output_type": "stream",
     "text": [
      "Training: 100%|██████████| 1086/1086 [07:37<00:00,  2.38batch/s, loss=0.2117]\n",
      "Validation: 100%|██████████| 233/233 [00:55<00:00,  4.19batch/s]\n"
     ]
    },
    {
     "name": "stdout",
     "output_type": "stream",
     "text": [
      "No improvement in val loss for 6 epoch(s)\n",
      "Epoch 46/100\n"
     ]
    },
    {
     "name": "stderr",
     "output_type": "stream",
     "text": [
      "Training: 100%|██████████| 1086/1086 [07:36<00:00,  2.38batch/s, loss=0.2077]\n",
      "Validation: 100%|██████████| 233/233 [00:55<00:00,  4.20batch/s]\n"
     ]
    },
    {
     "name": "stdout",
     "output_type": "stream",
     "text": [
      "No improvement in val loss for 7 epoch(s)\n",
      "Epoch 47/100\n"
     ]
    },
    {
     "name": "stderr",
     "output_type": "stream",
     "text": [
      "Training: 100%|██████████| 1086/1086 [07:37<00:00,  2.37batch/s, loss=0.2056]\n",
      "Validation: 100%|██████████| 233/233 [00:55<00:00,  4.19batch/s]\n"
     ]
    },
    {
     "name": "stdout",
     "output_type": "stream",
     "text": [
      "No improvement in val loss for 8 epoch(s)\n",
      "Epoch 48/100\n"
     ]
    },
    {
     "name": "stderr",
     "output_type": "stream",
     "text": [
      "Training: 100%|██████████| 1086/1086 [07:37<00:00,  2.37batch/s, loss=0.1987]\n",
      "Validation: 100%|██████████| 233/233 [00:55<00:00,  4.17batch/s]\n"
     ]
    },
    {
     "name": "stdout",
     "output_type": "stream",
     "text": [
      "No improvement in val loss for 9 epoch(s)\n",
      "Epoch 49/100\n"
     ]
    },
    {
     "name": "stderr",
     "output_type": "stream",
     "text": [
      "Training: 100%|██████████| 1086/1086 [07:37<00:00,  2.37batch/s, loss=0.1974]\n",
      "Validation: 100%|██████████| 233/233 [00:55<00:00,  4.19batch/s]\n",
      "/tmp/ipykernel_69104/673473184.py:153: FutureWarning: You are using `torch.load` with `weights_only=False` (the current default value), which uses the default pickle module implicitly. It is possible to construct malicious pickle data which will execute arbitrary code during unpickling (See https://github.com/pytorch/pytorch/blob/main/SECURITY.md#untrusted-models for more details). In a future release, the default value for `weights_only` will be flipped to `True`. This limits the functions that could be executed during unpickling. Arbitrary objects will no longer be allowed to be loaded via this mode unless they are explicitly allowlisted by the user via `torch.serialization.add_safe_globals`. We recommend you start setting `weights_only=True` for any use case where you don't have full control of the loaded file. Please open an issue on GitHub for any issues related to this experimental feature.\n",
      "  model.load_state_dict(torch.load(best_model_path))\n"
     ]
    },
    {
     "name": "stdout",
     "output_type": "stream",
     "text": [
      "No improvement in val loss for 10 epoch(s)\n",
      "Early stopping triggered. Training stopped.\n",
      "\n",
      "=== Testowanie modelu dla batch_size: 64 ===\n"
     ]
    },
    {
     "name": "stderr",
     "output_type": "stream",
     "text": [
      "Testing: 100%|██████████| 233/233 [00:55<00:00,  4.21batch/s]\n"
     ]
    },
    {
     "name": "stdout",
     "output_type": "stream",
     "text": [
      "\n",
      "=== Trening dla batch_size: 128 ===\n",
      "Epoch 1/100\n"
     ]
    },
    {
     "name": "stderr",
     "output_type": "stream",
     "text": [
      "Training: 100%|██████████| 543/543 [07:35<00:00,  1.19batch/s, loss=2.2643]\n",
      "Validation: 100%|██████████| 117/117 [00:55<00:00,  2.10batch/s]\n"
     ]
    },
    {
     "name": "stdout",
     "output_type": "stream",
     "text": [
      "Best model saved at epoch 1\n",
      "Epoch 2/100\n"
     ]
    },
    {
     "name": "stderr",
     "output_type": "stream",
     "text": [
      "Training: 100%|██████████| 543/543 [07:31<00:00,  1.20batch/s, loss=1.9521]\n",
      "Validation: 100%|██████████| 117/117 [00:54<00:00,  2.13batch/s]\n"
     ]
    },
    {
     "name": "stdout",
     "output_type": "stream",
     "text": [
      "Best model saved at epoch 2\n",
      "Epoch 3/100\n"
     ]
    },
    {
     "name": "stderr",
     "output_type": "stream",
     "text": [
      "Training: 100%|██████████| 543/543 [07:35<00:00,  1.19batch/s, loss=1.7195]\n",
      "Validation: 100%|██████████| 117/117 [00:56<00:00,  2.09batch/s]\n"
     ]
    },
    {
     "name": "stdout",
     "output_type": "stream",
     "text": [
      "Best model saved at epoch 3\n",
      "Epoch 4/100\n"
     ]
    },
    {
     "name": "stderr",
     "output_type": "stream",
     "text": [
      "Training: 100%|██████████| 543/543 [07:37<00:00,  1.19batch/s, loss=1.5405]\n",
      "Validation: 100%|██████████| 117/117 [00:56<00:00,  2.08batch/s]\n"
     ]
    },
    {
     "name": "stdout",
     "output_type": "stream",
     "text": [
      "Best model saved at epoch 4\n",
      "Epoch 5/100\n"
     ]
    },
    {
     "name": "stderr",
     "output_type": "stream",
     "text": [
      "Training: 100%|██████████| 543/543 [07:29<00:00,  1.21batch/s, loss=1.4030]\n",
      "Validation: 100%|██████████| 117/117 [00:54<00:00,  2.13batch/s]\n"
     ]
    },
    {
     "name": "stdout",
     "output_type": "stream",
     "text": [
      "Best model saved at epoch 5\n",
      "Epoch 6/100\n"
     ]
    },
    {
     "name": "stderr",
     "output_type": "stream",
     "text": [
      "Training: 100%|██████████| 543/543 [07:29<00:00,  1.21batch/s, loss=1.2775]\n",
      "Validation: 100%|██████████| 117/117 [00:54<00:00,  2.14batch/s]\n"
     ]
    },
    {
     "name": "stdout",
     "output_type": "stream",
     "text": [
      "Best model saved at epoch 6\n",
      "Epoch 7/100\n"
     ]
    },
    {
     "name": "stderr",
     "output_type": "stream",
     "text": [
      "Training: 100%|██████████| 543/543 [07:34<00:00,  1.19batch/s, loss=1.1460]\n",
      "Validation: 100%|██████████| 117/117 [00:55<00:00,  2.10batch/s]\n"
     ]
    },
    {
     "name": "stdout",
     "output_type": "stream",
     "text": [
      "Best model saved at epoch 7\n",
      "Epoch 8/100\n"
     ]
    },
    {
     "name": "stderr",
     "output_type": "stream",
     "text": [
      "Training: 100%|██████████| 543/543 [07:37<00:00,  1.19batch/s, loss=1.0339]\n",
      "Validation: 100%|██████████| 117/117 [00:56<00:00,  2.07batch/s]\n"
     ]
    },
    {
     "name": "stdout",
     "output_type": "stream",
     "text": [
      "Best model saved at epoch 8\n",
      "Epoch 9/100\n"
     ]
    },
    {
     "name": "stderr",
     "output_type": "stream",
     "text": [
      "Training: 100%|██████████| 543/543 [07:38<00:00,  1.19batch/s, loss=0.9426]\n",
      "Validation: 100%|██████████| 117/117 [00:56<00:00,  2.07batch/s]\n"
     ]
    },
    {
     "name": "stdout",
     "output_type": "stream",
     "text": [
      "Best model saved at epoch 9\n",
      "Epoch 10/100\n"
     ]
    },
    {
     "name": "stderr",
     "output_type": "stream",
     "text": [
      "Training: 100%|██████████| 543/543 [07:39<00:00,  1.18batch/s, loss=0.8579]\n",
      "Validation: 100%|██████████| 117/117 [00:56<00:00,  2.08batch/s]\n"
     ]
    },
    {
     "name": "stdout",
     "output_type": "stream",
     "text": [
      "No improvement in val loss for 1 epoch(s)\n",
      "Epoch 11/100\n"
     ]
    },
    {
     "name": "stderr",
     "output_type": "stream",
     "text": [
      "Training: 100%|██████████| 543/543 [07:31<00:00,  1.20batch/s, loss=0.8053]\n",
      "Validation: 100%|██████████| 117/117 [00:54<00:00,  2.14batch/s]\n"
     ]
    },
    {
     "name": "stdout",
     "output_type": "stream",
     "text": [
      "Best model saved at epoch 11\n",
      "Epoch 12/100\n"
     ]
    },
    {
     "name": "stderr",
     "output_type": "stream",
     "text": [
      "Training: 100%|██████████| 543/543 [07:30<00:00,  1.20batch/s, loss=0.7468]\n",
      "Validation: 100%|██████████| 117/117 [00:55<00:00,  2.13batch/s]\n"
     ]
    },
    {
     "name": "stdout",
     "output_type": "stream",
     "text": [
      "Best model saved at epoch 12\n",
      "Epoch 13/100\n"
     ]
    },
    {
     "name": "stderr",
     "output_type": "stream",
     "text": [
      "Training: 100%|██████████| 543/543 [07:37<00:00,  1.19batch/s, loss=0.7064]\n",
      "Validation: 100%|██████████| 117/117 [00:56<00:00,  2.08batch/s]\n"
     ]
    },
    {
     "name": "stdout",
     "output_type": "stream",
     "text": [
      "Best model saved at epoch 13\n",
      "Epoch 14/100\n"
     ]
    },
    {
     "name": "stderr",
     "output_type": "stream",
     "text": [
      "Training: 100%|██████████| 543/543 [07:38<00:00,  1.18batch/s, loss=0.6631]\n",
      "Validation: 100%|██████████| 117/117 [00:56<00:00,  2.06batch/s]\n"
     ]
    },
    {
     "name": "stdout",
     "output_type": "stream",
     "text": [
      "Best model saved at epoch 14\n",
      "Epoch 15/100\n"
     ]
    },
    {
     "name": "stderr",
     "output_type": "stream",
     "text": [
      "Training: 100%|██████████| 543/543 [07:37<00:00,  1.19batch/s, loss=0.6431]\n",
      "Validation: 100%|██████████| 117/117 [00:55<00:00,  2.10batch/s]\n"
     ]
    },
    {
     "name": "stdout",
     "output_type": "stream",
     "text": [
      "No improvement in val loss for 1 epoch(s)\n",
      "Epoch 16/100\n"
     ]
    },
    {
     "name": "stderr",
     "output_type": "stream",
     "text": [
      "Training: 100%|██████████| 543/543 [07:38<00:00,  1.18batch/s, loss=0.6056]\n",
      "Validation: 100%|██████████| 117/117 [00:56<00:00,  2.07batch/s]\n"
     ]
    },
    {
     "name": "stdout",
     "output_type": "stream",
     "text": [
      "Best model saved at epoch 16\n",
      "Epoch 17/100\n"
     ]
    },
    {
     "name": "stderr",
     "output_type": "stream",
     "text": [
      "Training: 100%|██████████| 543/543 [07:38<00:00,  1.18batch/s, loss=0.5687]\n",
      "Validation: 100%|██████████| 117/117 [00:56<00:00,  2.06batch/s]\n"
     ]
    },
    {
     "name": "stdout",
     "output_type": "stream",
     "text": [
      "Best model saved at epoch 17\n",
      "Epoch 18/100\n"
     ]
    },
    {
     "name": "stderr",
     "output_type": "stream",
     "text": [
      "Training: 100%|██████████| 543/543 [07:33<00:00,  1.20batch/s, loss=0.5519]\n",
      "Validation: 100%|██████████| 117/117 [00:55<00:00,  2.10batch/s]\n"
     ]
    },
    {
     "name": "stdout",
     "output_type": "stream",
     "text": [
      "No improvement in val loss for 1 epoch(s)\n",
      "Epoch 19/100\n"
     ]
    },
    {
     "name": "stderr",
     "output_type": "stream",
     "text": [
      "Training: 100%|██████████| 543/543 [07:37<00:00,  1.19batch/s, loss=0.5308]\n",
      "Validation: 100%|██████████| 117/117 [00:56<00:00,  2.09batch/s]\n"
     ]
    },
    {
     "name": "stdout",
     "output_type": "stream",
     "text": [
      "Best model saved at epoch 19\n",
      "Epoch 20/100\n"
     ]
    },
    {
     "name": "stderr",
     "output_type": "stream",
     "text": [
      "Training: 100%|██████████| 543/543 [07:38<00:00,  1.19batch/s, loss=0.5058]\n",
      "Validation: 100%|██████████| 117/117 [00:56<00:00,  2.06batch/s]\n"
     ]
    },
    {
     "name": "stdout",
     "output_type": "stream",
     "text": [
      "No improvement in val loss for 1 epoch(s)\n",
      "Epoch 21/100\n"
     ]
    },
    {
     "name": "stderr",
     "output_type": "stream",
     "text": [
      "Training: 100%|██████████| 543/543 [07:31<00:00,  1.20batch/s, loss=0.4911]\n",
      "Validation: 100%|██████████| 117/117 [00:54<00:00,  2.14batch/s]\n"
     ]
    },
    {
     "name": "stdout",
     "output_type": "stream",
     "text": [
      "Best model saved at epoch 21\n",
      "Epoch 22/100\n"
     ]
    },
    {
     "name": "stderr",
     "output_type": "stream",
     "text": [
      "Training: 100%|██████████| 543/543 [07:37<00:00,  1.19batch/s, loss=0.4735]\n",
      "Validation: 100%|██████████| 117/117 [00:56<00:00,  2.06batch/s]\n"
     ]
    },
    {
     "name": "stdout",
     "output_type": "stream",
     "text": [
      "Best model saved at epoch 22\n",
      "Epoch 23/100\n"
     ]
    },
    {
     "name": "stderr",
     "output_type": "stream",
     "text": [
      "Training: 100%|██████████| 543/543 [07:35<00:00,  1.19batch/s, loss=0.4632]\n",
      "Validation: 100%|██████████| 117/117 [00:55<00:00,  2.09batch/s]\n"
     ]
    },
    {
     "name": "stdout",
     "output_type": "stream",
     "text": [
      "No improvement in val loss for 1 epoch(s)\n",
      "Epoch 24/100\n"
     ]
    },
    {
     "name": "stderr",
     "output_type": "stream",
     "text": [
      "Training: 100%|██████████| 543/543 [07:35<00:00,  1.19batch/s, loss=0.4437]\n",
      "Validation: 100%|██████████| 117/117 [00:55<00:00,  2.10batch/s]\n"
     ]
    },
    {
     "name": "stdout",
     "output_type": "stream",
     "text": [
      "No improvement in val loss for 2 epoch(s)\n",
      "Epoch 25/100\n"
     ]
    },
    {
     "name": "stderr",
     "output_type": "stream",
     "text": [
      "Training: 100%|██████████| 543/543 [07:37<00:00,  1.19batch/s, loss=0.4353]\n",
      "Validation: 100%|██████████| 117/117 [00:56<00:00,  2.07batch/s]\n"
     ]
    },
    {
     "name": "stdout",
     "output_type": "stream",
     "text": [
      "No improvement in val loss for 3 epoch(s)\n",
      "Epoch 26/100\n"
     ]
    },
    {
     "name": "stderr",
     "output_type": "stream",
     "text": [
      "Training: 100%|██████████| 543/543 [07:38<00:00,  1.18batch/s, loss=0.4129]\n",
      "Validation: 100%|██████████| 117/117 [00:56<00:00,  2.08batch/s]\n"
     ]
    },
    {
     "name": "stdout",
     "output_type": "stream",
     "text": [
      "No improvement in val loss for 4 epoch(s)\n",
      "Epoch 27/100\n"
     ]
    },
    {
     "name": "stderr",
     "output_type": "stream",
     "text": [
      "Training: 100%|██████████| 543/543 [07:38<00:00,  1.18batch/s, loss=0.4050]\n",
      "Validation: 100%|██████████| 117/117 [00:56<00:00,  2.07batch/s]\n"
     ]
    },
    {
     "name": "stdout",
     "output_type": "stream",
     "text": [
      "Best model saved at epoch 27\n",
      "Epoch 28/100\n"
     ]
    },
    {
     "name": "stderr",
     "output_type": "stream",
     "text": [
      "Training: 100%|██████████| 543/543 [07:38<00:00,  1.18batch/s, loss=0.3966]\n",
      "Validation: 100%|██████████| 117/117 [00:56<00:00,  2.06batch/s]\n"
     ]
    },
    {
     "name": "stdout",
     "output_type": "stream",
     "text": [
      "Best model saved at epoch 28\n",
      "Epoch 29/100\n"
     ]
    },
    {
     "name": "stderr",
     "output_type": "stream",
     "text": [
      "Training: 100%|██████████| 543/543 [07:34<00:00,  1.20batch/s, loss=0.3867]\n",
      "Validation: 100%|██████████| 117/117 [00:55<00:00,  2.11batch/s]\n"
     ]
    },
    {
     "name": "stdout",
     "output_type": "stream",
     "text": [
      "No improvement in val loss for 1 epoch(s)\n",
      "Epoch 30/100\n"
     ]
    },
    {
     "name": "stderr",
     "output_type": "stream",
     "text": [
      "Training: 100%|██████████| 543/543 [07:36<00:00,  1.19batch/s, loss=0.3714]\n",
      "Validation: 100%|██████████| 117/117 [00:56<00:00,  2.07batch/s]\n"
     ]
    },
    {
     "name": "stdout",
     "output_type": "stream",
     "text": [
      "No improvement in val loss for 2 epoch(s)\n",
      "Epoch 31/100\n"
     ]
    },
    {
     "name": "stderr",
     "output_type": "stream",
     "text": [
      "Training: 100%|██████████| 543/543 [07:37<00:00,  1.19batch/s, loss=0.3654]\n",
      "Validation: 100%|██████████| 117/117 [00:56<00:00,  2.07batch/s]\n"
     ]
    },
    {
     "name": "stdout",
     "output_type": "stream",
     "text": [
      "No improvement in val loss for 3 epoch(s)\n",
      "Epoch 32/100\n"
     ]
    },
    {
     "name": "stderr",
     "output_type": "stream",
     "text": [
      "Training: 100%|██████████| 543/543 [07:38<00:00,  1.18batch/s, loss=0.3604]\n",
      "Validation: 100%|██████████| 117/117 [00:56<00:00,  2.06batch/s]\n"
     ]
    },
    {
     "name": "stdout",
     "output_type": "stream",
     "text": [
      "No improvement in val loss for 4 epoch(s)\n",
      "Epoch 33/100\n"
     ]
    },
    {
     "name": "stderr",
     "output_type": "stream",
     "text": [
      "Training: 100%|██████████| 543/543 [07:38<00:00,  1.19batch/s, loss=0.3500]\n",
      "Validation: 100%|██████████| 117/117 [00:56<00:00,  2.06batch/s]\n"
     ]
    },
    {
     "name": "stdout",
     "output_type": "stream",
     "text": [
      "No improvement in val loss for 5 epoch(s)\n",
      "Epoch 34/100\n"
     ]
    },
    {
     "name": "stderr",
     "output_type": "stream",
     "text": [
      "Training: 100%|██████████| 543/543 [07:35<00:00,  1.19batch/s, loss=0.3475]\n",
      "Validation: 100%|██████████| 117/117 [00:55<00:00,  2.11batch/s]\n"
     ]
    },
    {
     "name": "stdout",
     "output_type": "stream",
     "text": [
      "Best model saved at epoch 34\n",
      "Epoch 35/100\n"
     ]
    },
    {
     "name": "stderr",
     "output_type": "stream",
     "text": [
      "Training: 100%|██████████| 543/543 [07:37<00:00,  1.19batch/s, loss=0.3371]\n",
      "Validation: 100%|██████████| 117/117 [00:56<00:00,  2.07batch/s]\n"
     ]
    },
    {
     "name": "stdout",
     "output_type": "stream",
     "text": [
      "Best model saved at epoch 35\n",
      "Epoch 36/100\n"
     ]
    },
    {
     "name": "stderr",
     "output_type": "stream",
     "text": [
      "Training: 100%|██████████| 543/543 [07:35<00:00,  1.19batch/s, loss=0.3289]\n",
      "Validation: 100%|██████████| 117/117 [00:56<00:00,  2.09batch/s]\n"
     ]
    },
    {
     "name": "stdout",
     "output_type": "stream",
     "text": [
      "Best model saved at epoch 36\n",
      "Epoch 37/100\n"
     ]
    },
    {
     "name": "stderr",
     "output_type": "stream",
     "text": [
      "Training: 100%|██████████| 543/543 [07:37<00:00,  1.19batch/s, loss=0.3224]\n",
      "Validation: 100%|██████████| 117/117 [00:56<00:00,  2.09batch/s]\n"
     ]
    },
    {
     "name": "stdout",
     "output_type": "stream",
     "text": [
      "No improvement in val loss for 1 epoch(s)\n",
      "Epoch 38/100\n"
     ]
    },
    {
     "name": "stderr",
     "output_type": "stream",
     "text": [
      "Training: 100%|██████████| 543/543 [07:38<00:00,  1.18batch/s, loss=0.3091]\n",
      "Validation: 100%|██████████| 117/117 [00:56<00:00,  2.07batch/s]\n"
     ]
    },
    {
     "name": "stdout",
     "output_type": "stream",
     "text": [
      "Best model saved at epoch 38\n",
      "Epoch 39/100\n"
     ]
    },
    {
     "name": "stderr",
     "output_type": "stream",
     "text": [
      "Training: 100%|██████████| 543/543 [07:38<00:00,  1.19batch/s, loss=0.3058]\n",
      "Validation: 100%|██████████| 117/117 [00:56<00:00,  2.07batch/s]\n"
     ]
    },
    {
     "name": "stdout",
     "output_type": "stream",
     "text": [
      "No improvement in val loss for 1 epoch(s)\n",
      "Epoch 40/100\n"
     ]
    },
    {
     "name": "stderr",
     "output_type": "stream",
     "text": [
      "Training: 100%|██████████| 543/543 [07:36<00:00,  1.19batch/s, loss=0.2996]\n",
      "Validation: 100%|██████████| 117/117 [00:55<00:00,  2.09batch/s]\n"
     ]
    },
    {
     "name": "stdout",
     "output_type": "stream",
     "text": [
      "No improvement in val loss for 2 epoch(s)\n",
      "Epoch 41/100\n"
     ]
    },
    {
     "name": "stderr",
     "output_type": "stream",
     "text": [
      "Training: 100%|██████████| 543/543 [07:38<00:00,  1.18batch/s, loss=0.2974]\n",
      "Validation: 100%|██████████| 117/117 [00:56<00:00,  2.07batch/s]\n"
     ]
    },
    {
     "name": "stdout",
     "output_type": "stream",
     "text": [
      "No improvement in val loss for 3 epoch(s)\n",
      "Epoch 42/100\n"
     ]
    },
    {
     "name": "stderr",
     "output_type": "stream",
     "text": [
      "Training: 100%|██████████| 543/543 [07:37<00:00,  1.19batch/s, loss=0.2905]\n",
      "Validation: 100%|██████████| 117/117 [00:56<00:00,  2.07batch/s]\n"
     ]
    },
    {
     "name": "stdout",
     "output_type": "stream",
     "text": [
      "No improvement in val loss for 4 epoch(s)\n",
      "Epoch 43/100\n"
     ]
    },
    {
     "name": "stderr",
     "output_type": "stream",
     "text": [
      "Training: 100%|██████████| 543/543 [07:39<00:00,  1.18batch/s, loss=0.2852]\n",
      "Validation: 100%|██████████| 117/117 [00:56<00:00,  2.07batch/s]\n"
     ]
    },
    {
     "name": "stdout",
     "output_type": "stream",
     "text": [
      "No improvement in val loss for 5 epoch(s)\n",
      "Epoch 44/100\n"
     ]
    },
    {
     "name": "stderr",
     "output_type": "stream",
     "text": [
      "Training: 100%|██████████| 543/543 [07:38<00:00,  1.18batch/s, loss=0.2782]\n",
      "Validation: 100%|██████████| 117/117 [00:56<00:00,  2.07batch/s]\n"
     ]
    },
    {
     "name": "stdout",
     "output_type": "stream",
     "text": [
      "Best model saved at epoch 44\n",
      "Epoch 45/100\n"
     ]
    },
    {
     "name": "stderr",
     "output_type": "stream",
     "text": [
      "Training: 100%|██████████| 543/543 [07:34<00:00,  1.20batch/s, loss=0.2772]\n",
      "Validation: 100%|██████████| 117/117 [00:55<00:00,  2.10batch/s]\n"
     ]
    },
    {
     "name": "stdout",
     "output_type": "stream",
     "text": [
      "No improvement in val loss for 1 epoch(s)\n",
      "Epoch 46/100\n"
     ]
    },
    {
     "name": "stderr",
     "output_type": "stream",
     "text": [
      "Training: 100%|██████████| 543/543 [07:36<00:00,  1.19batch/s, loss=0.2668]\n",
      "Validation: 100%|██████████| 117/117 [00:56<00:00,  2.08batch/s]\n"
     ]
    },
    {
     "name": "stdout",
     "output_type": "stream",
     "text": [
      "No improvement in val loss for 2 epoch(s)\n",
      "Epoch 47/100\n"
     ]
    },
    {
     "name": "stderr",
     "output_type": "stream",
     "text": [
      "Training: 100%|██████████| 543/543 [07:38<00:00,  1.18batch/s, loss=0.2608]\n",
      "Validation: 100%|██████████| 117/117 [00:56<00:00,  2.07batch/s]\n"
     ]
    },
    {
     "name": "stdout",
     "output_type": "stream",
     "text": [
      "No improvement in val loss for 3 epoch(s)\n",
      "Epoch 48/100\n"
     ]
    },
    {
     "name": "stderr",
     "output_type": "stream",
     "text": [
      "Training: 100%|██████████| 543/543 [07:33<00:00,  1.20batch/s, loss=0.2551]\n",
      "Validation: 100%|██████████| 117/117 [00:55<00:00,  2.11batch/s]\n"
     ]
    },
    {
     "name": "stdout",
     "output_type": "stream",
     "text": [
      "Best model saved at epoch 48\n",
      "Epoch 49/100\n"
     ]
    },
    {
     "name": "stderr",
     "output_type": "stream",
     "text": [
      "Training: 100%|██████████| 543/543 [07:38<00:00,  1.18batch/s, loss=0.2549]\n",
      "Validation: 100%|██████████| 117/117 [00:56<00:00,  2.07batch/s]\n"
     ]
    },
    {
     "name": "stdout",
     "output_type": "stream",
     "text": [
      "No improvement in val loss for 1 epoch(s)\n",
      "Epoch 50/100\n"
     ]
    },
    {
     "name": "stderr",
     "output_type": "stream",
     "text": [
      "Training: 100%|██████████| 543/543 [07:37<00:00,  1.19batch/s, loss=0.2517]\n",
      "Validation: 100%|██████████| 117/117 [00:56<00:00,  2.07batch/s]\n"
     ]
    },
    {
     "name": "stdout",
     "output_type": "stream",
     "text": [
      "Best model saved at epoch 50\n",
      "Epoch 51/100\n"
     ]
    },
    {
     "name": "stderr",
     "output_type": "stream",
     "text": [
      "Training: 100%|██████████| 543/543 [07:35<00:00,  1.19batch/s, loss=0.2437]\n",
      "Validation: 100%|██████████| 117/117 [00:55<00:00,  2.10batch/s]\n"
     ]
    },
    {
     "name": "stdout",
     "output_type": "stream",
     "text": [
      "Best model saved at epoch 51\n",
      "Epoch 52/100\n"
     ]
    },
    {
     "name": "stderr",
     "output_type": "stream",
     "text": [
      "Training: 100%|██████████| 543/543 [07:36<00:00,  1.19batch/s, loss=0.2424]\n",
      "Validation: 100%|██████████| 117/117 [00:56<00:00,  2.08batch/s]\n"
     ]
    },
    {
     "name": "stdout",
     "output_type": "stream",
     "text": [
      "No improvement in val loss for 1 epoch(s)\n",
      "Epoch 53/100\n"
     ]
    },
    {
     "name": "stderr",
     "output_type": "stream",
     "text": [
      "Training: 100%|██████████| 543/543 [07:36<00:00,  1.19batch/s, loss=0.2432]\n",
      "Validation: 100%|██████████| 117/117 [00:55<00:00,  2.09batch/s]\n"
     ]
    },
    {
     "name": "stdout",
     "output_type": "stream",
     "text": [
      "No improvement in val loss for 2 epoch(s)\n",
      "Epoch 54/100\n"
     ]
    },
    {
     "name": "stderr",
     "output_type": "stream",
     "text": [
      "Training: 100%|██████████| 543/543 [07:37<00:00,  1.19batch/s, loss=0.2328]\n",
      "Validation: 100%|██████████| 117/117 [00:56<00:00,  2.07batch/s]\n"
     ]
    },
    {
     "name": "stdout",
     "output_type": "stream",
     "text": [
      "No improvement in val loss for 3 epoch(s)\n",
      "Epoch 55/100\n"
     ]
    },
    {
     "name": "stderr",
     "output_type": "stream",
     "text": [
      "Training: 100%|██████████| 543/543 [07:36<00:00,  1.19batch/s, loss=0.2312]\n",
      "Validation: 100%|██████████| 117/117 [00:56<00:00,  2.08batch/s]\n"
     ]
    },
    {
     "name": "stdout",
     "output_type": "stream",
     "text": [
      "No improvement in val loss for 4 epoch(s)\n",
      "Epoch 56/100\n"
     ]
    },
    {
     "name": "stderr",
     "output_type": "stream",
     "text": [
      "Training: 100%|██████████| 543/543 [07:37<00:00,  1.19batch/s, loss=0.2339]\n",
      "Validation: 100%|██████████| 117/117 [00:56<00:00,  2.08batch/s]\n"
     ]
    },
    {
     "name": "stdout",
     "output_type": "stream",
     "text": [
      "No improvement in val loss for 5 epoch(s)\n",
      "Epoch 57/100\n"
     ]
    },
    {
     "name": "stderr",
     "output_type": "stream",
     "text": [
      "Training: 100%|██████████| 543/543 [07:38<00:00,  1.18batch/s, loss=0.2306]\n",
      "Validation: 100%|██████████| 117/117 [00:56<00:00,  2.07batch/s]\n"
     ]
    },
    {
     "name": "stdout",
     "output_type": "stream",
     "text": [
      "Best model saved at epoch 57\n",
      "Epoch 58/100\n"
     ]
    },
    {
     "name": "stderr",
     "output_type": "stream",
     "text": [
      "Training: 100%|██████████| 543/543 [07:38<00:00,  1.18batch/s, loss=0.2229]\n",
      "Validation: 100%|██████████| 117/117 [00:56<00:00,  2.08batch/s]\n"
     ]
    },
    {
     "name": "stdout",
     "output_type": "stream",
     "text": [
      "No improvement in val loss for 1 epoch(s)\n",
      "Epoch 59/100\n"
     ]
    },
    {
     "name": "stderr",
     "output_type": "stream",
     "text": [
      "Training: 100%|██████████| 543/543 [07:38<00:00,  1.18batch/s, loss=0.2183]\n",
      "Validation: 100%|██████████| 117/117 [00:56<00:00,  2.06batch/s]\n"
     ]
    },
    {
     "name": "stdout",
     "output_type": "stream",
     "text": [
      "No improvement in val loss for 2 epoch(s)\n",
      "Epoch 60/100\n"
     ]
    },
    {
     "name": "stderr",
     "output_type": "stream",
     "text": [
      "Training: 100%|██████████| 543/543 [07:39<00:00,  1.18batch/s, loss=0.2113]\n",
      "Validation: 100%|██████████| 117/117 [00:56<00:00,  2.07batch/s]\n"
     ]
    },
    {
     "name": "stdout",
     "output_type": "stream",
     "text": [
      "No improvement in val loss for 3 epoch(s)\n",
      "Epoch 61/100\n"
     ]
    },
    {
     "name": "stderr",
     "output_type": "stream",
     "text": [
      "Training: 100%|██████████| 543/543 [07:38<00:00,  1.18batch/s, loss=0.2152]\n",
      "Validation: 100%|██████████| 117/117 [00:56<00:00,  2.06batch/s]\n"
     ]
    },
    {
     "name": "stdout",
     "output_type": "stream",
     "text": [
      "No improvement in val loss for 4 epoch(s)\n",
      "Epoch 62/100\n"
     ]
    },
    {
     "name": "stderr",
     "output_type": "stream",
     "text": [
      "Training: 100%|██████████| 543/543 [07:40<00:00,  1.18batch/s, loss=0.2081]\n",
      "Validation: 100%|██████████| 117/117 [00:56<00:00,  2.07batch/s]\n"
     ]
    },
    {
     "name": "stdout",
     "output_type": "stream",
     "text": [
      "No improvement in val loss for 5 epoch(s)\n",
      "Epoch 63/100\n"
     ]
    },
    {
     "name": "stderr",
     "output_type": "stream",
     "text": [
      "Training: 100%|██████████| 543/543 [07:38<00:00,  1.18batch/s, loss=0.2090]\n",
      "Validation: 100%|██████████| 117/117 [00:56<00:00,  2.05batch/s]\n"
     ]
    },
    {
     "name": "stdout",
     "output_type": "stream",
     "text": [
      "Best model saved at epoch 63\n",
      "Epoch 64/100\n"
     ]
    },
    {
     "name": "stderr",
     "output_type": "stream",
     "text": [
      "Training: 100%|██████████| 543/543 [07:32<00:00,  1.20batch/s, loss=0.2051]\n",
      "Validation: 100%|██████████| 117/117 [00:55<00:00,  2.12batch/s]\n"
     ]
    },
    {
     "name": "stdout",
     "output_type": "stream",
     "text": [
      "Best model saved at epoch 64\n",
      "Epoch 65/100\n"
     ]
    },
    {
     "name": "stderr",
     "output_type": "stream",
     "text": [
      "Training: 100%|██████████| 543/543 [07:37<00:00,  1.19batch/s, loss=0.2022]\n",
      "Validation: 100%|██████████| 117/117 [00:56<00:00,  2.06batch/s]\n"
     ]
    },
    {
     "name": "stdout",
     "output_type": "stream",
     "text": [
      "No improvement in val loss for 1 epoch(s)\n",
      "Epoch 66/100\n"
     ]
    },
    {
     "name": "stderr",
     "output_type": "stream",
     "text": [
      "Training: 100%|██████████| 543/543 [07:36<00:00,  1.19batch/s, loss=0.1984]\n",
      "Validation: 100%|██████████| 117/117 [00:55<00:00,  2.09batch/s]\n"
     ]
    },
    {
     "name": "stdout",
     "output_type": "stream",
     "text": [
      "No improvement in val loss for 2 epoch(s)\n",
      "Epoch 67/100\n"
     ]
    },
    {
     "name": "stderr",
     "output_type": "stream",
     "text": [
      "Training: 100%|██████████| 543/543 [07:31<00:00,  1.20batch/s, loss=0.1982]\n",
      "Validation: 100%|██████████| 117/117 [00:54<00:00,  2.13batch/s]\n"
     ]
    },
    {
     "name": "stdout",
     "output_type": "stream",
     "text": [
      "No improvement in val loss for 3 epoch(s)\n",
      "Epoch 68/100\n"
     ]
    },
    {
     "name": "stderr",
     "output_type": "stream",
     "text": [
      "Training: 100%|██████████| 543/543 [07:38<00:00,  1.19batch/s, loss=0.1960]\n",
      "Validation: 100%|██████████| 117/117 [00:56<00:00,  2.08batch/s]\n"
     ]
    },
    {
     "name": "stdout",
     "output_type": "stream",
     "text": [
      "No improvement in val loss for 4 epoch(s)\n",
      "Epoch 69/100\n"
     ]
    },
    {
     "name": "stderr",
     "output_type": "stream",
     "text": [
      "Training: 100%|██████████| 543/543 [07:39<00:00,  1.18batch/s, loss=0.1927]\n",
      "Validation: 100%|██████████| 117/117 [00:56<00:00,  2.07batch/s]\n"
     ]
    },
    {
     "name": "stdout",
     "output_type": "stream",
     "text": [
      "No improvement in val loss for 5 epoch(s)\n",
      "Epoch 70/100\n"
     ]
    },
    {
     "name": "stderr",
     "output_type": "stream",
     "text": [
      "Training: 100%|██████████| 543/543 [07:37<00:00,  1.19batch/s, loss=0.1903]\n",
      "Validation: 100%|██████████| 117/117 [00:55<00:00,  2.09batch/s]\n"
     ]
    },
    {
     "name": "stdout",
     "output_type": "stream",
     "text": [
      "No improvement in val loss for 6 epoch(s)\n",
      "Epoch 71/100\n"
     ]
    },
    {
     "name": "stderr",
     "output_type": "stream",
     "text": [
      "Training: 100%|██████████| 543/543 [07:38<00:00,  1.19batch/s, loss=0.1828]\n",
      "Validation: 100%|██████████| 117/117 [00:57<00:00,  2.05batch/s]\n"
     ]
    },
    {
     "name": "stdout",
     "output_type": "stream",
     "text": [
      "No improvement in val loss for 7 epoch(s)\n",
      "Epoch 72/100\n"
     ]
    },
    {
     "name": "stderr",
     "output_type": "stream",
     "text": [
      "Training: 100%|██████████| 543/543 [07:38<00:00,  1.18batch/s, loss=0.1834]\n",
      "Validation: 100%|██████████| 117/117 [00:56<00:00,  2.06batch/s]\n"
     ]
    },
    {
     "name": "stdout",
     "output_type": "stream",
     "text": [
      "No improvement in val loss for 8 epoch(s)\n",
      "Epoch 73/100\n"
     ]
    },
    {
     "name": "stderr",
     "output_type": "stream",
     "text": [
      "Training: 100%|██████████| 543/543 [07:40<00:00,  1.18batch/s, loss=0.1842]\n",
      "Validation: 100%|██████████| 117/117 [00:56<00:00,  2.07batch/s]\n"
     ]
    },
    {
     "name": "stdout",
     "output_type": "stream",
     "text": [
      "No improvement in val loss for 9 epoch(s)\n",
      "Epoch 74/100\n"
     ]
    },
    {
     "name": "stderr",
     "output_type": "stream",
     "text": [
      "Training: 100%|██████████| 543/543 [07:37<00:00,  1.19batch/s, loss=0.1808]\n",
      "Validation: 100%|██████████| 117/117 [00:55<00:00,  2.10batch/s]\n"
     ]
    },
    {
     "name": "stdout",
     "output_type": "stream",
     "text": [
      "Best model saved at epoch 74\n",
      "Epoch 75/100\n"
     ]
    },
    {
     "name": "stderr",
     "output_type": "stream",
     "text": [
      "Training: 100%|██████████| 543/543 [07:35<00:00,  1.19batch/s, loss=0.1796]\n",
      "Validation: 100%|██████████| 117/117 [00:56<00:00,  2.08batch/s]\n"
     ]
    },
    {
     "name": "stdout",
     "output_type": "stream",
     "text": [
      "No improvement in val loss for 1 epoch(s)\n",
      "Epoch 76/100\n"
     ]
    },
    {
     "name": "stderr",
     "output_type": "stream",
     "text": [
      "Training: 100%|██████████| 543/543 [07:36<00:00,  1.19batch/s, loss=0.1787]\n",
      "Validation: 100%|██████████| 117/117 [00:56<00:00,  2.08batch/s]\n"
     ]
    },
    {
     "name": "stdout",
     "output_type": "stream",
     "text": [
      "No improvement in val loss for 2 epoch(s)\n",
      "Epoch 77/100\n"
     ]
    },
    {
     "name": "stderr",
     "output_type": "stream",
     "text": [
      "Training: 100%|██████████| 543/543 [07:39<00:00,  1.18batch/s, loss=0.1785]\n",
      "Validation: 100%|██████████| 117/117 [00:56<00:00,  2.06batch/s]\n"
     ]
    },
    {
     "name": "stdout",
     "output_type": "stream",
     "text": [
      "No improvement in val loss for 3 epoch(s)\n",
      "Epoch 78/100\n"
     ]
    },
    {
     "name": "stderr",
     "output_type": "stream",
     "text": [
      "Training: 100%|██████████| 543/543 [07:39<00:00,  1.18batch/s, loss=0.1723]\n",
      "Validation: 100%|██████████| 117/117 [00:56<00:00,  2.08batch/s]\n"
     ]
    },
    {
     "name": "stdout",
     "output_type": "stream",
     "text": [
      "No improvement in val loss for 4 epoch(s)\n",
      "Epoch 79/100\n"
     ]
    },
    {
     "name": "stderr",
     "output_type": "stream",
     "text": [
      "Training: 100%|██████████| 543/543 [07:39<00:00,  1.18batch/s, loss=0.1714]\n",
      "Validation: 100%|██████████| 117/117 [00:56<00:00,  2.07batch/s]\n"
     ]
    },
    {
     "name": "stdout",
     "output_type": "stream",
     "text": [
      "No improvement in val loss for 5 epoch(s)\n",
      "Epoch 80/100\n"
     ]
    },
    {
     "name": "stderr",
     "output_type": "stream",
     "text": [
      "Training: 100%|██████████| 543/543 [07:40<00:00,  1.18batch/s, loss=0.1672]\n",
      "Validation: 100%|██████████| 117/117 [00:56<00:00,  2.06batch/s]\n"
     ]
    },
    {
     "name": "stdout",
     "output_type": "stream",
     "text": [
      "No improvement in val loss for 6 epoch(s)\n",
      "Epoch 81/100\n"
     ]
    },
    {
     "name": "stderr",
     "output_type": "stream",
     "text": [
      "Training: 100%|██████████| 543/543 [07:32<00:00,  1.20batch/s, loss=0.1678]\n",
      "Validation: 100%|██████████| 117/117 [00:55<00:00,  2.10batch/s]\n"
     ]
    },
    {
     "name": "stdout",
     "output_type": "stream",
     "text": [
      "No improvement in val loss for 7 epoch(s)\n",
      "Epoch 82/100\n"
     ]
    },
    {
     "name": "stderr",
     "output_type": "stream",
     "text": [
      "Training: 100%|██████████| 543/543 [07:40<00:00,  1.18batch/s, loss=0.1666]\n",
      "Validation: 100%|██████████| 117/117 [00:56<00:00,  2.06batch/s]\n"
     ]
    },
    {
     "name": "stdout",
     "output_type": "stream",
     "text": [
      "No improvement in val loss for 8 epoch(s)\n",
      "Epoch 83/100\n"
     ]
    },
    {
     "name": "stderr",
     "output_type": "stream",
     "text": [
      "Training: 100%|██████████| 543/543 [07:37<00:00,  1.19batch/s, loss=0.1609]\n",
      "Validation: 100%|██████████| 117/117 [00:56<00:00,  2.08batch/s]\n"
     ]
    },
    {
     "name": "stdout",
     "output_type": "stream",
     "text": [
      "No improvement in val loss for 9 epoch(s)\n",
      "Epoch 84/100\n"
     ]
    },
    {
     "name": "stderr",
     "output_type": "stream",
     "text": [
      "Training: 100%|██████████| 543/543 [07:38<00:00,  1.18batch/s, loss=0.1630]\n",
      "Validation: 100%|██████████| 117/117 [00:56<00:00,  2.07batch/s]\n",
      "/tmp/ipykernel_69104/673473184.py:153: FutureWarning: You are using `torch.load` with `weights_only=False` (the current default value), which uses the default pickle module implicitly. It is possible to construct malicious pickle data which will execute arbitrary code during unpickling (See https://github.com/pytorch/pytorch/blob/main/SECURITY.md#untrusted-models for more details). In a future release, the default value for `weights_only` will be flipped to `True`. This limits the functions that could be executed during unpickling. Arbitrary objects will no longer be allowed to be loaded via this mode unless they are explicitly allowlisted by the user via `torch.serialization.add_safe_globals`. We recommend you start setting `weights_only=True` for any use case where you don't have full control of the loaded file. Please open an issue on GitHub for any issues related to this experimental feature.\n",
      "  model.load_state_dict(torch.load(best_model_path))\n"
     ]
    },
    {
     "name": "stdout",
     "output_type": "stream",
     "text": [
      "No improvement in val loss for 10 epoch(s)\n",
      "Early stopping triggered. Training stopped.\n",
      "\n",
      "=== Testowanie modelu dla batch_size: 128 ===\n"
     ]
    },
    {
     "name": "stderr",
     "output_type": "stream",
     "text": [
      "Testing: 100%|██████████| 117/117 [00:56<00:00,  2.07batch/s]\n"
     ]
    },
    {
     "name": "stdout",
     "output_type": "stream",
     "text": [
      "\n",
      "=== Trening dla batch_size: 256 ===\n",
      "Epoch 1/100\n"
     ]
    },
    {
     "name": "stderr",
     "output_type": "stream",
     "text": [
      "Training: 100%|██████████| 272/272 [07:31<00:00,  1.66s/batch, loss=2.2822]\n",
      "Validation: 100%|██████████| 59/59 [00:56<00:00,  1.05batch/s]\n"
     ]
    },
    {
     "name": "stdout",
     "output_type": "stream",
     "text": [
      "Best model saved at epoch 1\n",
      "Epoch 2/100\n"
     ]
    },
    {
     "name": "stderr",
     "output_type": "stream",
     "text": [
      "Training: 100%|██████████| 272/272 [07:31<00:00,  1.66s/batch, loss=2.0451]\n",
      "Validation: 100%|██████████| 59/59 [00:55<00:00,  1.06batch/s]\n"
     ]
    },
    {
     "name": "stdout",
     "output_type": "stream",
     "text": [
      "Best model saved at epoch 2\n",
      "Epoch 3/100\n"
     ]
    },
    {
     "name": "stderr",
     "output_type": "stream",
     "text": [
      "Training: 100%|██████████| 272/272 [07:29<00:00,  1.65s/batch, loss=1.9206]\n",
      "Validation: 100%|██████████| 59/59 [00:55<00:00,  1.07batch/s]\n"
     ]
    },
    {
     "name": "stdout",
     "output_type": "stream",
     "text": [
      "Best model saved at epoch 3\n",
      "Epoch 4/100\n"
     ]
    },
    {
     "name": "stderr",
     "output_type": "stream",
     "text": [
      "Training: 100%|██████████| 272/272 [07:22<00:00,  1.63s/batch, loss=1.8101]\n",
      "Validation: 100%|██████████| 59/59 [00:53<00:00,  1.11batch/s]\n"
     ]
    },
    {
     "name": "stdout",
     "output_type": "stream",
     "text": [
      "Best model saved at epoch 4\n",
      "Epoch 5/100\n"
     ]
    },
    {
     "name": "stderr",
     "output_type": "stream",
     "text": [
      "Training: 100%|██████████| 272/272 [07:30<00:00,  1.66s/batch, loss=1.7136]\n",
      "Validation: 100%|██████████| 59/59 [00:55<00:00,  1.07batch/s]\n"
     ]
    },
    {
     "name": "stdout",
     "output_type": "stream",
     "text": [
      "Best model saved at epoch 5\n",
      "Epoch 6/100\n"
     ]
    },
    {
     "name": "stderr",
     "output_type": "stream",
     "text": [
      "Training: 100%|██████████| 272/272 [07:31<00:00,  1.66s/batch, loss=1.6152]\n",
      "Validation: 100%|██████████| 59/59 [00:55<00:00,  1.07batch/s]\n"
     ]
    },
    {
     "name": "stdout",
     "output_type": "stream",
     "text": [
      "Best model saved at epoch 6\n",
      "Epoch 7/100\n"
     ]
    },
    {
     "name": "stderr",
     "output_type": "stream",
     "text": [
      "Training: 100%|██████████| 272/272 [07:33<00:00,  1.67s/batch, loss=1.4971]\n",
      "Validation: 100%|██████████| 59/59 [00:55<00:00,  1.06batch/s]\n"
     ]
    },
    {
     "name": "stdout",
     "output_type": "stream",
     "text": [
      "Best model saved at epoch 7\n",
      "Epoch 8/100\n"
     ]
    },
    {
     "name": "stderr",
     "output_type": "stream",
     "text": [
      "Training: 100%|██████████| 272/272 [07:33<00:00,  1.67s/batch, loss=1.3971]\n",
      "Validation: 100%|██████████| 59/59 [00:55<00:00,  1.06batch/s]\n"
     ]
    },
    {
     "name": "stdout",
     "output_type": "stream",
     "text": [
      "Best model saved at epoch 8\n",
      "Epoch 9/100\n"
     ]
    },
    {
     "name": "stderr",
     "output_type": "stream",
     "text": [
      "Training: 100%|██████████| 272/272 [07:34<00:00,  1.67s/batch, loss=1.2714]\n",
      "Validation: 100%|██████████| 59/59 [00:56<00:00,  1.05batch/s]\n"
     ]
    },
    {
     "name": "stdout",
     "output_type": "stream",
     "text": [
      "Best model saved at epoch 9\n",
      "Epoch 10/100\n"
     ]
    },
    {
     "name": "stderr",
     "output_type": "stream",
     "text": [
      "Training: 100%|██████████| 272/272 [07:33<00:00,  1.67s/batch, loss=1.1778]\n",
      "Validation: 100%|██████████| 59/59 [00:55<00:00,  1.06batch/s]\n"
     ]
    },
    {
     "name": "stdout",
     "output_type": "stream",
     "text": [
      "Best model saved at epoch 10\n",
      "Epoch 11/100\n"
     ]
    },
    {
     "name": "stderr",
     "output_type": "stream",
     "text": [
      "Training: 100%|██████████| 272/272 [07:30<00:00,  1.66s/batch, loss=1.0830]\n",
      "Validation: 100%|██████████| 59/59 [00:55<00:00,  1.07batch/s]\n"
     ]
    },
    {
     "name": "stdout",
     "output_type": "stream",
     "text": [
      "No improvement in val loss for 1 epoch(s)\n",
      "Epoch 12/100\n"
     ]
    },
    {
     "name": "stderr",
     "output_type": "stream",
     "text": [
      "Training: 100%|██████████| 272/272 [07:26<00:00,  1.64s/batch, loss=1.0197]\n",
      "Validation: 100%|██████████| 59/59 [00:54<00:00,  1.08batch/s]\n"
     ]
    },
    {
     "name": "stdout",
     "output_type": "stream",
     "text": [
      "Best model saved at epoch 12\n",
      "Epoch 13/100\n"
     ]
    },
    {
     "name": "stderr",
     "output_type": "stream",
     "text": [
      "Training: 100%|██████████| 272/272 [07:33<00:00,  1.67s/batch, loss=0.9374]\n",
      "Validation: 100%|██████████| 59/59 [00:56<00:00,  1.05batch/s]\n"
     ]
    },
    {
     "name": "stdout",
     "output_type": "stream",
     "text": [
      "No improvement in val loss for 1 epoch(s)\n",
      "Epoch 14/100\n"
     ]
    },
    {
     "name": "stderr",
     "output_type": "stream",
     "text": [
      "Training: 100%|██████████| 272/272 [07:34<00:00,  1.67s/batch, loss=0.8766]\n",
      "Validation: 100%|██████████| 59/59 [00:55<00:00,  1.05batch/s]\n"
     ]
    },
    {
     "name": "stdout",
     "output_type": "stream",
     "text": [
      "Best model saved at epoch 14\n",
      "Epoch 15/100\n"
     ]
    },
    {
     "name": "stderr",
     "output_type": "stream",
     "text": [
      "Training: 100%|██████████| 272/272 [07:31<00:00,  1.66s/batch, loss=0.8521]\n",
      "Validation: 100%|██████████| 59/59 [00:55<00:00,  1.07batch/s]\n"
     ]
    },
    {
     "name": "stdout",
     "output_type": "stream",
     "text": [
      "Best model saved at epoch 15\n",
      "Epoch 16/100\n"
     ]
    },
    {
     "name": "stderr",
     "output_type": "stream",
     "text": [
      "Training: 100%|██████████| 272/272 [07:33<00:00,  1.67s/batch, loss=0.7994]\n",
      "Validation: 100%|██████████| 59/59 [00:55<00:00,  1.06batch/s]\n"
     ]
    },
    {
     "name": "stdout",
     "output_type": "stream",
     "text": [
      "Best model saved at epoch 16\n",
      "Epoch 17/100\n"
     ]
    },
    {
     "name": "stderr",
     "output_type": "stream",
     "text": [
      "Training: 100%|██████████| 272/272 [07:33<00:00,  1.67s/batch, loss=0.7608]\n",
      "Validation: 100%|██████████| 59/59 [00:56<00:00,  1.05batch/s]\n"
     ]
    },
    {
     "name": "stdout",
     "output_type": "stream",
     "text": [
      "No improvement in val loss for 1 epoch(s)\n",
      "Epoch 18/100\n"
     ]
    },
    {
     "name": "stderr",
     "output_type": "stream",
     "text": [
      "Training: 100%|██████████| 272/272 [07:33<00:00,  1.67s/batch, loss=0.7333]\n",
      "Validation: 100%|██████████| 59/59 [00:56<00:00,  1.05batch/s]\n"
     ]
    },
    {
     "name": "stdout",
     "output_type": "stream",
     "text": [
      "Best model saved at epoch 18\n",
      "Epoch 19/100\n"
     ]
    },
    {
     "name": "stderr",
     "output_type": "stream",
     "text": [
      "Training: 100%|██████████| 272/272 [07:31<00:00,  1.66s/batch, loss=0.6934]\n",
      "Validation: 100%|██████████| 59/59 [00:55<00:00,  1.07batch/s]\n"
     ]
    },
    {
     "name": "stdout",
     "output_type": "stream",
     "text": [
      "Best model saved at epoch 19\n",
      "Epoch 20/100\n"
     ]
    },
    {
     "name": "stderr",
     "output_type": "stream",
     "text": [
      "Training: 100%|██████████| 272/272 [07:32<00:00,  1.66s/batch, loss=0.6697]\n",
      "Validation: 100%|██████████| 59/59 [00:56<00:00,  1.05batch/s]\n"
     ]
    },
    {
     "name": "stdout",
     "output_type": "stream",
     "text": [
      "No improvement in val loss for 1 epoch(s)\n",
      "Epoch 21/100\n"
     ]
    },
    {
     "name": "stderr",
     "output_type": "stream",
     "text": [
      "Training: 100%|██████████| 272/272 [07:34<00:00,  1.67s/batch, loss=0.6481]\n",
      "Validation: 100%|██████████| 59/59 [00:55<00:00,  1.06batch/s]\n"
     ]
    },
    {
     "name": "stdout",
     "output_type": "stream",
     "text": [
      "Best model saved at epoch 21\n",
      "Epoch 22/100\n"
     ]
    },
    {
     "name": "stderr",
     "output_type": "stream",
     "text": [
      "Training: 100%|██████████| 272/272 [07:33<00:00,  1.67s/batch, loss=0.6294]\n",
      "Validation: 100%|██████████| 59/59 [00:56<00:00,  1.05batch/s]\n"
     ]
    },
    {
     "name": "stdout",
     "output_type": "stream",
     "text": [
      "No improvement in val loss for 1 epoch(s)\n",
      "Epoch 23/100\n"
     ]
    },
    {
     "name": "stderr",
     "output_type": "stream",
     "text": [
      "Training: 100%|██████████| 272/272 [07:27<00:00,  1.64s/batch, loss=0.5956]\n",
      "Validation: 100%|██████████| 59/59 [00:54<00:00,  1.08batch/s]\n"
     ]
    },
    {
     "name": "stdout",
     "output_type": "stream",
     "text": [
      "Best model saved at epoch 23\n",
      "Epoch 24/100\n"
     ]
    },
    {
     "name": "stderr",
     "output_type": "stream",
     "text": [
      "Training: 100%|██████████| 272/272 [07:20<00:00,  1.62s/batch, loss=0.5771]\n",
      "Validation: 100%|██████████| 59/59 [00:53<00:00,  1.11batch/s]\n"
     ]
    },
    {
     "name": "stdout",
     "output_type": "stream",
     "text": [
      "Best model saved at epoch 24\n",
      "Epoch 25/100\n"
     ]
    },
    {
     "name": "stderr",
     "output_type": "stream",
     "text": [
      "Training: 100%|██████████| 272/272 [07:33<00:00,  1.67s/batch, loss=0.5573]\n",
      "Validation: 100%|██████████| 59/59 [00:56<00:00,  1.05batch/s]\n"
     ]
    },
    {
     "name": "stdout",
     "output_type": "stream",
     "text": [
      "No improvement in val loss for 1 epoch(s)\n",
      "Epoch 26/100\n"
     ]
    },
    {
     "name": "stderr",
     "output_type": "stream",
     "text": [
      "Training: 100%|██████████| 272/272 [07:35<00:00,  1.67s/batch, loss=0.5531]\n",
      "Validation: 100%|██████████| 59/59 [00:56<00:00,  1.05batch/s]\n"
     ]
    },
    {
     "name": "stdout",
     "output_type": "stream",
     "text": [
      "Best model saved at epoch 26\n",
      "Epoch 27/100\n"
     ]
    },
    {
     "name": "stderr",
     "output_type": "stream",
     "text": [
      "Training: 100%|██████████| 272/272 [07:34<00:00,  1.67s/batch, loss=0.5265]\n",
      "Validation: 100%|██████████| 59/59 [00:55<00:00,  1.06batch/s]\n"
     ]
    },
    {
     "name": "stdout",
     "output_type": "stream",
     "text": [
      "Best model saved at epoch 27\n",
      "Epoch 28/100\n"
     ]
    },
    {
     "name": "stderr",
     "output_type": "stream",
     "text": [
      "Training: 100%|██████████| 272/272 [07:33<00:00,  1.67s/batch, loss=0.5121]\n",
      "Validation: 100%|██████████| 59/59 [00:56<00:00,  1.04batch/s]\n"
     ]
    },
    {
     "name": "stdout",
     "output_type": "stream",
     "text": [
      "No improvement in val loss for 1 epoch(s)\n",
      "Epoch 29/100\n"
     ]
    },
    {
     "name": "stderr",
     "output_type": "stream",
     "text": [
      "Training: 100%|██████████| 272/272 [07:21<00:00,  1.62s/batch, loss=0.5026]\n",
      "Validation: 100%|██████████| 59/59 [00:53<00:00,  1.10batch/s]\n"
     ]
    },
    {
     "name": "stdout",
     "output_type": "stream",
     "text": [
      "Best model saved at epoch 29\n",
      "Epoch 30/100\n"
     ]
    },
    {
     "name": "stderr",
     "output_type": "stream",
     "text": [
      "Training: 100%|██████████| 272/272 [07:33<00:00,  1.67s/batch, loss=0.4839]\n",
      "Validation: 100%|██████████| 59/59 [00:55<00:00,  1.06batch/s]\n"
     ]
    },
    {
     "name": "stdout",
     "output_type": "stream",
     "text": [
      "No improvement in val loss for 1 epoch(s)\n",
      "Epoch 31/100\n"
     ]
    },
    {
     "name": "stderr",
     "output_type": "stream",
     "text": [
      "Training: 100%|██████████| 272/272 [07:21<00:00,  1.62s/batch, loss=0.4689]\n",
      "Validation: 100%|██████████| 59/59 [00:53<00:00,  1.10batch/s]\n"
     ]
    },
    {
     "name": "stdout",
     "output_type": "stream",
     "text": [
      "No improvement in val loss for 2 epoch(s)\n",
      "Epoch 32/100\n"
     ]
    },
    {
     "name": "stderr",
     "output_type": "stream",
     "text": [
      "Training: 100%|██████████| 272/272 [07:29<00:00,  1.65s/batch, loss=0.4638]\n",
      "Validation: 100%|██████████| 59/59 [00:55<00:00,  1.07batch/s]\n"
     ]
    },
    {
     "name": "stdout",
     "output_type": "stream",
     "text": [
      "Best model saved at epoch 32\n",
      "Epoch 33/100\n"
     ]
    },
    {
     "name": "stderr",
     "output_type": "stream",
     "text": [
      "Training: 100%|██████████| 272/272 [07:29<00:00,  1.65s/batch, loss=0.4479]\n",
      "Validation: 100%|██████████| 59/59 [00:54<00:00,  1.08batch/s]\n"
     ]
    },
    {
     "name": "stdout",
     "output_type": "stream",
     "text": [
      "No improvement in val loss for 1 epoch(s)\n",
      "Epoch 34/100\n"
     ]
    },
    {
     "name": "stderr",
     "output_type": "stream",
     "text": [
      "Training: 100%|██████████| 272/272 [07:22<00:00,  1.63s/batch, loss=0.4329]\n",
      "Validation: 100%|██████████| 59/59 [00:53<00:00,  1.11batch/s]\n"
     ]
    },
    {
     "name": "stdout",
     "output_type": "stream",
     "text": [
      "Best model saved at epoch 34\n",
      "Epoch 35/100\n"
     ]
    },
    {
     "name": "stderr",
     "output_type": "stream",
     "text": [
      "Training: 100%|██████████| 272/272 [07:33<00:00,  1.67s/batch, loss=0.4214]\n",
      "Validation: 100%|██████████| 59/59 [00:56<00:00,  1.05batch/s]\n"
     ]
    },
    {
     "name": "stdout",
     "output_type": "stream",
     "text": [
      "No improvement in val loss for 1 epoch(s)\n",
      "Epoch 36/100\n"
     ]
    },
    {
     "name": "stderr",
     "output_type": "stream",
     "text": [
      "Training: 100%|██████████| 272/272 [07:35<00:00,  1.68s/batch, loss=0.4154]\n",
      "Validation: 100%|██████████| 59/59 [00:55<00:00,  1.06batch/s]\n"
     ]
    },
    {
     "name": "stdout",
     "output_type": "stream",
     "text": [
      "Best model saved at epoch 36\n",
      "Epoch 37/100\n"
     ]
    },
    {
     "name": "stderr",
     "output_type": "stream",
     "text": [
      "Training: 100%|██████████| 272/272 [07:29<00:00,  1.65s/batch, loss=0.4080]\n",
      "Validation: 100%|██████████| 59/59 [00:55<00:00,  1.07batch/s]\n"
     ]
    },
    {
     "name": "stdout",
     "output_type": "stream",
     "text": [
      "No improvement in val loss for 1 epoch(s)\n",
      "Epoch 38/100\n"
     ]
    },
    {
     "name": "stderr",
     "output_type": "stream",
     "text": [
      "Training: 100%|██████████| 272/272 [07:34<00:00,  1.67s/batch, loss=0.3889]\n",
      "Validation: 100%|██████████| 59/59 [00:56<00:00,  1.05batch/s]\n"
     ]
    },
    {
     "name": "stdout",
     "output_type": "stream",
     "text": [
      "No improvement in val loss for 2 epoch(s)\n",
      "Epoch 39/100\n"
     ]
    },
    {
     "name": "stderr",
     "output_type": "stream",
     "text": [
      "Training: 100%|██████████| 272/272 [07:31<00:00,  1.66s/batch, loss=0.3805]\n",
      "Validation: 100%|██████████| 59/59 [00:54<00:00,  1.08batch/s]\n"
     ]
    },
    {
     "name": "stdout",
     "output_type": "stream",
     "text": [
      "No improvement in val loss for 3 epoch(s)\n",
      "Epoch 40/100\n"
     ]
    },
    {
     "name": "stderr",
     "output_type": "stream",
     "text": [
      "Training: 100%|██████████| 272/272 [07:34<00:00,  1.67s/batch, loss=0.3767]\n",
      "Validation: 100%|██████████| 59/59 [00:56<00:00,  1.05batch/s]\n"
     ]
    },
    {
     "name": "stdout",
     "output_type": "stream",
     "text": [
      "Best model saved at epoch 40\n",
      "Epoch 41/100\n"
     ]
    },
    {
     "name": "stderr",
     "output_type": "stream",
     "text": [
      "Training: 100%|██████████| 272/272 [07:33<00:00,  1.67s/batch, loss=0.3680]\n",
      "Validation: 100%|██████████| 59/59 [00:56<00:00,  1.05batch/s]\n"
     ]
    },
    {
     "name": "stdout",
     "output_type": "stream",
     "text": [
      "No improvement in val loss for 1 epoch(s)\n",
      "Epoch 42/100\n"
     ]
    },
    {
     "name": "stderr",
     "output_type": "stream",
     "text": [
      "Training: 100%|██████████| 272/272 [07:29<00:00,  1.65s/batch, loss=0.3583]\n",
      "Validation: 100%|██████████| 59/59 [00:54<00:00,  1.08batch/s]\n"
     ]
    },
    {
     "name": "stdout",
     "output_type": "stream",
     "text": [
      "No improvement in val loss for 2 epoch(s)\n",
      "Epoch 43/100\n"
     ]
    },
    {
     "name": "stderr",
     "output_type": "stream",
     "text": [
      "Training: 100%|██████████| 272/272 [07:33<00:00,  1.67s/batch, loss=0.3438]\n",
      "Validation: 100%|██████████| 59/59 [00:56<00:00,  1.05batch/s]\n"
     ]
    },
    {
     "name": "stdout",
     "output_type": "stream",
     "text": [
      "No improvement in val loss for 3 epoch(s)\n",
      "Epoch 44/100\n"
     ]
    },
    {
     "name": "stderr",
     "output_type": "stream",
     "text": [
      "Training: 100%|██████████| 272/272 [07:34<00:00,  1.67s/batch, loss=0.3443]\n",
      "Validation: 100%|██████████| 59/59 [00:56<00:00,  1.05batch/s]\n"
     ]
    },
    {
     "name": "stdout",
     "output_type": "stream",
     "text": [
      "No improvement in val loss for 4 epoch(s)\n",
      "Epoch 45/100\n"
     ]
    },
    {
     "name": "stderr",
     "output_type": "stream",
     "text": [
      "Training: 100%|██████████| 272/272 [07:36<00:00,  1.68s/batch, loss=0.3305]\n",
      "Validation: 100%|██████████| 59/59 [00:56<00:00,  1.05batch/s]\n"
     ]
    },
    {
     "name": "stdout",
     "output_type": "stream",
     "text": [
      "Best model saved at epoch 45\n",
      "Epoch 46/100\n"
     ]
    },
    {
     "name": "stderr",
     "output_type": "stream",
     "text": [
      "Training: 100%|██████████| 272/272 [07:29<00:00,  1.65s/batch, loss=0.3223]\n",
      "Validation: 100%|██████████| 59/59 [00:55<00:00,  1.07batch/s]\n"
     ]
    },
    {
     "name": "stdout",
     "output_type": "stream",
     "text": [
      "No improvement in val loss for 1 epoch(s)\n",
      "Epoch 47/100\n"
     ]
    },
    {
     "name": "stderr",
     "output_type": "stream",
     "text": [
      "Training: 100%|██████████| 272/272 [07:36<00:00,  1.68s/batch, loss=0.3202]\n",
      "Validation: 100%|██████████| 59/59 [00:56<00:00,  1.05batch/s]\n"
     ]
    },
    {
     "name": "stdout",
     "output_type": "stream",
     "text": [
      "Best model saved at epoch 47\n",
      "Epoch 48/100\n"
     ]
    },
    {
     "name": "stderr",
     "output_type": "stream",
     "text": [
      "Training: 100%|██████████| 272/272 [07:35<00:00,  1.67s/batch, loss=0.3071]\n",
      "Validation: 100%|██████████| 59/59 [00:56<00:00,  1.05batch/s]\n"
     ]
    },
    {
     "name": "stdout",
     "output_type": "stream",
     "text": [
      "No improvement in val loss for 1 epoch(s)\n",
      "Epoch 49/100\n"
     ]
    },
    {
     "name": "stderr",
     "output_type": "stream",
     "text": [
      "Training: 100%|██████████| 272/272 [07:36<00:00,  1.68s/batch, loss=0.3054]\n",
      "Validation: 100%|██████████| 59/59 [00:56<00:00,  1.05batch/s]\n"
     ]
    },
    {
     "name": "stdout",
     "output_type": "stream",
     "text": [
      "No improvement in val loss for 2 epoch(s)\n",
      "Epoch 50/100\n"
     ]
    },
    {
     "name": "stderr",
     "output_type": "stream",
     "text": [
      "Training: 100%|██████████| 272/272 [07:31<00:00,  1.66s/batch, loss=0.2989]\n",
      "Validation: 100%|██████████| 59/59 [00:55<00:00,  1.06batch/s]\n"
     ]
    },
    {
     "name": "stdout",
     "output_type": "stream",
     "text": [
      "Best model saved at epoch 50\n",
      "Epoch 51/100\n"
     ]
    },
    {
     "name": "stderr",
     "output_type": "stream",
     "text": [
      "Training: 100%|██████████| 272/272 [07:33<00:00,  1.67s/batch, loss=0.2982]\n",
      "Validation: 100%|██████████| 59/59 [00:55<00:00,  1.06batch/s]\n"
     ]
    },
    {
     "name": "stdout",
     "output_type": "stream",
     "text": [
      "Best model saved at epoch 51\n",
      "Epoch 52/100\n"
     ]
    },
    {
     "name": "stderr",
     "output_type": "stream",
     "text": [
      "Training: 100%|██████████| 272/272 [07:32<00:00,  1.66s/batch, loss=0.2983]\n",
      "Validation: 100%|██████████| 59/59 [00:55<00:00,  1.06batch/s]\n"
     ]
    },
    {
     "name": "stdout",
     "output_type": "stream",
     "text": [
      "No improvement in val loss for 1 epoch(s)\n",
      "Epoch 53/100\n"
     ]
    },
    {
     "name": "stderr",
     "output_type": "stream",
     "text": [
      "Training: 100%|██████████| 272/272 [07:34<00:00,  1.67s/batch, loss=0.2876]\n",
      "Validation: 100%|██████████| 59/59 [00:55<00:00,  1.06batch/s]\n"
     ]
    },
    {
     "name": "stdout",
     "output_type": "stream",
     "text": [
      "No improvement in val loss for 2 epoch(s)\n",
      "Epoch 54/100\n"
     ]
    },
    {
     "name": "stderr",
     "output_type": "stream",
     "text": [
      "Training: 100%|██████████| 272/272 [08:15<00:00,  1.82s/batch, loss=0.2851]\n",
      "Validation: 100%|██████████| 59/59 [00:59<00:00,  1.01s/batch]\n"
     ]
    },
    {
     "name": "stdout",
     "output_type": "stream",
     "text": [
      "Best model saved at epoch 54\n",
      "Epoch 55/100\n"
     ]
    },
    {
     "name": "stderr",
     "output_type": "stream",
     "text": [
      "Training: 100%|██████████| 272/272 [08:03<00:00,  1.78s/batch, loss=0.2733]\n",
      "Validation: 100%|██████████| 59/59 [00:59<00:00,  1.01s/batch]\n"
     ]
    },
    {
     "name": "stdout",
     "output_type": "stream",
     "text": [
      "No improvement in val loss for 1 epoch(s)\n",
      "Epoch 56/100\n"
     ]
    },
    {
     "name": "stderr",
     "output_type": "stream",
     "text": [
      "Training: 100%|██████████| 272/272 [07:49<00:00,  1.72s/batch, loss=0.2684]\n",
      "Validation: 100%|██████████| 59/59 [00:55<00:00,  1.06batch/s]\n"
     ]
    },
    {
     "name": "stdout",
     "output_type": "stream",
     "text": [
      "No improvement in val loss for 2 epoch(s)\n",
      "Epoch 57/100\n"
     ]
    },
    {
     "name": "stderr",
     "output_type": "stream",
     "text": [
      "Training: 100%|██████████| 272/272 [07:34<00:00,  1.67s/batch, loss=0.2737]\n",
      "Validation: 100%|██████████| 59/59 [00:56<00:00,  1.05batch/s]\n"
     ]
    },
    {
     "name": "stdout",
     "output_type": "stream",
     "text": [
      "No improvement in val loss for 3 epoch(s)\n",
      "Epoch 58/100\n"
     ]
    },
    {
     "name": "stderr",
     "output_type": "stream",
     "text": [
      "Training: 100%|██████████| 272/272 [07:26<00:00,  1.64s/batch, loss=0.2665]\n",
      "Validation: 100%|██████████| 59/59 [00:54<00:00,  1.08batch/s]\n"
     ]
    },
    {
     "name": "stdout",
     "output_type": "stream",
     "text": [
      "No improvement in val loss for 4 epoch(s)\n",
      "Epoch 59/100\n"
     ]
    },
    {
     "name": "stderr",
     "output_type": "stream",
     "text": [
      "Training: 100%|██████████| 272/272 [07:34<00:00,  1.67s/batch, loss=0.2540]\n",
      "Validation: 100%|██████████| 59/59 [00:56<00:00,  1.05batch/s]\n"
     ]
    },
    {
     "name": "stdout",
     "output_type": "stream",
     "text": [
      "No improvement in val loss for 5 epoch(s)\n",
      "Epoch 60/100\n"
     ]
    },
    {
     "name": "stderr",
     "output_type": "stream",
     "text": [
      "Training: 100%|██████████| 272/272 [07:28<00:00,  1.65s/batch, loss=0.2506]\n",
      "Validation: 100%|██████████| 59/59 [00:55<00:00,  1.07batch/s]\n"
     ]
    },
    {
     "name": "stdout",
     "output_type": "stream",
     "text": [
      "Best model saved at epoch 60\n",
      "Epoch 61/100\n"
     ]
    },
    {
     "name": "stderr",
     "output_type": "stream",
     "text": [
      "Training: 100%|██████████| 272/272 [07:27<00:00,  1.64s/batch, loss=0.2504]\n",
      "Validation: 100%|██████████| 59/59 [00:54<00:00,  1.07batch/s]\n"
     ]
    },
    {
     "name": "stdout",
     "output_type": "stream",
     "text": [
      "Best model saved at epoch 61\n",
      "Epoch 62/100\n"
     ]
    },
    {
     "name": "stderr",
     "output_type": "stream",
     "text": [
      "Training: 100%|██████████| 272/272 [07:28<00:00,  1.65s/batch, loss=0.2433]\n",
      "Validation: 100%|██████████| 59/59 [00:54<00:00,  1.08batch/s]\n"
     ]
    },
    {
     "name": "stdout",
     "output_type": "stream",
     "text": [
      "Best model saved at epoch 62\n",
      "Epoch 63/100\n"
     ]
    },
    {
     "name": "stderr",
     "output_type": "stream",
     "text": [
      "Training: 100%|██████████| 272/272 [07:33<00:00,  1.67s/batch, loss=0.2387]\n",
      "Validation: 100%|██████████| 59/59 [00:56<00:00,  1.05batch/s]\n"
     ]
    },
    {
     "name": "stdout",
     "output_type": "stream",
     "text": [
      "Best model saved at epoch 63\n",
      "Epoch 64/100\n"
     ]
    },
    {
     "name": "stderr",
     "output_type": "stream",
     "text": [
      "Training: 100%|██████████| 272/272 [07:25<00:00,  1.64s/batch, loss=0.2364]\n",
      "Validation: 100%|██████████| 59/59 [00:54<00:00,  1.09batch/s]\n"
     ]
    },
    {
     "name": "stdout",
     "output_type": "stream",
     "text": [
      "Best model saved at epoch 64\n",
      "Epoch 65/100\n"
     ]
    },
    {
     "name": "stderr",
     "output_type": "stream",
     "text": [
      "Training: 100%|██████████| 272/272 [07:34<00:00,  1.67s/batch, loss=0.2260]\n",
      "Validation: 100%|██████████| 59/59 [00:55<00:00,  1.06batch/s]\n"
     ]
    },
    {
     "name": "stdout",
     "output_type": "stream",
     "text": [
      "Best model saved at epoch 65\n",
      "Epoch 66/100\n"
     ]
    },
    {
     "name": "stderr",
     "output_type": "stream",
     "text": [
      "Training: 100%|██████████| 272/272 [07:31<00:00,  1.66s/batch, loss=0.2363]\n",
      "Validation: 100%|██████████| 59/59 [00:55<00:00,  1.06batch/s]\n"
     ]
    },
    {
     "name": "stdout",
     "output_type": "stream",
     "text": [
      "No improvement in val loss for 1 epoch(s)\n",
      "Epoch 67/100\n"
     ]
    },
    {
     "name": "stderr",
     "output_type": "stream",
     "text": [
      "Training: 100%|██████████| 272/272 [07:32<00:00,  1.67s/batch, loss=0.2284]\n",
      "Validation: 100%|██████████| 59/59 [00:55<00:00,  1.06batch/s]\n"
     ]
    },
    {
     "name": "stdout",
     "output_type": "stream",
     "text": [
      "No improvement in val loss for 2 epoch(s)\n",
      "Epoch 68/100\n"
     ]
    },
    {
     "name": "stderr",
     "output_type": "stream",
     "text": [
      "Training: 100%|██████████| 272/272 [07:26<00:00,  1.64s/batch, loss=0.2365]\n",
      "Validation: 100%|██████████| 59/59 [00:54<00:00,  1.08batch/s]\n"
     ]
    },
    {
     "name": "stdout",
     "output_type": "stream",
     "text": [
      "No improvement in val loss for 3 epoch(s)\n",
      "Epoch 69/100\n"
     ]
    },
    {
     "name": "stderr",
     "output_type": "stream",
     "text": [
      "Training: 100%|██████████| 272/272 [07:27<00:00,  1.65s/batch, loss=0.2230]\n",
      "Validation: 100%|██████████| 59/59 [00:56<00:00,  1.05batch/s]\n"
     ]
    },
    {
     "name": "stdout",
     "output_type": "stream",
     "text": [
      "No improvement in val loss for 4 epoch(s)\n",
      "Epoch 70/100\n"
     ]
    },
    {
     "name": "stderr",
     "output_type": "stream",
     "text": [
      "Training: 100%|██████████| 272/272 [07:34<00:00,  1.67s/batch, loss=0.2168]\n",
      "Validation: 100%|██████████| 59/59 [00:55<00:00,  1.06batch/s]\n"
     ]
    },
    {
     "name": "stdout",
     "output_type": "stream",
     "text": [
      "No improvement in val loss for 5 epoch(s)\n",
      "Epoch 71/100\n"
     ]
    },
    {
     "name": "stderr",
     "output_type": "stream",
     "text": [
      "Training: 100%|██████████| 272/272 [07:20<00:00,  1.62s/batch, loss=0.2086]\n",
      "Validation: 100%|██████████| 59/59 [00:52<00:00,  1.11batch/s]\n"
     ]
    },
    {
     "name": "stdout",
     "output_type": "stream",
     "text": [
      "No improvement in val loss for 6 epoch(s)\n",
      "Epoch 72/100\n"
     ]
    },
    {
     "name": "stderr",
     "output_type": "stream",
     "text": [
      "Training: 100%|██████████| 272/272 [07:33<00:00,  1.67s/batch, loss=0.2064]\n",
      "Validation: 100%|██████████| 59/59 [00:55<00:00,  1.06batch/s]\n"
     ]
    },
    {
     "name": "stdout",
     "output_type": "stream",
     "text": [
      "Best model saved at epoch 72\n",
      "Epoch 73/100\n"
     ]
    },
    {
     "name": "stderr",
     "output_type": "stream",
     "text": [
      "Training: 100%|██████████| 272/272 [07:29<00:00,  1.65s/batch, loss=0.2088]\n",
      "Validation: 100%|██████████| 59/59 [00:55<00:00,  1.07batch/s]\n"
     ]
    },
    {
     "name": "stdout",
     "output_type": "stream",
     "text": [
      "No improvement in val loss for 1 epoch(s)\n",
      "Epoch 74/100\n"
     ]
    },
    {
     "name": "stderr",
     "output_type": "stream",
     "text": [
      "Training: 100%|██████████| 272/272 [07:27<00:00,  1.64s/batch, loss=0.2062]\n",
      "Validation: 100%|██████████| 59/59 [00:55<00:00,  1.07batch/s]\n"
     ]
    },
    {
     "name": "stdout",
     "output_type": "stream",
     "text": [
      "No improvement in val loss for 2 epoch(s)\n",
      "Epoch 75/100\n"
     ]
    },
    {
     "name": "stderr",
     "output_type": "stream",
     "text": [
      "Training: 100%|██████████| 272/272 [07:30<00:00,  1.66s/batch, loss=0.2048]\n",
      "Validation: 100%|██████████| 59/59 [00:55<00:00,  1.05batch/s]\n"
     ]
    },
    {
     "name": "stdout",
     "output_type": "stream",
     "text": [
      "Best model saved at epoch 75\n",
      "Epoch 76/100\n"
     ]
    },
    {
     "name": "stderr",
     "output_type": "stream",
     "text": [
      "Training: 100%|██████████| 272/272 [07:34<00:00,  1.67s/batch, loss=0.2071]\n",
      "Validation: 100%|██████████| 59/59 [00:55<00:00,  1.06batch/s]\n"
     ]
    },
    {
     "name": "stdout",
     "output_type": "stream",
     "text": [
      "No improvement in val loss for 1 epoch(s)\n",
      "Epoch 77/100\n"
     ]
    },
    {
     "name": "stderr",
     "output_type": "stream",
     "text": [
      "Training: 100%|██████████| 272/272 [07:34<00:00,  1.67s/batch, loss=0.1935]\n",
      "Validation: 100%|██████████| 59/59 [00:56<00:00,  1.05batch/s]\n"
     ]
    },
    {
     "name": "stdout",
     "output_type": "stream",
     "text": [
      "No improvement in val loss for 2 epoch(s)\n",
      "Epoch 78/100\n"
     ]
    },
    {
     "name": "stderr",
     "output_type": "stream",
     "text": [
      "Training: 100%|██████████| 272/272 [07:33<00:00,  1.67s/batch, loss=0.1943]\n",
      "Validation: 100%|██████████| 59/59 [00:56<00:00,  1.05batch/s]\n"
     ]
    },
    {
     "name": "stdout",
     "output_type": "stream",
     "text": [
      "No improvement in val loss for 3 epoch(s)\n",
      "Epoch 79/100\n"
     ]
    },
    {
     "name": "stderr",
     "output_type": "stream",
     "text": [
      "Training: 100%|██████████| 272/272 [07:32<00:00,  1.66s/batch, loss=0.1921]\n",
      "Validation: 100%|██████████| 59/59 [00:55<00:00,  1.05batch/s]\n"
     ]
    },
    {
     "name": "stdout",
     "output_type": "stream",
     "text": [
      "No improvement in val loss for 4 epoch(s)\n",
      "Epoch 80/100\n"
     ]
    },
    {
     "name": "stderr",
     "output_type": "stream",
     "text": [
      "Training: 100%|██████████| 272/272 [07:19<00:00,  1.62s/batch, loss=0.1906]\n",
      "Validation: 100%|██████████| 59/59 [00:53<00:00,  1.11batch/s]\n"
     ]
    },
    {
     "name": "stdout",
     "output_type": "stream",
     "text": [
      "No improvement in val loss for 5 epoch(s)\n",
      "Epoch 81/100\n"
     ]
    },
    {
     "name": "stderr",
     "output_type": "stream",
     "text": [
      "Training: 100%|██████████| 272/272 [07:33<00:00,  1.67s/batch, loss=0.1888]\n",
      "Validation: 100%|██████████| 59/59 [00:55<00:00,  1.05batch/s]\n"
     ]
    },
    {
     "name": "stdout",
     "output_type": "stream",
     "text": [
      "Best model saved at epoch 81\n",
      "Epoch 82/100\n"
     ]
    },
    {
     "name": "stderr",
     "output_type": "stream",
     "text": [
      "Training: 100%|██████████| 272/272 [07:34<00:00,  1.67s/batch, loss=0.1861]\n",
      "Validation: 100%|██████████| 59/59 [00:56<00:00,  1.05batch/s]\n"
     ]
    },
    {
     "name": "stdout",
     "output_type": "stream",
     "text": [
      "No improvement in val loss for 1 epoch(s)\n",
      "Epoch 83/100\n"
     ]
    },
    {
     "name": "stderr",
     "output_type": "stream",
     "text": [
      "Training: 100%|██████████| 272/272 [07:29<00:00,  1.65s/batch, loss=0.1842]\n",
      "Validation: 100%|██████████| 59/59 [00:54<00:00,  1.07batch/s]\n"
     ]
    },
    {
     "name": "stdout",
     "output_type": "stream",
     "text": [
      "No improvement in val loss for 2 epoch(s)\n",
      "Epoch 84/100\n"
     ]
    },
    {
     "name": "stderr",
     "output_type": "stream",
     "text": [
      "Training: 100%|██████████| 272/272 [07:30<00:00,  1.66s/batch, loss=0.1842]\n",
      "Validation: 100%|██████████| 59/59 [00:55<00:00,  1.07batch/s]\n"
     ]
    },
    {
     "name": "stdout",
     "output_type": "stream",
     "text": [
      "Best model saved at epoch 84\n",
      "Epoch 85/100\n"
     ]
    },
    {
     "name": "stderr",
     "output_type": "stream",
     "text": [
      "Training: 100%|██████████| 272/272 [07:28<00:00,  1.65s/batch, loss=0.1784]\n",
      "Validation: 100%|██████████| 59/59 [00:55<00:00,  1.07batch/s]\n"
     ]
    },
    {
     "name": "stdout",
     "output_type": "stream",
     "text": [
      "Best model saved at epoch 85\n",
      "Epoch 86/100\n"
     ]
    },
    {
     "name": "stderr",
     "output_type": "stream",
     "text": [
      "Training: 100%|██████████| 272/272 [07:32<00:00,  1.66s/batch, loss=0.1737]\n",
      "Validation: 100%|██████████| 59/59 [00:56<00:00,  1.05batch/s]\n"
     ]
    },
    {
     "name": "stdout",
     "output_type": "stream",
     "text": [
      "No improvement in val loss for 1 epoch(s)\n",
      "Epoch 87/100\n"
     ]
    },
    {
     "name": "stderr",
     "output_type": "stream",
     "text": [
      "Training: 100%|██████████| 272/272 [07:30<00:00,  1.66s/batch, loss=0.1774]\n",
      "Validation: 100%|██████████| 59/59 [00:55<00:00,  1.07batch/s]\n"
     ]
    },
    {
     "name": "stdout",
     "output_type": "stream",
     "text": [
      "No improvement in val loss for 2 epoch(s)\n",
      "Epoch 88/100\n"
     ]
    },
    {
     "name": "stderr",
     "output_type": "stream",
     "text": [
      "Training: 100%|██████████| 272/272 [07:33<00:00,  1.67s/batch, loss=0.1734]\n",
      "Validation: 100%|██████████| 59/59 [00:55<00:00,  1.06batch/s]\n"
     ]
    },
    {
     "name": "stdout",
     "output_type": "stream",
     "text": [
      "No improvement in val loss for 3 epoch(s)\n",
      "Epoch 89/100\n"
     ]
    },
    {
     "name": "stderr",
     "output_type": "stream",
     "text": [
      "Training: 100%|██████████| 272/272 [07:32<00:00,  1.66s/batch, loss=0.1717]\n",
      "Validation: 100%|██████████| 59/59 [00:55<00:00,  1.06batch/s]\n"
     ]
    },
    {
     "name": "stdout",
     "output_type": "stream",
     "text": [
      "No improvement in val loss for 4 epoch(s)\n",
      "Epoch 90/100\n"
     ]
    },
    {
     "name": "stderr",
     "output_type": "stream",
     "text": [
      "Training: 100%|██████████| 272/272 [07:31<00:00,  1.66s/batch, loss=0.1690]\n",
      "Validation: 100%|██████████| 59/59 [00:55<00:00,  1.06batch/s]\n"
     ]
    },
    {
     "name": "stdout",
     "output_type": "stream",
     "text": [
      "No improvement in val loss for 5 epoch(s)\n",
      "Epoch 91/100\n"
     ]
    },
    {
     "name": "stderr",
     "output_type": "stream",
     "text": [
      "Training: 100%|██████████| 272/272 [07:32<00:00,  1.66s/batch, loss=0.1634]\n",
      "Validation: 100%|██████████| 59/59 [00:55<00:00,  1.06batch/s]\n"
     ]
    },
    {
     "name": "stdout",
     "output_type": "stream",
     "text": [
      "No improvement in val loss for 6 epoch(s)\n",
      "Epoch 92/100\n"
     ]
    },
    {
     "name": "stderr",
     "output_type": "stream",
     "text": [
      "Training: 100%|██████████| 272/272 [07:31<00:00,  1.66s/batch, loss=0.1672]\n",
      "Validation: 100%|██████████| 59/59 [00:55<00:00,  1.06batch/s]\n"
     ]
    },
    {
     "name": "stdout",
     "output_type": "stream",
     "text": [
      "Best model saved at epoch 92\n",
      "Epoch 93/100\n"
     ]
    },
    {
     "name": "stderr",
     "output_type": "stream",
     "text": [
      "Training: 100%|██████████| 272/272 [07:29<00:00,  1.65s/batch, loss=0.1657]\n",
      "Validation: 100%|██████████| 59/59 [00:54<00:00,  1.07batch/s]\n"
     ]
    },
    {
     "name": "stdout",
     "output_type": "stream",
     "text": [
      "Best model saved at epoch 93\n",
      "Epoch 94/100\n"
     ]
    },
    {
     "name": "stderr",
     "output_type": "stream",
     "text": [
      "Training: 100%|██████████| 272/272 [07:31<00:00,  1.66s/batch, loss=0.1592]\n",
      "Validation: 100%|██████████| 59/59 [00:55<00:00,  1.06batch/s]\n"
     ]
    },
    {
     "name": "stdout",
     "output_type": "stream",
     "text": [
      "No improvement in val loss for 1 epoch(s)\n",
      "Epoch 95/100\n"
     ]
    },
    {
     "name": "stderr",
     "output_type": "stream",
     "text": [
      "Training: 100%|██████████| 272/272 [07:33<00:00,  1.67s/batch, loss=0.1592]\n",
      "Validation: 100%|██████████| 59/59 [00:56<00:00,  1.05batch/s]\n"
     ]
    },
    {
     "name": "stdout",
     "output_type": "stream",
     "text": [
      "No improvement in val loss for 2 epoch(s)\n",
      "Epoch 96/100\n"
     ]
    },
    {
     "name": "stderr",
     "output_type": "stream",
     "text": [
      "Training: 100%|██████████| 272/272 [07:25<00:00,  1.64s/batch, loss=0.1559]\n",
      "Validation: 100%|██████████| 59/59 [00:54<00:00,  1.08batch/s]\n"
     ]
    },
    {
     "name": "stdout",
     "output_type": "stream",
     "text": [
      "No improvement in val loss for 3 epoch(s)\n",
      "Epoch 97/100\n"
     ]
    },
    {
     "name": "stderr",
     "output_type": "stream",
     "text": [
      "Training: 100%|██████████| 272/272 [07:29<00:00,  1.65s/batch, loss=0.1561]\n",
      "Validation: 100%|██████████| 59/59 [00:55<00:00,  1.07batch/s]\n"
     ]
    },
    {
     "name": "stdout",
     "output_type": "stream",
     "text": [
      "No improvement in val loss for 4 epoch(s)\n",
      "Epoch 98/100\n"
     ]
    },
    {
     "name": "stderr",
     "output_type": "stream",
     "text": [
      "Training: 100%|██████████| 272/272 [07:33<00:00,  1.67s/batch, loss=0.1523]\n",
      "Validation: 100%|██████████| 59/59 [00:55<00:00,  1.06batch/s]\n"
     ]
    },
    {
     "name": "stdout",
     "output_type": "stream",
     "text": [
      "No improvement in val loss for 5 epoch(s)\n",
      "Epoch 99/100\n"
     ]
    },
    {
     "name": "stderr",
     "output_type": "stream",
     "text": [
      "Training: 100%|██████████| 272/272 [07:32<00:00,  1.66s/batch, loss=0.1577]\n",
      "Validation: 100%|██████████| 59/59 [00:56<00:00,  1.05batch/s]\n"
     ]
    },
    {
     "name": "stdout",
     "output_type": "stream",
     "text": [
      "No improvement in val loss for 6 epoch(s)\n",
      "Epoch 100/100\n"
     ]
    },
    {
     "name": "stderr",
     "output_type": "stream",
     "text": [
      "Training: 100%|██████████| 272/272 [07:32<00:00,  1.66s/batch, loss=0.1500]\n",
      "Validation: 100%|██████████| 59/59 [00:55<00:00,  1.06batch/s]\n",
      "/tmp/ipykernel_69104/673473184.py:153: FutureWarning: You are using `torch.load` with `weights_only=False` (the current default value), which uses the default pickle module implicitly. It is possible to construct malicious pickle data which will execute arbitrary code during unpickling (See https://github.com/pytorch/pytorch/blob/main/SECURITY.md#untrusted-models for more details). In a future release, the default value for `weights_only` will be flipped to `True`. This limits the functions that could be executed during unpickling. Arbitrary objects will no longer be allowed to be loaded via this mode unless they are explicitly allowlisted by the user via `torch.serialization.add_safe_globals`. We recommend you start setting `weights_only=True` for any use case where you don't have full control of the loaded file. Please open an issue on GitHub for any issues related to this experimental feature.\n",
      "  model.load_state_dict(torch.load(best_model_path))\n"
     ]
    },
    {
     "name": "stdout",
     "output_type": "stream",
     "text": [
      "No improvement in val loss for 7 epoch(s)\n",
      "\n",
      "=== Testowanie modelu dla batch_size: 256 ===\n"
     ]
    },
    {
     "name": "stderr",
     "output_type": "stream",
     "text": [
      "Testing: 100%|██████████| 59/59 [00:55<00:00,  1.06batch/s]\n"
     ]
    },
    {
     "name": "stdout",
     "output_type": "stream",
     "text": [
      "\n",
      "=== Trening dla batch_size: 512 ===\n",
      "Epoch 1/100\n"
     ]
    },
    {
     "name": "stderr",
     "output_type": "stream",
     "text": [
      "Training: 100%|██████████| 136/136 [07:25<00:00,  3.28s/batch, loss=2.3450]\n",
      "Validation: 100%|██████████| 30/30 [00:54<00:00,  1.82s/batch]\n"
     ]
    },
    {
     "name": "stdout",
     "output_type": "stream",
     "text": [
      "Best model saved at epoch 1\n",
      "Epoch 2/100\n"
     ]
    },
    {
     "name": "stderr",
     "output_type": "stream",
     "text": [
      "Training: 100%|██████████| 136/136 [07:24<00:00,  3.27s/batch, loss=2.0891]\n",
      "Validation: 100%|██████████| 30/30 [00:54<00:00,  1.83s/batch]\n"
     ]
    },
    {
     "name": "stdout",
     "output_type": "stream",
     "text": [
      "Best model saved at epoch 2\n",
      "Epoch 3/100\n"
     ]
    },
    {
     "name": "stderr",
     "output_type": "stream",
     "text": [
      "Training: 100%|██████████| 136/136 [07:25<00:00,  3.28s/batch, loss=1.9898]\n",
      "Validation: 100%|██████████| 30/30 [00:55<00:00,  1.85s/batch]\n"
     ]
    },
    {
     "name": "stdout",
     "output_type": "stream",
     "text": [
      "Best model saved at epoch 3\n",
      "Epoch 4/100\n"
     ]
    },
    {
     "name": "stderr",
     "output_type": "stream",
     "text": [
      "Training: 100%|██████████| 136/136 [07:28<00:00,  3.30s/batch, loss=1.9048]\n",
      "Validation: 100%|██████████| 30/30 [00:55<00:00,  1.83s/batch]\n"
     ]
    },
    {
     "name": "stdout",
     "output_type": "stream",
     "text": [
      "Best model saved at epoch 4\n",
      "Epoch 5/100\n"
     ]
    },
    {
     "name": "stderr",
     "output_type": "stream",
     "text": [
      "Training: 100%|██████████| 136/136 [07:27<00:00,  3.29s/batch, loss=1.8460]\n",
      "Validation: 100%|██████████| 30/30 [00:55<00:00,  1.84s/batch]\n"
     ]
    },
    {
     "name": "stdout",
     "output_type": "stream",
     "text": [
      "Best model saved at epoch 5\n",
      "Epoch 6/100\n"
     ]
    },
    {
     "name": "stderr",
     "output_type": "stream",
     "text": [
      "Training: 100%|██████████| 136/136 [07:25<00:00,  3.27s/batch, loss=1.8162]\n",
      "Validation: 100%|██████████| 30/30 [00:55<00:00,  1.85s/batch]\n"
     ]
    },
    {
     "name": "stdout",
     "output_type": "stream",
     "text": [
      "Best model saved at epoch 6\n",
      "Epoch 7/100\n"
     ]
    },
    {
     "name": "stderr",
     "output_type": "stream",
     "text": [
      "Training: 100%|██████████| 136/136 [07:25<00:00,  3.28s/batch, loss=1.7682]\n",
      "Validation: 100%|██████████| 30/30 [00:55<00:00,  1.84s/batch]\n"
     ]
    },
    {
     "name": "stdout",
     "output_type": "stream",
     "text": [
      "Best model saved at epoch 7\n",
      "Epoch 8/100\n"
     ]
    },
    {
     "name": "stderr",
     "output_type": "stream",
     "text": [
      "Training: 100%|██████████| 136/136 [07:25<00:00,  3.28s/batch, loss=1.7204]\n",
      "Validation: 100%|██████████| 30/30 [00:54<00:00,  1.83s/batch]\n"
     ]
    },
    {
     "name": "stdout",
     "output_type": "stream",
     "text": [
      "Best model saved at epoch 8\n",
      "Epoch 9/100\n"
     ]
    },
    {
     "name": "stderr",
     "output_type": "stream",
     "text": [
      "Training: 100%|██████████| 136/136 [07:24<00:00,  3.27s/batch, loss=1.6545]\n",
      "Validation: 100%|██████████| 30/30 [00:54<00:00,  1.82s/batch]\n"
     ]
    },
    {
     "name": "stdout",
     "output_type": "stream",
     "text": [
      "Best model saved at epoch 9\n",
      "Epoch 10/100\n"
     ]
    },
    {
     "name": "stderr",
     "output_type": "stream",
     "text": [
      "Training: 100%|██████████| 136/136 [07:23<00:00,  3.26s/batch, loss=1.5888]\n",
      "Validation: 100%|██████████| 30/30 [00:54<00:00,  1.83s/batch]\n"
     ]
    },
    {
     "name": "stdout",
     "output_type": "stream",
     "text": [
      "Best model saved at epoch 10\n",
      "Epoch 11/100\n"
     ]
    },
    {
     "name": "stderr",
     "output_type": "stream",
     "text": [
      "Training: 100%|██████████| 136/136 [07:25<00:00,  3.28s/batch, loss=1.5398]\n",
      "Validation: 100%|██████████| 30/30 [00:54<00:00,  1.83s/batch]\n"
     ]
    },
    {
     "name": "stdout",
     "output_type": "stream",
     "text": [
      "Best model saved at epoch 11\n",
      "Epoch 12/100\n"
     ]
    },
    {
     "name": "stderr",
     "output_type": "stream",
     "text": [
      "Training: 100%|██████████| 136/136 [07:21<00:00,  3.24s/batch, loss=1.4877]\n",
      "Validation: 100%|██████████| 30/30 [00:54<00:00,  1.80s/batch]\n"
     ]
    },
    {
     "name": "stdout",
     "output_type": "stream",
     "text": [
      "Best model saved at epoch 12\n",
      "Epoch 13/100\n"
     ]
    },
    {
     "name": "stderr",
     "output_type": "stream",
     "text": [
      "Training: 100%|██████████| 136/136 [07:24<00:00,  3.27s/batch, loss=1.4392]\n",
      "Validation: 100%|██████████| 30/30 [00:54<00:00,  1.83s/batch]\n"
     ]
    },
    {
     "name": "stdout",
     "output_type": "stream",
     "text": [
      "Best model saved at epoch 13\n",
      "Epoch 14/100\n"
     ]
    },
    {
     "name": "stderr",
     "output_type": "stream",
     "text": [
      "Training: 100%|██████████| 136/136 [07:25<00:00,  3.27s/batch, loss=1.3980]\n",
      "Validation: 100%|██████████| 30/30 [00:54<00:00,  1.83s/batch]\n"
     ]
    },
    {
     "name": "stdout",
     "output_type": "stream",
     "text": [
      "Best model saved at epoch 14\n",
      "Epoch 15/100\n"
     ]
    },
    {
     "name": "stderr",
     "output_type": "stream",
     "text": [
      "Training: 100%|██████████| 136/136 [07:25<00:00,  3.27s/batch, loss=1.3642]\n",
      "Validation: 100%|██████████| 30/30 [00:54<00:00,  1.83s/batch]\n"
     ]
    },
    {
     "name": "stdout",
     "output_type": "stream",
     "text": [
      "No improvement in val loss for 1 epoch(s)\n",
      "Epoch 16/100\n"
     ]
    },
    {
     "name": "stderr",
     "output_type": "stream",
     "text": [
      "Training: 100%|██████████| 136/136 [07:18<00:00,  3.23s/batch, loss=1.3255]\n",
      "Validation: 100%|██████████| 30/30 [00:53<00:00,  1.80s/batch]\n"
     ]
    },
    {
     "name": "stdout",
     "output_type": "stream",
     "text": [
      "Best model saved at epoch 16\n",
      "Epoch 17/100\n"
     ]
    },
    {
     "name": "stderr",
     "output_type": "stream",
     "text": [
      "Training: 100%|██████████| 136/136 [07:26<00:00,  3.28s/batch, loss=1.2877]\n",
      "Validation: 100%|██████████| 30/30 [00:55<00:00,  1.85s/batch]\n"
     ]
    },
    {
     "name": "stdout",
     "output_type": "stream",
     "text": [
      "Best model saved at epoch 17\n",
      "Epoch 18/100\n"
     ]
    },
    {
     "name": "stderr",
     "output_type": "stream",
     "text": [
      "Training: 100%|██████████| 136/136 [07:25<00:00,  3.27s/batch, loss=1.2526]\n",
      "Validation: 100%|██████████| 30/30 [00:54<00:00,  1.82s/batch]\n"
     ]
    },
    {
     "name": "stdout",
     "output_type": "stream",
     "text": [
      "Best model saved at epoch 18\n",
      "Epoch 19/100\n"
     ]
    },
    {
     "name": "stderr",
     "output_type": "stream",
     "text": [
      "Training: 100%|██████████| 136/136 [07:26<00:00,  3.28s/batch, loss=1.1983]\n",
      "Validation: 100%|██████████| 30/30 [00:54<00:00,  1.82s/batch]\n"
     ]
    },
    {
     "name": "stdout",
     "output_type": "stream",
     "text": [
      "No improvement in val loss for 1 epoch(s)\n",
      "Epoch 20/100\n"
     ]
    },
    {
     "name": "stderr",
     "output_type": "stream",
     "text": [
      "Training: 100%|██████████| 136/136 [07:26<00:00,  3.28s/batch, loss=1.1752]\n",
      "Validation: 100%|██████████| 30/30 [00:54<00:00,  1.82s/batch]\n"
     ]
    },
    {
     "name": "stdout",
     "output_type": "stream",
     "text": [
      "Best model saved at epoch 20\n",
      "Epoch 21/100\n"
     ]
    },
    {
     "name": "stderr",
     "output_type": "stream",
     "text": [
      "Training: 100%|██████████| 136/136 [07:27<00:00,  3.29s/batch, loss=1.1392]\n",
      "Validation: 100%|██████████| 30/30 [00:55<00:00,  1.84s/batch]\n"
     ]
    },
    {
     "name": "stdout",
     "output_type": "stream",
     "text": [
      "Best model saved at epoch 21\n",
      "Epoch 22/100\n"
     ]
    },
    {
     "name": "stderr",
     "output_type": "stream",
     "text": [
      "Training: 100%|██████████| 136/136 [07:27<00:00,  3.29s/batch, loss=1.0910]\n",
      "Validation: 100%|██████████| 30/30 [00:55<00:00,  1.85s/batch]\n"
     ]
    },
    {
     "name": "stdout",
     "output_type": "stream",
     "text": [
      "Best model saved at epoch 22\n",
      "Epoch 23/100\n"
     ]
    },
    {
     "name": "stderr",
     "output_type": "stream",
     "text": [
      "Training: 100%|██████████| 136/136 [07:26<00:00,  3.28s/batch, loss=1.0585]\n",
      "Validation: 100%|██████████| 30/30 [00:55<00:00,  1.85s/batch]\n"
     ]
    },
    {
     "name": "stdout",
     "output_type": "stream",
     "text": [
      "Best model saved at epoch 23\n",
      "Epoch 24/100\n"
     ]
    },
    {
     "name": "stderr",
     "output_type": "stream",
     "text": [
      "Training: 100%|██████████| 136/136 [07:26<00:00,  3.29s/batch, loss=1.0121]\n",
      "Validation: 100%|██████████| 30/30 [00:55<00:00,  1.85s/batch]\n"
     ]
    },
    {
     "name": "stdout",
     "output_type": "stream",
     "text": [
      "No improvement in val loss for 1 epoch(s)\n",
      "Epoch 25/100\n"
     ]
    },
    {
     "name": "stderr",
     "output_type": "stream",
     "text": [
      "Training: 100%|██████████| 136/136 [07:21<00:00,  3.25s/batch, loss=1.0032]\n",
      "Validation: 100%|██████████| 30/30 [00:54<00:00,  1.81s/batch]\n"
     ]
    },
    {
     "name": "stdout",
     "output_type": "stream",
     "text": [
      "Best model saved at epoch 25\n",
      "Epoch 26/100\n"
     ]
    },
    {
     "name": "stderr",
     "output_type": "stream",
     "text": [
      "Training: 100%|██████████| 136/136 [07:26<00:00,  3.28s/batch, loss=0.9727]\n",
      "Validation: 100%|██████████| 30/30 [00:55<00:00,  1.85s/batch]\n"
     ]
    },
    {
     "name": "stdout",
     "output_type": "stream",
     "text": [
      "No improvement in val loss for 1 epoch(s)\n",
      "Epoch 27/100\n"
     ]
    },
    {
     "name": "stderr",
     "output_type": "stream",
     "text": [
      "Training: 100%|██████████| 136/136 [07:27<00:00,  3.29s/batch, loss=0.9367]\n",
      "Validation: 100%|██████████| 30/30 [00:55<00:00,  1.85s/batch]\n"
     ]
    },
    {
     "name": "stdout",
     "output_type": "stream",
     "text": [
      "Best model saved at epoch 27\n",
      "Epoch 28/100\n"
     ]
    },
    {
     "name": "stderr",
     "output_type": "stream",
     "text": [
      "Training: 100%|██████████| 136/136 [07:24<00:00,  3.27s/batch, loss=0.9078]\n",
      "Validation: 100%|██████████| 30/30 [00:54<00:00,  1.83s/batch]\n"
     ]
    },
    {
     "name": "stdout",
     "output_type": "stream",
     "text": [
      "No improvement in val loss for 1 epoch(s)\n",
      "Epoch 29/100\n"
     ]
    },
    {
     "name": "stderr",
     "output_type": "stream",
     "text": [
      "Training: 100%|██████████| 136/136 [07:26<00:00,  3.29s/batch, loss=0.8934]\n",
      "Validation: 100%|██████████| 30/30 [00:55<00:00,  1.84s/batch]\n"
     ]
    },
    {
     "name": "stdout",
     "output_type": "stream",
     "text": [
      "Best model saved at epoch 29\n",
      "Epoch 30/100\n"
     ]
    },
    {
     "name": "stderr",
     "output_type": "stream",
     "text": [
      "Training: 100%|██████████| 136/136 [07:26<00:00,  3.29s/batch, loss=0.8718]\n",
      "Validation: 100%|██████████| 30/30 [00:55<00:00,  1.85s/batch]\n"
     ]
    },
    {
     "name": "stdout",
     "output_type": "stream",
     "text": [
      "Best model saved at epoch 30\n",
      "Epoch 31/100\n"
     ]
    },
    {
     "name": "stderr",
     "output_type": "stream",
     "text": [
      "Training: 100%|██████████| 136/136 [07:19<00:00,  3.23s/batch, loss=0.8550]\n",
      "Validation: 100%|██████████| 30/30 [00:53<00:00,  1.80s/batch]\n"
     ]
    },
    {
     "name": "stdout",
     "output_type": "stream",
     "text": [
      "No improvement in val loss for 1 epoch(s)\n",
      "Epoch 32/100\n"
     ]
    },
    {
     "name": "stderr",
     "output_type": "stream",
     "text": [
      "Training: 100%|██████████| 136/136 [07:26<00:00,  3.28s/batch, loss=0.8207]\n",
      "Validation: 100%|██████████| 30/30 [00:55<00:00,  1.85s/batch]\n"
     ]
    },
    {
     "name": "stdout",
     "output_type": "stream",
     "text": [
      "Best model saved at epoch 32\n",
      "Epoch 33/100\n"
     ]
    },
    {
     "name": "stderr",
     "output_type": "stream",
     "text": [
      "Training: 100%|██████████| 136/136 [07:21<00:00,  3.25s/batch, loss=0.8071]\n",
      "Validation: 100%|██████████| 30/30 [00:53<00:00,  1.80s/batch]\n"
     ]
    },
    {
     "name": "stdout",
     "output_type": "stream",
     "text": [
      "Best model saved at epoch 33\n",
      "Epoch 34/100\n"
     ]
    },
    {
     "name": "stderr",
     "output_type": "stream",
     "text": [
      "Training: 100%|██████████| 136/136 [07:27<00:00,  3.29s/batch, loss=0.7961]\n",
      "Validation: 100%|██████████| 30/30 [00:55<00:00,  1.85s/batch]\n"
     ]
    },
    {
     "name": "stdout",
     "output_type": "stream",
     "text": [
      "No improvement in val loss for 1 epoch(s)\n",
      "Epoch 35/100\n"
     ]
    },
    {
     "name": "stderr",
     "output_type": "stream",
     "text": [
      "Training: 100%|██████████| 136/136 [07:27<00:00,  3.29s/batch, loss=0.7728]\n",
      "Validation: 100%|██████████| 30/30 [00:55<00:00,  1.85s/batch]\n"
     ]
    },
    {
     "name": "stdout",
     "output_type": "stream",
     "text": [
      "Best model saved at epoch 35\n",
      "Epoch 36/100\n"
     ]
    },
    {
     "name": "stderr",
     "output_type": "stream",
     "text": [
      "Training: 100%|██████████| 136/136 [07:28<00:00,  3.30s/batch, loss=0.7510]\n",
      "Validation: 100%|██████████| 30/30 [00:55<00:00,  1.86s/batch]\n"
     ]
    },
    {
     "name": "stdout",
     "output_type": "stream",
     "text": [
      "No improvement in val loss for 1 epoch(s)\n",
      "Epoch 37/100\n"
     ]
    },
    {
     "name": "stderr",
     "output_type": "stream",
     "text": [
      "Training: 100%|██████████| 136/136 [07:25<00:00,  3.27s/batch, loss=0.7404]\n",
      "Validation: 100%|██████████| 30/30 [00:54<00:00,  1.82s/batch]\n"
     ]
    },
    {
     "name": "stdout",
     "output_type": "stream",
     "text": [
      "Best model saved at epoch 37\n",
      "Epoch 38/100\n"
     ]
    },
    {
     "name": "stderr",
     "output_type": "stream",
     "text": [
      "Training: 100%|██████████| 136/136 [07:27<00:00,  3.29s/batch, loss=0.7277]\n",
      "Validation: 100%|██████████| 30/30 [00:54<00:00,  1.80s/batch]\n"
     ]
    },
    {
     "name": "stdout",
     "output_type": "stream",
     "text": [
      "Best model saved at epoch 38\n",
      "Epoch 39/100\n"
     ]
    },
    {
     "name": "stderr",
     "output_type": "stream",
     "text": [
      "Training: 100%|██████████| 136/136 [07:21<00:00,  3.25s/batch, loss=0.7165]\n",
      "Validation: 100%|██████████| 30/30 [00:54<00:00,  1.82s/batch]\n"
     ]
    },
    {
     "name": "stdout",
     "output_type": "stream",
     "text": [
      "No improvement in val loss for 1 epoch(s)\n",
      "Epoch 40/100\n"
     ]
    },
    {
     "name": "stderr",
     "output_type": "stream",
     "text": [
      "Training: 100%|██████████| 136/136 [07:21<00:00,  3.25s/batch, loss=0.6896]\n",
      "Validation: 100%|██████████| 30/30 [00:55<00:00,  1.85s/batch]\n"
     ]
    },
    {
     "name": "stdout",
     "output_type": "stream",
     "text": [
      "No improvement in val loss for 2 epoch(s)\n",
      "Epoch 41/100\n"
     ]
    },
    {
     "name": "stderr",
     "output_type": "stream",
     "text": [
      "Training: 100%|██████████| 136/136 [07:25<00:00,  3.27s/batch, loss=0.6719]\n",
      "Validation: 100%|██████████| 30/30 [00:54<00:00,  1.83s/batch]\n"
     ]
    },
    {
     "name": "stdout",
     "output_type": "stream",
     "text": [
      "Best model saved at epoch 41\n",
      "Epoch 42/100\n"
     ]
    },
    {
     "name": "stderr",
     "output_type": "stream",
     "text": [
      "Training: 100%|██████████| 136/136 [07:22<00:00,  3.25s/batch, loss=0.6648]\n",
      "Validation: 100%|██████████| 30/30 [00:54<00:00,  1.82s/batch]\n"
     ]
    },
    {
     "name": "stdout",
     "output_type": "stream",
     "text": [
      "Best model saved at epoch 42\n",
      "Epoch 43/100\n"
     ]
    },
    {
     "name": "stderr",
     "output_type": "stream",
     "text": [
      "Training: 100%|██████████| 136/136 [07:22<00:00,  3.25s/batch, loss=0.6679]\n",
      "Validation: 100%|██████████| 30/30 [00:54<00:00,  1.82s/batch]\n"
     ]
    },
    {
     "name": "stdout",
     "output_type": "stream",
     "text": [
      "No improvement in val loss for 1 epoch(s)\n",
      "Epoch 44/100\n"
     ]
    },
    {
     "name": "stderr",
     "output_type": "stream",
     "text": [
      "Training: 100%|██████████| 136/136 [07:26<00:00,  3.29s/batch, loss=0.6465]\n",
      "Validation: 100%|██████████| 30/30 [00:55<00:00,  1.84s/batch]\n"
     ]
    },
    {
     "name": "stdout",
     "output_type": "stream",
     "text": [
      "No improvement in val loss for 2 epoch(s)\n",
      "Epoch 45/100\n"
     ]
    },
    {
     "name": "stderr",
     "output_type": "stream",
     "text": [
      "Training: 100%|██████████| 136/136 [07:27<00:00,  3.29s/batch, loss=0.6439]\n",
      "Validation: 100%|██████████| 30/30 [00:55<00:00,  1.86s/batch]\n"
     ]
    },
    {
     "name": "stdout",
     "output_type": "stream",
     "text": [
      "No improvement in val loss for 3 epoch(s)\n",
      "Epoch 46/100\n"
     ]
    },
    {
     "name": "stderr",
     "output_type": "stream",
     "text": [
      "Training: 100%|██████████| 136/136 [07:28<00:00,  3.30s/batch, loss=0.6273]\n",
      "Validation: 100%|██████████| 30/30 [00:55<00:00,  1.85s/batch]\n"
     ]
    },
    {
     "name": "stdout",
     "output_type": "stream",
     "text": [
      "No improvement in val loss for 4 epoch(s)\n",
      "Epoch 47/100\n"
     ]
    },
    {
     "name": "stderr",
     "output_type": "stream",
     "text": [
      "Training: 100%|██████████| 136/136 [07:27<00:00,  3.29s/batch, loss=0.6161]\n",
      "Validation: 100%|██████████| 30/30 [00:55<00:00,  1.85s/batch]\n"
     ]
    },
    {
     "name": "stdout",
     "output_type": "stream",
     "text": [
      "No improvement in val loss for 5 epoch(s)\n",
      "Epoch 48/100\n"
     ]
    },
    {
     "name": "stderr",
     "output_type": "stream",
     "text": [
      "Training: 100%|██████████| 136/136 [07:27<00:00,  3.29s/batch, loss=0.6002]\n",
      "Validation: 100%|██████████| 30/30 [00:55<00:00,  1.85s/batch]\n"
     ]
    },
    {
     "name": "stdout",
     "output_type": "stream",
     "text": [
      "Best model saved at epoch 48\n",
      "Epoch 49/100\n"
     ]
    },
    {
     "name": "stderr",
     "output_type": "stream",
     "text": [
      "Training: 100%|██████████| 136/136 [07:27<00:00,  3.29s/batch, loss=0.5946]\n",
      "Validation: 100%|██████████| 30/30 [00:55<00:00,  1.84s/batch]\n"
     ]
    },
    {
     "name": "stdout",
     "output_type": "stream",
     "text": [
      "No improvement in val loss for 1 epoch(s)\n",
      "Epoch 50/100\n"
     ]
    },
    {
     "name": "stderr",
     "output_type": "stream",
     "text": [
      "Training: 100%|██████████| 136/136 [07:28<00:00,  3.30s/batch, loss=0.5806]\n",
      "Validation: 100%|██████████| 30/30 [00:55<00:00,  1.84s/batch]\n"
     ]
    },
    {
     "name": "stdout",
     "output_type": "stream",
     "text": [
      "No improvement in val loss for 2 epoch(s)\n",
      "Epoch 51/100\n"
     ]
    },
    {
     "name": "stderr",
     "output_type": "stream",
     "text": [
      "Training: 100%|██████████| 136/136 [07:27<00:00,  3.29s/batch, loss=0.5770]\n",
      "Validation: 100%|██████████| 30/30 [00:55<00:00,  1.85s/batch]\n"
     ]
    },
    {
     "name": "stdout",
     "output_type": "stream",
     "text": [
      "Best model saved at epoch 51\n",
      "Epoch 52/100\n"
     ]
    },
    {
     "name": "stderr",
     "output_type": "stream",
     "text": [
      "Training: 100%|██████████| 136/136 [07:26<00:00,  3.29s/batch, loss=0.5719]\n",
      "Validation: 100%|██████████| 30/30 [00:55<00:00,  1.85s/batch]\n"
     ]
    },
    {
     "name": "stdout",
     "output_type": "stream",
     "text": [
      "No improvement in val loss for 1 epoch(s)\n",
      "Epoch 53/100\n"
     ]
    },
    {
     "name": "stderr",
     "output_type": "stream",
     "text": [
      "Training: 100%|██████████| 136/136 [07:25<00:00,  3.27s/batch, loss=0.5525]\n",
      "Validation: 100%|██████████| 30/30 [00:54<00:00,  1.82s/batch]\n"
     ]
    },
    {
     "name": "stdout",
     "output_type": "stream",
     "text": [
      "No improvement in val loss for 2 epoch(s)\n",
      "Epoch 54/100\n"
     ]
    },
    {
     "name": "stderr",
     "output_type": "stream",
     "text": [
      "Training: 100%|██████████| 136/136 [07:19<00:00,  3.23s/batch, loss=0.5367]\n",
      "Validation: 100%|██████████| 30/30 [00:53<00:00,  1.79s/batch]\n"
     ]
    },
    {
     "name": "stdout",
     "output_type": "stream",
     "text": [
      "No improvement in val loss for 3 epoch(s)\n",
      "Epoch 55/100\n"
     ]
    },
    {
     "name": "stderr",
     "output_type": "stream",
     "text": [
      "Training: 100%|██████████| 136/136 [07:19<00:00,  3.23s/batch, loss=0.5412]\n",
      "Validation: 100%|██████████| 30/30 [00:53<00:00,  1.77s/batch]\n"
     ]
    },
    {
     "name": "stdout",
     "output_type": "stream",
     "text": [
      "No improvement in val loss for 4 epoch(s)\n",
      "Epoch 56/100\n"
     ]
    },
    {
     "name": "stderr",
     "output_type": "stream",
     "text": [
      "Training: 100%|██████████| 136/136 [07:18<00:00,  3.23s/batch, loss=0.5342]\n",
      "Validation: 100%|██████████| 30/30 [00:53<00:00,  1.78s/batch]\n"
     ]
    },
    {
     "name": "stdout",
     "output_type": "stream",
     "text": [
      "No improvement in val loss for 5 epoch(s)\n",
      "Epoch 57/100\n"
     ]
    },
    {
     "name": "stderr",
     "output_type": "stream",
     "text": [
      "Training: 100%|██████████| 136/136 [07:24<00:00,  3.27s/batch, loss=0.5062]\n",
      "Validation: 100%|██████████| 30/30 [00:54<00:00,  1.83s/batch]\n"
     ]
    },
    {
     "name": "stdout",
     "output_type": "stream",
     "text": [
      "Best model saved at epoch 57\n",
      "Epoch 58/100\n"
     ]
    },
    {
     "name": "stderr",
     "output_type": "stream",
     "text": [
      "Training: 100%|██████████| 136/136 [07:24<00:00,  3.27s/batch, loss=0.5185]\n",
      "Validation: 100%|██████████| 30/30 [00:55<00:00,  1.84s/batch]\n"
     ]
    },
    {
     "name": "stdout",
     "output_type": "stream",
     "text": [
      "No improvement in val loss for 1 epoch(s)\n",
      "Epoch 59/100\n"
     ]
    },
    {
     "name": "stderr",
     "output_type": "stream",
     "text": [
      "Training: 100%|██████████| 136/136 [07:21<00:00,  3.25s/batch, loss=0.5091]\n",
      "Validation: 100%|██████████| 30/30 [00:54<00:00,  1.80s/batch]\n"
     ]
    },
    {
     "name": "stdout",
     "output_type": "stream",
     "text": [
      "No improvement in val loss for 2 epoch(s)\n",
      "Epoch 60/100\n"
     ]
    },
    {
     "name": "stderr",
     "output_type": "stream",
     "text": [
      "Training: 100%|██████████| 136/136 [07:23<00:00,  3.26s/batch, loss=0.4908]\n",
      "Validation: 100%|██████████| 30/30 [00:54<00:00,  1.81s/batch]\n"
     ]
    },
    {
     "name": "stdout",
     "output_type": "stream",
     "text": [
      "No improvement in val loss for 3 epoch(s)\n",
      "Epoch 61/100\n"
     ]
    },
    {
     "name": "stderr",
     "output_type": "stream",
     "text": [
      "Training: 100%|██████████| 136/136 [07:26<00:00,  3.28s/batch, loss=0.4993]\n",
      "Validation: 100%|██████████| 30/30 [00:55<00:00,  1.85s/batch]\n"
     ]
    },
    {
     "name": "stdout",
     "output_type": "stream",
     "text": [
      "Best model saved at epoch 61\n",
      "Epoch 62/100\n"
     ]
    },
    {
     "name": "stderr",
     "output_type": "stream",
     "text": [
      "Training: 100%|██████████| 136/136 [07:26<00:00,  3.29s/batch, loss=0.4867]\n",
      "Validation: 100%|██████████| 30/30 [00:55<00:00,  1.84s/batch]\n"
     ]
    },
    {
     "name": "stdout",
     "output_type": "stream",
     "text": [
      "Best model saved at epoch 62\n",
      "Epoch 63/100\n"
     ]
    },
    {
     "name": "stderr",
     "output_type": "stream",
     "text": [
      "Training: 100%|██████████| 136/136 [07:27<00:00,  3.29s/batch, loss=0.4681]\n",
      "Validation: 100%|██████████| 30/30 [00:55<00:00,  1.85s/batch]\n"
     ]
    },
    {
     "name": "stdout",
     "output_type": "stream",
     "text": [
      "No improvement in val loss for 1 epoch(s)\n",
      "Epoch 64/100\n"
     ]
    },
    {
     "name": "stderr",
     "output_type": "stream",
     "text": [
      "Training: 100%|██████████| 136/136 [07:19<00:00,  3.23s/batch, loss=0.4728]\n",
      "Validation: 100%|██████████| 30/30 [00:53<00:00,  1.79s/batch]\n"
     ]
    },
    {
     "name": "stdout",
     "output_type": "stream",
     "text": [
      "Best model saved at epoch 64\n",
      "Epoch 65/100\n"
     ]
    },
    {
     "name": "stderr",
     "output_type": "stream",
     "text": [
      "Training: 100%|██████████| 136/136 [07:25<00:00,  3.28s/batch, loss=0.4663]\n",
      "Validation: 100%|██████████| 30/30 [00:55<00:00,  1.84s/batch]\n"
     ]
    },
    {
     "name": "stdout",
     "output_type": "stream",
     "text": [
      "No improvement in val loss for 1 epoch(s)\n",
      "Epoch 66/100\n"
     ]
    },
    {
     "name": "stderr",
     "output_type": "stream",
     "text": [
      "Training: 100%|██████████| 136/136 [07:27<00:00,  3.29s/batch, loss=0.4557]\n",
      "Validation: 100%|██████████| 30/30 [00:55<00:00,  1.85s/batch]\n"
     ]
    },
    {
     "name": "stdout",
     "output_type": "stream",
     "text": [
      "Best model saved at epoch 66\n",
      "Epoch 67/100\n"
     ]
    },
    {
     "name": "stderr",
     "output_type": "stream",
     "text": [
      "Training: 100%|██████████| 136/136 [07:27<00:00,  3.29s/batch, loss=0.4444]\n",
      "Validation: 100%|██████████| 30/30 [00:54<00:00,  1.83s/batch]\n"
     ]
    },
    {
     "name": "stdout",
     "output_type": "stream",
     "text": [
      "Best model saved at epoch 67\n",
      "Epoch 68/100\n"
     ]
    },
    {
     "name": "stderr",
     "output_type": "stream",
     "text": [
      "Training: 100%|██████████| 136/136 [07:29<00:00,  3.31s/batch, loss=0.4415]\n",
      "Validation: 100%|██████████| 30/30 [00:55<00:00,  1.85s/batch]\n"
     ]
    },
    {
     "name": "stdout",
     "output_type": "stream",
     "text": [
      "No improvement in val loss for 1 epoch(s)\n",
      "Epoch 69/100\n"
     ]
    },
    {
     "name": "stderr",
     "output_type": "stream",
     "text": [
      "Training: 100%|██████████| 136/136 [07:28<00:00,  3.30s/batch, loss=0.4398]\n",
      "Validation: 100%|██████████| 30/30 [00:55<00:00,  1.86s/batch]\n"
     ]
    },
    {
     "name": "stdout",
     "output_type": "stream",
     "text": [
      "Best model saved at epoch 69\n",
      "Epoch 70/100\n"
     ]
    },
    {
     "name": "stderr",
     "output_type": "stream",
     "text": [
      "Training: 100%|██████████| 136/136 [07:19<00:00,  3.23s/batch, loss=0.4424]\n",
      "Validation: 100%|██████████| 30/30 [00:54<00:00,  1.80s/batch]\n"
     ]
    },
    {
     "name": "stdout",
     "output_type": "stream",
     "text": [
      "No improvement in val loss for 1 epoch(s)\n",
      "Epoch 71/100\n"
     ]
    },
    {
     "name": "stderr",
     "output_type": "stream",
     "text": [
      "Training: 100%|██████████| 136/136 [07:28<00:00,  3.30s/batch, loss=0.4195]\n",
      "Validation: 100%|██████████| 30/30 [00:55<00:00,  1.85s/batch]\n"
     ]
    },
    {
     "name": "stdout",
     "output_type": "stream",
     "text": [
      "No improvement in val loss for 2 epoch(s)\n",
      "Epoch 72/100\n"
     ]
    },
    {
     "name": "stderr",
     "output_type": "stream",
     "text": [
      "Training: 100%|██████████| 136/136 [07:27<00:00,  3.29s/batch, loss=0.4229]\n",
      "Validation: 100%|██████████| 30/30 [00:55<00:00,  1.85s/batch]\n"
     ]
    },
    {
     "name": "stdout",
     "output_type": "stream",
     "text": [
      "No improvement in val loss for 3 epoch(s)\n",
      "Epoch 73/100\n"
     ]
    },
    {
     "name": "stderr",
     "output_type": "stream",
     "text": [
      "Training: 100%|██████████| 136/136 [07:27<00:00,  3.29s/batch, loss=0.4270]\n",
      "Validation: 100%|██████████| 30/30 [00:55<00:00,  1.86s/batch]\n"
     ]
    },
    {
     "name": "stdout",
     "output_type": "stream",
     "text": [
      "Best model saved at epoch 73\n",
      "Epoch 74/100\n"
     ]
    },
    {
     "name": "stderr",
     "output_type": "stream",
     "text": [
      "Training: 100%|██████████| 136/136 [07:26<00:00,  3.28s/batch, loss=0.4068]\n",
      "Validation: 100%|██████████| 30/30 [00:54<00:00,  1.83s/batch]\n"
     ]
    },
    {
     "name": "stdout",
     "output_type": "stream",
     "text": [
      "No improvement in val loss for 1 epoch(s)\n",
      "Epoch 75/100\n"
     ]
    },
    {
     "name": "stderr",
     "output_type": "stream",
     "text": [
      "Training: 100%|██████████| 136/136 [07:28<00:00,  3.30s/batch, loss=0.3984]\n",
      "Validation: 100%|██████████| 30/30 [00:55<00:00,  1.86s/batch]\n"
     ]
    },
    {
     "name": "stdout",
     "output_type": "stream",
     "text": [
      "No improvement in val loss for 2 epoch(s)\n",
      "Epoch 76/100\n"
     ]
    },
    {
     "name": "stderr",
     "output_type": "stream",
     "text": [
      "Training: 100%|██████████| 136/136 [07:27<00:00,  3.29s/batch, loss=0.3967]\n",
      "Validation: 100%|██████████| 30/30 [00:55<00:00,  1.85s/batch]\n"
     ]
    },
    {
     "name": "stdout",
     "output_type": "stream",
     "text": [
      "No improvement in val loss for 3 epoch(s)\n",
      "Epoch 77/100\n"
     ]
    },
    {
     "name": "stderr",
     "output_type": "stream",
     "text": [
      "Training: 100%|██████████| 136/136 [07:27<00:00,  3.29s/batch, loss=0.3866]\n",
      "Validation: 100%|██████████| 30/30 [00:55<00:00,  1.84s/batch]\n"
     ]
    },
    {
     "name": "stdout",
     "output_type": "stream",
     "text": [
      "No improvement in val loss for 4 epoch(s)\n",
      "Epoch 78/100\n"
     ]
    },
    {
     "name": "stderr",
     "output_type": "stream",
     "text": [
      "Training: 100%|██████████| 136/136 [07:27<00:00,  3.29s/batch, loss=0.3904]\n",
      "Validation: 100%|██████████| 30/30 [00:55<00:00,  1.85s/batch]\n"
     ]
    },
    {
     "name": "stdout",
     "output_type": "stream",
     "text": [
      "No improvement in val loss for 5 epoch(s)\n",
      "Epoch 79/100\n"
     ]
    },
    {
     "name": "stderr",
     "output_type": "stream",
     "text": [
      "Training: 100%|██████████| 136/136 [07:26<00:00,  3.28s/batch, loss=0.3826]\n",
      "Validation: 100%|██████████| 30/30 [00:55<00:00,  1.85s/batch]\n"
     ]
    },
    {
     "name": "stdout",
     "output_type": "stream",
     "text": [
      "No improvement in val loss for 6 epoch(s)\n",
      "Epoch 80/100\n"
     ]
    },
    {
     "name": "stderr",
     "output_type": "stream",
     "text": [
      "Training: 100%|██████████| 136/136 [07:28<00:00,  3.30s/batch, loss=0.3717]\n",
      "Validation: 100%|██████████| 30/30 [00:55<00:00,  1.85s/batch]\n"
     ]
    },
    {
     "name": "stdout",
     "output_type": "stream",
     "text": [
      "Best model saved at epoch 80\n",
      "Epoch 81/100\n"
     ]
    },
    {
     "name": "stderr",
     "output_type": "stream",
     "text": [
      "Training: 100%|██████████| 136/136 [07:28<00:00,  3.29s/batch, loss=0.3765]\n",
      "Validation: 100%|██████████| 30/30 [00:55<00:00,  1.84s/batch]\n"
     ]
    },
    {
     "name": "stdout",
     "output_type": "stream",
     "text": [
      "No improvement in val loss for 1 epoch(s)\n",
      "Epoch 82/100\n"
     ]
    },
    {
     "name": "stderr",
     "output_type": "stream",
     "text": [
      "Training: 100%|██████████| 136/136 [07:26<00:00,  3.28s/batch, loss=0.3617]\n",
      "Validation: 100%|██████████| 30/30 [00:54<00:00,  1.83s/batch]\n"
     ]
    },
    {
     "name": "stdout",
     "output_type": "stream",
     "text": [
      "Best model saved at epoch 82\n",
      "Epoch 83/100\n"
     ]
    },
    {
     "name": "stderr",
     "output_type": "stream",
     "text": [
      "Training: 100%|██████████| 136/136 [07:27<00:00,  3.29s/batch, loss=0.3608]\n",
      "Validation: 100%|██████████| 30/30 [00:55<00:00,  1.85s/batch]\n"
     ]
    },
    {
     "name": "stdout",
     "output_type": "stream",
     "text": [
      "No improvement in val loss for 1 epoch(s)\n",
      "Epoch 84/100\n"
     ]
    },
    {
     "name": "stderr",
     "output_type": "stream",
     "text": [
      "Training: 100%|██████████| 136/136 [07:20<00:00,  3.24s/batch, loss=0.3622]\n",
      "Validation: 100%|██████████| 30/30 [00:53<00:00,  1.78s/batch]\n"
     ]
    },
    {
     "name": "stdout",
     "output_type": "stream",
     "text": [
      "No improvement in val loss for 2 epoch(s)\n",
      "Epoch 85/100\n"
     ]
    },
    {
     "name": "stderr",
     "output_type": "stream",
     "text": [
      "Training: 100%|██████████| 136/136 [07:27<00:00,  3.29s/batch, loss=0.3601]\n",
      "Validation: 100%|██████████| 30/30 [00:55<00:00,  1.85s/batch]\n"
     ]
    },
    {
     "name": "stdout",
     "output_type": "stream",
     "text": [
      "Best model saved at epoch 85\n",
      "Epoch 86/100\n"
     ]
    },
    {
     "name": "stderr",
     "output_type": "stream",
     "text": [
      "Training: 100%|██████████| 136/136 [07:21<00:00,  3.25s/batch, loss=0.3425]\n",
      "Validation: 100%|██████████| 30/30 [00:54<00:00,  1.80s/batch]\n"
     ]
    },
    {
     "name": "stdout",
     "output_type": "stream",
     "text": [
      "Best model saved at epoch 86\n",
      "Epoch 87/100\n"
     ]
    },
    {
     "name": "stderr",
     "output_type": "stream",
     "text": [
      "Training: 100%|██████████| 136/136 [07:27<00:00,  3.29s/batch, loss=0.3374]\n",
      "Validation: 100%|██████████| 30/30 [00:55<00:00,  1.85s/batch]\n"
     ]
    },
    {
     "name": "stdout",
     "output_type": "stream",
     "text": [
      "No improvement in val loss for 1 epoch(s)\n",
      "Epoch 88/100\n"
     ]
    },
    {
     "name": "stderr",
     "output_type": "stream",
     "text": [
      "Training: 100%|██████████| 136/136 [07:25<00:00,  3.28s/batch, loss=0.3420]\n",
      "Validation: 100%|██████████| 30/30 [00:54<00:00,  1.82s/batch]\n"
     ]
    },
    {
     "name": "stdout",
     "output_type": "stream",
     "text": [
      "No improvement in val loss for 2 epoch(s)\n",
      "Epoch 89/100\n"
     ]
    },
    {
     "name": "stderr",
     "output_type": "stream",
     "text": [
      "Training: 100%|██████████| 136/136 [07:27<00:00,  3.29s/batch, loss=0.3286]\n",
      "Validation: 100%|██████████| 30/30 [00:55<00:00,  1.85s/batch]\n"
     ]
    },
    {
     "name": "stdout",
     "output_type": "stream",
     "text": [
      "No improvement in val loss for 3 epoch(s)\n",
      "Epoch 90/100\n"
     ]
    },
    {
     "name": "stderr",
     "output_type": "stream",
     "text": [
      "Training: 100%|██████████| 136/136 [07:27<00:00,  3.29s/batch, loss=0.3303]\n",
      "Validation: 100%|██████████| 30/30 [00:55<00:00,  1.86s/batch]\n"
     ]
    },
    {
     "name": "stdout",
     "output_type": "stream",
     "text": [
      "No improvement in val loss for 4 epoch(s)\n",
      "Epoch 91/100\n"
     ]
    },
    {
     "name": "stderr",
     "output_type": "stream",
     "text": [
      "Training: 100%|██████████| 136/136 [07:18<00:00,  3.22s/batch, loss=0.3333]\n",
      "Validation: 100%|██████████| 30/30 [00:53<00:00,  1.78s/batch]\n"
     ]
    },
    {
     "name": "stdout",
     "output_type": "stream",
     "text": [
      "No improvement in val loss for 5 epoch(s)\n",
      "Epoch 92/100\n"
     ]
    },
    {
     "name": "stderr",
     "output_type": "stream",
     "text": [
      "Training: 100%|██████████| 136/136 [07:24<00:00,  3.27s/batch, loss=0.3298]\n",
      "Validation: 100%|██████████| 30/30 [00:54<00:00,  1.83s/batch]\n"
     ]
    },
    {
     "name": "stdout",
     "output_type": "stream",
     "text": [
      "Best model saved at epoch 92\n",
      "Epoch 93/100\n"
     ]
    },
    {
     "name": "stderr",
     "output_type": "stream",
     "text": [
      "Training: 100%|██████████| 136/136 [07:21<00:00,  3.25s/batch, loss=0.3182]\n",
      "Validation: 100%|██████████| 30/30 [00:54<00:00,  1.81s/batch]\n"
     ]
    },
    {
     "name": "stdout",
     "output_type": "stream",
     "text": [
      "No improvement in val loss for 1 epoch(s)\n",
      "Epoch 94/100\n"
     ]
    },
    {
     "name": "stderr",
     "output_type": "stream",
     "text": [
      "Training: 100%|██████████| 136/136 [07:27<00:00,  3.29s/batch, loss=0.3146]\n",
      "Validation: 100%|██████████| 30/30 [00:55<00:00,  1.84s/batch]\n"
     ]
    },
    {
     "name": "stdout",
     "output_type": "stream",
     "text": [
      "No improvement in val loss for 2 epoch(s)\n",
      "Epoch 95/100\n"
     ]
    },
    {
     "name": "stderr",
     "output_type": "stream",
     "text": [
      "Training: 100%|██████████| 136/136 [07:26<00:00,  3.28s/batch, loss=0.3129]\n",
      "Validation: 100%|██████████| 30/30 [00:55<00:00,  1.85s/batch]\n"
     ]
    },
    {
     "name": "stdout",
     "output_type": "stream",
     "text": [
      "No improvement in val loss for 3 epoch(s)\n",
      "Epoch 96/100\n"
     ]
    },
    {
     "name": "stderr",
     "output_type": "stream",
     "text": [
      "Training: 100%|██████████| 136/136 [07:27<00:00,  3.29s/batch, loss=0.3082]\n",
      "Validation: 100%|██████████| 30/30 [00:54<00:00,  1.83s/batch]\n"
     ]
    },
    {
     "name": "stdout",
     "output_type": "stream",
     "text": [
      "Best model saved at epoch 96\n",
      "Epoch 97/100\n"
     ]
    },
    {
     "name": "stderr",
     "output_type": "stream",
     "text": [
      "Training: 100%|██████████| 136/136 [07:26<00:00,  3.28s/batch, loss=0.3016]\n",
      "Validation: 100%|██████████| 30/30 [00:55<00:00,  1.84s/batch]\n"
     ]
    },
    {
     "name": "stdout",
     "output_type": "stream",
     "text": [
      "Best model saved at epoch 97\n",
      "Epoch 98/100\n"
     ]
    },
    {
     "name": "stderr",
     "output_type": "stream",
     "text": [
      "Training: 100%|██████████| 136/136 [07:27<00:00,  3.29s/batch, loss=0.3050]\n",
      "Validation: 100%|██████████| 30/30 [00:55<00:00,  1.84s/batch]\n"
     ]
    },
    {
     "name": "stdout",
     "output_type": "stream",
     "text": [
      "Best model saved at epoch 98\n",
      "Epoch 99/100\n"
     ]
    },
    {
     "name": "stderr",
     "output_type": "stream",
     "text": [
      "Training: 100%|██████████| 136/136 [07:26<00:00,  3.28s/batch, loss=0.2960]\n",
      "Validation: 100%|██████████| 30/30 [00:55<00:00,  1.83s/batch]\n"
     ]
    },
    {
     "name": "stdout",
     "output_type": "stream",
     "text": [
      "No improvement in val loss for 1 epoch(s)\n",
      "Epoch 100/100\n"
     ]
    },
    {
     "name": "stderr",
     "output_type": "stream",
     "text": [
      "Training: 100%|██████████| 136/136 [07:27<00:00,  3.29s/batch, loss=0.2944]\n",
      "Validation: 100%|██████████| 30/30 [00:55<00:00,  1.85s/batch]\n",
      "/tmp/ipykernel_69104/673473184.py:153: FutureWarning: You are using `torch.load` with `weights_only=False` (the current default value), which uses the default pickle module implicitly. It is possible to construct malicious pickle data which will execute arbitrary code during unpickling (See https://github.com/pytorch/pytorch/blob/main/SECURITY.md#untrusted-models for more details). In a future release, the default value for `weights_only` will be flipped to `True`. This limits the functions that could be executed during unpickling. Arbitrary objects will no longer be allowed to be loaded via this mode unless they are explicitly allowlisted by the user via `torch.serialization.add_safe_globals`. We recommend you start setting `weights_only=True` for any use case where you don't have full control of the loaded file. Please open an issue on GitHub for any issues related to this experimental feature.\n",
      "  model.load_state_dict(torch.load(best_model_path))\n"
     ]
    },
    {
     "name": "stdout",
     "output_type": "stream",
     "text": [
      "No improvement in val loss for 2 epoch(s)\n",
      "\n",
      "=== Testowanie modelu dla batch_size: 512 ===\n"
     ]
    },
    {
     "name": "stderr",
     "output_type": "stream",
     "text": [
      "Testing: 100%|██████████| 30/30 [00:55<00:00,  1.84s/batch]\n"
     ]
    },
    {
     "name": "stdout",
     "output_type": "stream",
     "text": [
      "\n",
      "=== Podsumowanie wyników ===\n",
      "   batch_size  best_val_loss  test_loss  test_accuracy  test_precision  \\\n",
      "0          16       0.230348   0.226880       0.927708        0.929008   \n",
      "1          32       0.302749   0.284446       0.908761        0.912640   \n",
      "2          64       0.253714   0.257643       0.918369        0.919912   \n",
      "3         128       0.231033   0.224408       0.928581        0.930764   \n",
      "4         256       0.229286   0.200512       0.937517        0.939148   \n",
      "5         512       0.396481   0.358165       0.883633        0.889193   \n",
      "\n",
      "   test_recall   test_f1  \n",
      "0     0.927708  0.927787  \n",
      "1     0.908761  0.908892  \n",
      "2     0.918369  0.918217  \n",
      "3     0.928581  0.928422  \n",
      "4     0.937517  0.937578  \n",
      "5     0.883633  0.882133  \n"
     ]
    },
    {
     "data": {
      "image/png": "[encoded data removed]",
      "text/plain": [
       "<Figure size 1000x600 with 1 Axes>"
      ]
     },
     "metadata": {},
     "output_type": "display_data"
    }
   ],
   "source": [
    "import torch\n",
    "import torch.nn as nn\n",
    "import torch.optim as optim\n",
    "from torch.utils.data import DataLoader\n",
    "from tqdm import tqdm\n",
    "from sklearn.metrics import accuracy_score, precision_score, recall_score, f1_score\n",
    "import os\n",
    "import pandas as pd\n",
    "import multiModel as mm\n",
    "from multiModel import MultiInputModel\n",
    "\n",
    "# Ustawienia\n",
    "path_results = \"training_results_80_224_3\"\n",
    "if not os.path.exists(path_results):\n",
    "    print(f\"Katalog '{path_results}' utworzony.\")\n",
    "    os.makedirs(path_results, exist_ok=True)\n",
    "\n",
    "# Włącz blokowanie błędów CUDA\n",
    "os.environ['CUDA_LAUNCH_BLOCKING'] = '1'\n",
    "\n",
    "# Załaduj dane\n",
    "train_dataset = mm.MultiInputDataset(\"CSV/dataset/train_80.csv\", transform_rgb=mm.train_transform_rgb_80, transform_binary=mm.transform_binary_80)\n",
    "val_dataset = mm.MultiInputDataset(\"CSV/dataset/val_80.csv\", transform_rgb=mm.val_transform_rgb_80, transform_binary=mm.transform_binary_80)\n",
    "test_dataset = mm.MultiInputDataset(\"CSV/dataset/test_80.csv\", transform_rgb=mm.val_transform_rgb_80, transform_binary=mm.transform_binary_80)\n",
    "\n",
    "# Lista hiperparametrów do przetestowania\n",
    "batch_size_list = [16, 32, 64, 128, 256, 512]\n",
    "results_summary = []\n",
    "\n",
    "# Funkcja do obliczania metryk\n",
    "def compute_metrics(true_labels, pred_labels):\n",
    "    accuracy = accuracy_score(true_labels, pred_labels)\n",
    "    precision = precision_score(true_labels, pred_labels, average=\"weighted\", zero_division=0)\n",
    "    recall = recall_score(true_labels, pred_labels, average=\"weighted\", zero_division=0)\n",
    "    f1 = f1_score(true_labels, pred_labels, average=\"weighted\", zero_division=0)\n",
    "    return accuracy, precision, recall, f1\n",
    "\n",
    "# Pętla po różnych batch_size\n",
    "for batch_size in batch_size_list:\n",
    "    print(f\"\\n=== Trening dla batch_size: {batch_size} ===\")\n",
    "    \n",
    "    # Inicjalizacja DataLoaderów\n",
    "    train_loader = DataLoader(train_dataset, batch_size=batch_size, shuffle=True)\n",
    "    val_loader = DataLoader(val_dataset, batch_size=batch_size, shuffle=False)\n",
    "    test_loader = DataLoader(test_dataset, batch_size=batch_size, shuffle=False)\n",
    "\n",
    "    # Inicjalizacja modelu\n",
    "    model = mm.CustomMultiInputModel(num_classes=11).to(\"cuda\")\n",
    "    model_name = f\"mm_batch_{batch_size}\"\n",
    "\n",
    "    # Optymalizator i funkcja straty\n",
    "    criterion = nn.CrossEntropyLoss()\n",
    "    optimizer = optim.Adam(model.parameters(), lr=0.001)\n",
    "\n",
    "    # Logi treningowe\n",
    "    log_file = f\"{path_results}/training_log_{model_name}.txt\"\n",
    "    with open(log_file, \"w\") as f:\n",
    "        f.write(\"epoch,train_loss,val_loss,train_accuracy,val_accuracy,train_precision,val_precision,train_recall,val_recall,train_f1,val_f1\\n\")\n",
    "\n",
    "    # Wczesne zatrzymanie\n",
    "    early_stop_patience = 10\n",
    "    best_val_loss = float(\"inf\")\n",
    "    patience_counter = 0\n",
    "    best_model_path = f\"{path_results}/best_model_{model_name}.pth\"\n",
    "\n",
    "    # Pętla treningowa\n",
    "    num_epochs = 100\n",
    "    for epoch in range(num_epochs):\n",
    "        print(f\"Epoch {epoch + 1}/{num_epochs}\")\n",
    "        \n",
    "        # === TRENING ===\n",
    "        model.train()\n",
    "        train_loss = 0\n",
    "        train_true, train_pred = [], []\n",
    "\n",
    "        with tqdm(total=len(train_loader), desc=\"Training\", unit=\"batch\") as pbar:\n",
    "            for t_image, b_image, s_image, labels in train_loader:\n",
    "                t_image, b_image, s_image, labels = (\n",
    "                    t_image.to(\"cuda\"),\n",
    "                    b_image.to(\"cuda\"),\n",
    "                    s_image.to(\"cuda\"),\n",
    "                    labels.to(\"cuda\")\n",
    "                )\n",
    "\n",
    "                # Oblicz predykcje i stratę\n",
    "                outputs = model(t_image, b_image, s_image)\n",
    "                loss = criterion(outputs, labels)\n",
    "\n",
    "                # Backpropagation\n",
    "                optimizer.zero_grad()\n",
    "                loss.backward()\n",
    "                optimizer.step()\n",
    "\n",
    "                train_loss += loss.item()\n",
    "                _, predicted = torch.max(outputs, 1)\n",
    "                train_true.extend(labels.cpu().numpy())\n",
    "                train_pred.extend(predicted.cpu().numpy())\n",
    "                pbar.set_postfix({\"loss\": f\"{train_loss / (pbar.n + 1):.4f}\"})\n",
    "                pbar.update(1)\n",
    "\n",
    "        train_loss /= len(train_loader)\n",
    "        train_accuracy, train_precision, train_recall, train_f1 = compute_metrics(train_true, train_pred)\n",
    "\n",
    "        # === WALIDACJA ===\n",
    "        model.eval()\n",
    "        val_loss = 0\n",
    "        val_true, val_pred = [], []\n",
    "\n",
    "        with torch.no_grad():\n",
    "            with tqdm(total=len(val_loader), desc=\"Validation\", unit=\"batch\") as pbar_val:\n",
    "                for t_image, b_image, s_image, labels in val_loader:\n",
    "                    t_image, b_image, s_image, labels = (\n",
    "                        t_image.to(\"cuda\"),\n",
    "                        b_image.to(\"cuda\"),\n",
    "                        s_image.to(\"cuda\"),\n",
    "                        labels.to(\"cuda\")\n",
    "                    )\n",
    "                    outputs = model(t_image, b_image, s_image)\n",
    "                    loss = criterion(outputs, labels)\n",
    "                    val_loss += loss.item()\n",
    "\n",
    "                    _, predicted = torch.max(outputs, 1)\n",
    "                    val_true.extend(labels.cpu().numpy())\n",
    "                    val_pred.extend(predicted.cpu().numpy())\n",
    "                    pbar_val.update(1)\n",
    "\n",
    "        val_loss /= len(val_loader)\n",
    "        val_accuracy, val_precision, val_recall, val_f1 = compute_metrics(val_true, val_pred)\n",
    "\n",
    "        # Zapis logów\n",
    "        with open(log_file, \"a\") as f:\n",
    "            f.write(\n",
    "                f\"{epoch + 1},{train_loss:.4f},{val_loss:.4f},{train_accuracy:.4f},{val_accuracy:.4f},\"\n",
    "                f\"{train_precision:.4f},{val_precision:.4f},{train_recall:.4f},{val_recall:.4f},{train_f1:.4f},{val_f1:.4f}\\n\"\n",
    "            )\n",
    "\n",
    "        # Wczesne zatrzymanie\n",
    "        if val_loss < best_val_loss:\n",
    "            best_val_loss = val_loss\n",
    "            patience_counter = 0\n",
    "            torch.save(model.state_dict(), best_model_path)\n",
    "            print(f\"Best model saved at epoch {epoch + 1}\")\n",
    "        else:\n",
    "            patience_counter += 1\n",
    "            print(f\"No improvement in val loss for {patience_counter} epoch(s)\")\n",
    "\n",
    "        if patience_counter >= early_stop_patience:\n",
    "            print(\"Early stopping triggered. Training stopped.\")\n",
    "            break\n",
    "\n",
    "    # === TESTOWANIE ===\n",
    "    print(f\"\\n=== Testowanie modelu dla batch_size: {batch_size} ===\")\n",
    "    model.load_state_dict(torch.load(best_model_path))\n",
    "    model.eval()\n",
    "    test_loss = 0\n",
    "    test_true, test_pred = [], []\n",
    "\n",
    "    with torch.no_grad():\n",
    "        with tqdm(total=len(test_loader), desc=\"Testing\", unit=\"batch\") as pbar_test:\n",
    "            for t_image, b_image, s_image, labels in test_loader:\n",
    "                t_image, b_image, s_image, labels = (\n",
    "                    t_image.to(\"cuda\"),\n",
    "                    b_image.to(\"cuda\"),\n",
    "                    s_image.to(\"cuda\"),\n",
    "                    labels.to(\"cuda\")\n",
    "                )\n",
    "                outputs = model(t_image, b_image, s_image)\n",
    "                loss = criterion(outputs, labels)\n",
    "                test_loss += loss.item()\n",
    "\n",
    "                _, predicted = torch.max(outputs, 1)\n",
    "                test_true.extend(labels.cpu().numpy())\n",
    "                test_pred.extend(predicted.cpu().numpy())\n",
    "                pbar_test.update(1)\n",
    "\n",
    "    test_loss /= len(test_loader)\n",
    "    test_accuracy, test_precision, test_recall, test_f1 = compute_metrics(test_true, test_pred)\n",
    "\n",
    "    # Zapis wyników do podsumowania\n",
    "    results_summary.append({\n",
    "        \"batch_size\": batch_size,\n",
    "        \"best_val_loss\": best_val_loss,\n",
    "        \"test_loss\": test_loss,\n",
    "        \"test_accuracy\": test_accuracy,\n",
    "        \"test_precision\": test_precision,\n",
    "        \"test_recall\": test_recall,\n",
    "        \"test_f1\": test_f1\n",
    "    })\n",
    "\n",
    "    # Czyszczenie pamięci\n",
    "    del model\n",
    "    torch.cuda.empty_cache()\n",
    "\n",
    "# === PODSUMOWANIE WYNIKÓW ===\n",
    "summary_df = pd.DataFrame(results_summary)\n",
    "summary_df.to_csv(f\"{path_results}/summary_results.csv\", index=False)\n",
    "print(\"\\n=== Podsumowanie wyników ===\")\n",
    "print(summary_df)\n",
    "\n",
    "# Opcjonalnie: wizualizacja wyników\n",
    "import matplotlib.pyplot as plt\n",
    "\n",
    "plt.figure(figsize=(10, 6))\n",
    "plt.plot(summary_df[\"batch_size\"], summary_df[\"test_accuracy\"], marker='o', label=\"Test Accuracy\")\n",
    "plt.plot(summary_df[\"batch_size\"], summary_df[\"test_f1\"], marker='o', label=\"Test F1 Score\")\n",
    "plt.xlabel(\"Batch Size\")\n",
    "plt.ylabel(\"Metric Value\")\n",
    "plt.title(\"Test Metrics vs Batch Size\")\n",
    "plt.legend()\n",
    "plt.grid(True)\n",
    "plt.savefig(f\"{path_results}/metrics_plot.png\")\n",
    "plt.show()"
   ]
  },
  {
   "cell_type": "code",
   "execution_count": null,
   "metadata": {},
   "outputs": [],
   "source": []
  },
  {
   "cell_type": "code",
   "execution_count": null,
   "metadata": {},
   "outputs": [],
   "source": []
  }
 ],
 "metadata": {
  "kernelspec": {
   "display_name": "dnn_gpu",
   "language": "python",
   "name": "python3"
  },
  "language_info": {
   "codemirror_mode": {
    "name": "ipython",
    "version": 3
   },
   "file_extension": ".py",
   "mimetype": "text/x-python",
   "name": "python",
   "nbconvert_exporter": "python",
   "pygments_lexer": "ipython3",
   "version": "3.11.11"
  }
 },
 "nbformat": 4,
 "nbformat_minor": 2
}
