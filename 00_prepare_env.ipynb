{
 "cells": [
  {
   "cell_type": "markdown",
   "metadata": {},
   "source": [
    "Aby stworzyć środowisko programistyczne w Ubuntu i zarządzać modułami za pomocą pip, możesz skorzystać z wirtualnych środowisk. Oto kroki, które możesz wykonać:\n",
    "\n",
    "Jeżeli masz zainstalowaną Conda:\n",
    "conda create --name myenv python=3.11\n",
    "\n",
    "Zainstaluj virtualenv:\n",
    "\n",
    "sudo apt update\n",
    "sudo apt install python3-venv\n",
    "\n",
    "Utwórz nowe wirtualne środowisko:\n",
    "\n",
    "python3 -m venv myenv\n",
    "To polecenie utworzy katalog myenv, który będzie zawierał wszystkie pliki potrzebne do wirtualnego środowiska.\n",
    "\n",
    "Aktywuj wirtualne środowisko:\n",
    "\n",
    "source myenv/bin/activate\n",
    "Po aktywacji, w terminalu powinieneś zobaczyć nazwę swojego środowiska (np. (myenv)).\n",
    "\n",
    "Instaluj moduły za pomocą pip:\n",
    "\n",
    "pip install nazwa_modułu\n",
    "Zapisz listę zainstalowanych modułów:\n",
    "\n",
    "pip freeze > requirements.txt\n",
    "To polecenie zapisze wszystkie zainstalowane moduły i ich wersje do pliku requirements.txt.\n",
    "\n",
    "Odtwórz środowisko na innym komputerze:\n",
    "\n",
    "Skopiuj plik requirements.txt na nowy komputer.\n",
    "Utwórz i aktywuj nowe wirtualne środowisko.\n",
    "Zainstaluj wszystkie moduły z pliku requirements.txt:\n",
    "pip install -r requirements.txt"
   ]
  }
 ],
 "metadata": {
  "kernelspec": {
   "display_name": "dnn_gpu",
   "language": "python",
   "name": "python3"
  },
  "language_info": {
   "name": "python",
   "version": "3.11.11"
  }
 },
 "nbformat": 4,
 "nbformat_minor": 2
}
