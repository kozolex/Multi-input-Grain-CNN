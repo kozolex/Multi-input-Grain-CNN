{
 "cells": [
  {
   "cell_type": "code",
   "execution_count": 1,
   "metadata": {},
   "outputs": [
    {
     "ename": "ValueError",
     "evalue": "Can't mix absolute and relative paths",
     "output_type": "error",
     "traceback": [
      "\u001b[0;31m---------------------------------------------------------------------------\u001b[0m",
      "\u001b[0;31mValueError\u001b[0m                                Traceback (most recent call last)",
      "Cell \u001b[0;32mIn[1], line 4\u001b[0m\n\u001b[1;32m      1\u001b[0m \u001b[38;5;28;01mimport\u001b[39;00m \u001b[38;5;21;01mpreprocessing\u001b[39;00m \u001b[38;5;28;01mas\u001b[39;00m \u001b[38;5;21;01mpp\u001b[39;00m\n\u001b[1;32m      3\u001b[0m resizer \u001b[38;5;241m=\u001b[39m pp\u001b[38;5;241m.\u001b[39mImageResizer(output_dir\u001b[38;5;241m=\u001b[39m\u001b[38;5;124m\"\u001b[39m\u001b[38;5;124moutput_dataset\u001b[39m\u001b[38;5;124m\"\u001b[39m, target_size\u001b[38;5;241m=\u001b[39m(\u001b[38;5;241m224\u001b[39m, \u001b[38;5;241m224\u001b[39m), fill_color\u001b[38;5;241m=\u001b[39m(\u001b[38;5;241m0\u001b[39m, \u001b[38;5;241m0\u001b[39m, \u001b[38;5;241m0\u001b[39m))\n\u001b[0;32m----> 4\u001b[0m \u001b[43mresizer\u001b[49m\u001b[38;5;241;43m.\u001b[39;49m\u001b[43mprocess_csv\u001b[49m\u001b[43m(\u001b[49m\u001b[38;5;124;43m\"\u001b[39;49m\u001b[38;5;124;43mCSV/dataset/dataset.csv\u001b[39;49m\u001b[38;5;124;43m\"\u001b[39;49m\u001b[43m)\u001b[49m\n",
      "File \u001b[0;32m/media/3TB/github/Multi-input-Grain-CNN/preprocessing.py:62\u001b[0m, in \u001b[0;36mImageResizer.process_csv\u001b[0;34m(self, csv_path)\u001b[0m\n\u001b[1;32m     57\u001b[0m class_name \u001b[38;5;241m=\u001b[39m row[\u001b[38;5;124m\"\u001b[39m\u001b[38;5;124mclass\u001b[39m\u001b[38;5;124m\"\u001b[39m]  \u001b[38;5;66;03m# Klasa obrazu\u001b[39;00m\n\u001b[1;32m     58\u001b[0m \u001b[38;5;66;03m#rel_path = os.path.relpath(img_path, os.path.dirname(csv_path))  # Zachowanie struktury katalogów\u001b[39;00m\n\u001b[1;32m     59\u001b[0m \n\u001b[1;32m     60\u001b[0m \u001b[38;5;66;03m# Ścieżka do katalogu wyjściowego\u001b[39;00m\n\u001b[1;32m     61\u001b[0m \u001b[38;5;66;03m#output_path = os.path.join(self.output_dir, rel_path)\u001b[39;00m\n\u001b[0;32m---> 62\u001b[0m rel_path \u001b[38;5;241m=\u001b[39m os\u001b[38;5;241m.\u001b[39mpath\u001b[38;5;241m.\u001b[39mrelpath(img_path, start\u001b[38;5;241m=\u001b[39m\u001b[43mos\u001b[49m\u001b[38;5;241;43m.\u001b[39;49m\u001b[43mpath\u001b[49m\u001b[38;5;241;43m.\u001b[39;49m\u001b[43mcommonpath\u001b[49m\u001b[43m(\u001b[49m\u001b[43m[\u001b[49m\u001b[43mimg_path\u001b[49m\u001b[43m,\u001b[49m\u001b[43m \u001b[49m\u001b[43mcsv_path\u001b[49m\u001b[43m]\u001b[49m\u001b[43m)\u001b[49m)  \u001b[38;5;66;03m# Lepsze budowanie ścieżki\u001b[39;00m\n\u001b[1;32m     63\u001b[0m output_path \u001b[38;5;241m=\u001b[39m os\u001b[38;5;241m.\u001b[39mpath\u001b[38;5;241m.\u001b[39mjoin(\u001b[38;5;28mself\u001b[39m\u001b[38;5;241m.\u001b[39moutput_dir, os\u001b[38;5;241m.\u001b[39mpath\u001b[38;5;241m.\u001b[39mbasename(os\u001b[38;5;241m.\u001b[39mpath\u001b[38;5;241m.\u001b[39mdirname(img_path)), os\u001b[38;5;241m.\u001b[39mpath\u001b[38;5;241m.\u001b[39mbasename(img_path))\n\u001b[1;32m     65\u001b[0m \u001b[38;5;66;03m# Tworzenie katalogu, jeśli nie istnieje\u001b[39;00m\n",
      "File \u001b[0;32m<frozen posixpath>:547\u001b[0m, in \u001b[0;36mcommonpath\u001b[0;34m(paths)\u001b[0m\n",
      "\u001b[0;31mValueError\u001b[0m: Can't mix absolute and relative paths"
     ]
    }
   ],
   "source": [
    "import preprocessing as pp\n",
    "\n",
    "resizer = pp.ImageResizer(output_dir=\"output_dataset\", target_size=(224, 224), fill_color=(0, 0, 0))\n",
    "resizer.process_csv(\"CSV/dataset/dataset.csv\")\n"
   ]
  }
 ],
 "metadata": {
  "kernelspec": {
   "display_name": "dnn_gpu",
   "language": "python",
   "name": "python3"
  },
  "language_info": {
   "codemirror_mode": {
    "name": "ipython",
    "version": 3
   },
   "file_extension": ".py",
   "mimetype": "text/x-python",
   "name": "python",
   "nbconvert_exporter": "python",
   "pygments_lexer": "ipython3",
   "version": "3.11.11"
  }
 },
 "nbformat": 4,
 "nbformat_minor": 2
}
