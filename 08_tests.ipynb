{
 "cells": [
  {
   "cell_type": "code",
   "execution_count": null,
   "metadata": {},
   "outputs": [],
   "source": [
    "import multiModel as mm\n",
    "from multiModel import MultiInputModel\n",
    "\n",
    "\n",
    "import matplotlib.pyplot as plt\n",
    "\n",
    "# Załaduj dane\n",
    "test_dataset = mm.MultiInputDataset(\"CSV/dataset/test.csv\", transform_rgb=mm.transform_rgb, transform_binary=mm.transform_binary)\n",
    "test_loader = mm.DataLoader(test_dataset, batch_size=32, shuffle=False)\n",
    "\n",
    "# Wywołanie funkcji testującej\n",
    "cm, y_true, y_pred = mm.test_model(\n",
    "    path_model=\"training_results/best_model_mobilenet_v3_small.pth\",\n",
    "    test_loader=test_loader,\n",
    "    device=\"cuda\"\n",
    ")\n",
    "\n",
    "# Wyświetlenie macierzy pomyłek\n",
    "class_names = list(test_dataset.class_to_idx.keys())\n",
    "plt.figure(figsize=(10, 8))\n",
    "mm.sns.heatmap(cm, annot=True, fmt=\"d\", cmap=\"Blues\", xticklabels=class_names, yticklabels=class_names)\n",
    "plt.xlabel(\"Przewidywane klasy\")\n",
    "plt.ylabel(\"Rzeczywiste klasy\")\n",
    "plt.title(\"Macierz pomyłek\")\n",
    "plt.show()\n",
    "\n",
    "# Inne metryki\n",
    "print(\"Dokładność:\", mm.accuracy_score(y_true, y_pred))\n",
    "print(\"\\nRaport klasyfikacji:\")\n",
    "print(mm.classification_report(y_true, y_pred, target_names=class_names))\n"
   ]
  }
 ],
 "metadata": {
  "kernelspec": {
   "display_name": "dnn_gpu",
   "language": "python",
   "name": "python3"
  },
  "language_info": {
   "codemirror_mode": {
    "name": "ipython",
    "version": 3
   },
   "file_extension": ".py",
   "mimetype": "text/x-python",
   "name": "python",
   "nbconvert_exporter": "python",
   "pygments_lexer": "ipython3",
   "version": "3.11.11"
  }
 },
 "nbformat": 4,
 "nbformat_minor": 2
}
