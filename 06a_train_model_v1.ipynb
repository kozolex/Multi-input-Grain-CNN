{
 "cells": [
  {
   "cell_type": "markdown",
   "metadata": {},
   "source": [
    "Implementacja modelu w PyTorch"
   ]
  },
  {
   "cell_type": "code",
   "execution_count": 2,
   "metadata": {},
   "outputs": [],
   "source": [
    "import torch\n",
    "import torch.nn as nn\n",
    "import torchvision.models as models\n",
    "\n",
    "class MultiInputModel(nn.Module):\n",
    "    def __init__(self, num_classes,image_size_x = 224,image_size_y = 224, filter_num_base = 4):\n",
    "        super(MultiInputModel, self).__init__()\n",
    "        \n",
    "        # Sieć dla obrazów RGB (widok T i B) \n",
    "        self.rgb_model = models.efficientnet_b0(pretrained=True)\n",
    "        self.rgb_model.classifier = nn.Identity()  # Usuń ostatnią warstwę\n",
    "\n",
    "        # Sieć dla obrazu binarnego (widok S)\n",
    "        \n",
    "        self.binary_model = nn.Sequential(\n",
    "            nn.Conv2d(1, filter_num_base*2, kernel_size=3, stride=1, padding=1),  # 1-kanałowe wejście\n",
    "            nn.ReLU(),\n",
    "            nn.MaxPool2d(2, 2),\n",
    "            nn.Conv2d(filter_num_base*2, filter_num_base*4, kernel_size=3, stride=1, padding=1),\n",
    "            nn.ReLU(),\n",
    "            nn.MaxPool2d(2, 2),\n",
    "            nn.Flatten(),\n",
    "            nn.Linear(filter_num_base*4 * (image_size_x // 4) * (image_size_y // 4), filter_num_base*32),  # Dopasowanie rozmiarów\n",
    "            nn.ReLU()\n",
    "        )\n",
    "\n",
    "        # Warstwa łącząca\n",
    "        self.fc = nn.Sequential(\n",
    "            nn.Linear(1280 + 1280 + 256, 512),  # 1280 (T) + 1280 (B) + 256 (S)\n",
    "            nn.ReLU(),\n",
    "            nn.Dropout(0.5),\n",
    "            nn.Linear(512, num_classes)\n",
    "        )\n",
    "\n",
    "    def forward(self, t_image, b_image, s_image):\n",
    "        # Ekstrakcja cech dla widoków RGB\n",
    "        t_features = self.rgb_model(t_image)  # Widok T\n",
    "        b_features = self.rgb_model(b_image)  # Widok B\n",
    "\n",
    "        # Ekstrakcja cech dla obrazu binarnego\n",
    "        s_features = self.binary_model(s_image)\n",
    "\n",
    "        # Połączenie cech\n",
    "        combined_features = torch.cat([t_features, b_features, s_features], dim=1)\n",
    "\n",
    "        # Klasyfikacja\n",
    "        output = self.fc(combined_features)\n",
    "        return output\n"
   ]
  },
  {
   "cell_type": "markdown",
   "metadata": {},
   "source": [
    "Krok 1: Przygotowanie danych. Przygotuj dane dla modelu multi-input w formie DataLoader, gdzie każda próbka zawiera trzy obrazy (*_T.png, *_B.png, *_S.png) i ich klasę. <br>\n",
    "Krok 2: Transformacje dla obrazów RGB i binarnych:"
   ]
  },
  {
   "cell_type": "code",
   "execution_count": 3,
   "metadata": {},
   "outputs": [],
   "source": [
    "from torch.utils.data import Dataset\n",
    "from PIL import Image\n",
    "import pandas as pd\n",
    "\n",
    "class MultiInputDataset(Dataset):\n",
    "    def __init__(self, csv_file, transform_rgb=None, transform_binary=None):\n",
    "        self.data = pd.read_csv(csv_file)\n",
    "\n",
    "        # Tworzenie mapowania nazw klas na liczby całkowite\n",
    "        self.class_to_idx = {class_name: idx for idx, class_name in enumerate(self.data['class'].unique())}\n",
    "\n",
    "        self.transform_rgb = transform_rgb\n",
    "        self.transform_binary = transform_binary\n",
    "\n",
    "    def __len__(self):\n",
    "        return len(self.data) // 3  # Każde ziarno ma 3 obrazy\n",
    "\n",
    "    def __getitem__(self, idx):\n",
    "        # Pobierz trzy obrazy\n",
    "        base_idx = idx * 3\n",
    "        t_path = self.data.iloc[base_idx]['path']\n",
    "        b_path = self.data.iloc[base_idx + 1]['path']\n",
    "        s_path = self.data.iloc[base_idx + 2]['path']\n",
    "\n",
    "        t_image = Image.open(t_path).convert(\"RGB\")\n",
    "        b_image = Image.open(b_path).convert(\"RGB\")\n",
    "        s_image = Image.open(s_path).convert(\"L\")  # Obraz binarny\n",
    "\n",
    "        # Transformacje\n",
    "        if self.transform_rgb:\n",
    "            t_image = self.transform_rgb(t_image)\n",
    "            b_image = self.transform_rgb(b_image)\n",
    "        if self.transform_binary:\n",
    "            s_image = self.transform_binary(s_image)\n",
    "\n",
    "        # Pobierz nazwę klasy i przekształć na indeks numeryczny\n",
    "        class_name = self.data.iloc[base_idx]['class']\n",
    "        label = self.class_to_idx[class_name]  # Mapowanie nazwy klasy na numer\n",
    "        label = torch.tensor(label, dtype=torch.long)  # Konwersja na tensor PyTorch\n",
    "\n",
    "        return t_image, b_image, s_image, label\n",
    "\n",
    "#Krok 2: Transformacje dla obrazów RGB i binarnych:\n",
    "from torchvision import transforms\n",
    "\n",
    "# Transformacje dla obrazów RGB\n",
    "transform_rgb = transforms.Compose([\n",
    "    transforms.Resize((224, 224)),\n",
    "    transforms.ToTensor(),\n",
    "    transforms.Normalize(mean=[0.485, 0.456, 0.406], std=[0.229, 0.224, 0.225])\n",
    "])\n",
    "\n",
    "# Transformacje dla obrazów binarnych\n",
    "transform_binary = transforms.Compose([\n",
    "    transforms.Resize((224, 224)),\n",
    "    transforms.ToTensor()\n",
    "])"
   ]
  },
  {
   "cell_type": "markdown",
   "metadata": {},
   "source": [
    "Krok 3: Trenowanie modelu"
   ]
  },
  {
   "cell_type": "code",
   "execution_count": 3,
   "metadata": {},
   "outputs": [
    {
     "name": "stderr",
     "output_type": "stream",
     "text": [
      "/home/mk/miniconda3/envs/dnn_gpu/lib/python3.11/site-packages/torchvision/models/_utils.py:208: UserWarning: The parameter 'pretrained' is deprecated since 0.13 and may be removed in the future, please use 'weights' instead.\n",
      "  warnings.warn(\n",
      "/home/mk/miniconda3/envs/dnn_gpu/lib/python3.11/site-packages/torchvision/models/_utils.py:223: UserWarning: Arguments other than a weight enum or `None` for 'weights' are deprecated since 0.13 and may be removed in the future. The current behavior is equivalent to passing `weights=EfficientNet_B0_Weights.IMAGENET1K_V1`. You can also use `weights=EfficientNet_B0_Weights.DEFAULT` to get the most up-to-date weights.\n",
      "  warnings.warn(msg)\n"
     ]
    },
    {
     "ename": "RuntimeError",
     "evalue": "mat1 and mat2 shapes cannot be multiplied (32x2688 and 2816x512)",
     "output_type": "error",
     "traceback": [
      "\u001b[0;31m---------------------------------------------------------------------------\u001b[0m",
      "\u001b[0;31mRuntimeError\u001b[0m                              Traceback (most recent call last)",
      "Cell \u001b[0;32mIn[3], line 34\u001b[0m\n\u001b[1;32m     26\u001b[0m t_image, b_image, s_image, labels \u001b[38;5;241m=\u001b[39m (\n\u001b[1;32m     27\u001b[0m     t_image\u001b[38;5;241m.\u001b[39mto(\u001b[38;5;124m\"\u001b[39m\u001b[38;5;124mcuda\u001b[39m\u001b[38;5;124m\"\u001b[39m),\n\u001b[1;32m     28\u001b[0m     b_image\u001b[38;5;241m.\u001b[39mto(\u001b[38;5;124m\"\u001b[39m\u001b[38;5;124mcuda\u001b[39m\u001b[38;5;124m\"\u001b[39m),\n\u001b[1;32m     29\u001b[0m     s_image\u001b[38;5;241m.\u001b[39mto(\u001b[38;5;124m\"\u001b[39m\u001b[38;5;124mcuda\u001b[39m\u001b[38;5;124m\"\u001b[39m),\n\u001b[1;32m     30\u001b[0m     labels\u001b[38;5;241m.\u001b[39mto(\u001b[38;5;124m\"\u001b[39m\u001b[38;5;124mcuda\u001b[39m\u001b[38;5;124m\"\u001b[39m)\n\u001b[1;32m     31\u001b[0m )\n\u001b[1;32m     33\u001b[0m \u001b[38;5;66;03m# Oblicz predykcje i stratę\u001b[39;00m\n\u001b[0;32m---> 34\u001b[0m outputs \u001b[38;5;241m=\u001b[39m \u001b[43mmodel\u001b[49m\u001b[43m(\u001b[49m\u001b[43mt_image\u001b[49m\u001b[43m,\u001b[49m\u001b[43m \u001b[49m\u001b[43mb_image\u001b[49m\u001b[43m,\u001b[49m\u001b[43m \u001b[49m\u001b[43ms_image\u001b[49m\u001b[43m)\u001b[49m\n\u001b[1;32m     36\u001b[0m \u001b[38;5;66;03m#print(f\"Outputs shape: {outputs.shape}\")  # Dodaj tę linię\u001b[39;00m\n\u001b[1;32m     37\u001b[0m \u001b[38;5;66;03m#print(f\"Labels shape: {labels.shape}\")    # Dodaj tę linię\u001b[39;00m\n\u001b[1;32m     38\u001b[0m \u001b[38;5;66;03m#print(f\"Labels min: {labels.min()}, Labels max: {labels.max()}\")  # Dodaj tę linię\u001b[39;00m\n\u001b[1;32m     39\u001b[0m \u001b[38;5;66;03m#print(f\"Labels dtype: {labels.dtype}\")  # Dodaj tę linię\u001b[39;00m\n\u001b[1;32m     41\u001b[0m loss \u001b[38;5;241m=\u001b[39m criterion(outputs, labels)\n",
      "File \u001b[0;32m~/miniconda3/envs/dnn_gpu/lib/python3.11/site-packages/torch/nn/modules/module.py:1736\u001b[0m, in \u001b[0;36mModule._wrapped_call_impl\u001b[0;34m(self, *args, **kwargs)\u001b[0m\n\u001b[1;32m   1734\u001b[0m     \u001b[38;5;28;01mreturn\u001b[39;00m \u001b[38;5;28mself\u001b[39m\u001b[38;5;241m.\u001b[39m_compiled_call_impl(\u001b[38;5;241m*\u001b[39margs, \u001b[38;5;241m*\u001b[39m\u001b[38;5;241m*\u001b[39mkwargs)  \u001b[38;5;66;03m# type: ignore[misc]\u001b[39;00m\n\u001b[1;32m   1735\u001b[0m \u001b[38;5;28;01melse\u001b[39;00m:\n\u001b[0;32m-> 1736\u001b[0m     \u001b[38;5;28;01mreturn\u001b[39;00m \u001b[38;5;28;43mself\u001b[39;49m\u001b[38;5;241;43m.\u001b[39;49m\u001b[43m_call_impl\u001b[49m\u001b[43m(\u001b[49m\u001b[38;5;241;43m*\u001b[39;49m\u001b[43margs\u001b[49m\u001b[43m,\u001b[49m\u001b[43m \u001b[49m\u001b[38;5;241;43m*\u001b[39;49m\u001b[38;5;241;43m*\u001b[39;49m\u001b[43mkwargs\u001b[49m\u001b[43m)\u001b[49m\n",
      "File \u001b[0;32m~/miniconda3/envs/dnn_gpu/lib/python3.11/site-packages/torch/nn/modules/module.py:1747\u001b[0m, in \u001b[0;36mModule._call_impl\u001b[0;34m(self, *args, **kwargs)\u001b[0m\n\u001b[1;32m   1742\u001b[0m \u001b[38;5;66;03m# If we don't have any hooks, we want to skip the rest of the logic in\u001b[39;00m\n\u001b[1;32m   1743\u001b[0m \u001b[38;5;66;03m# this function, and just call forward.\u001b[39;00m\n\u001b[1;32m   1744\u001b[0m \u001b[38;5;28;01mif\u001b[39;00m \u001b[38;5;129;01mnot\u001b[39;00m (\u001b[38;5;28mself\u001b[39m\u001b[38;5;241m.\u001b[39m_backward_hooks \u001b[38;5;129;01mor\u001b[39;00m \u001b[38;5;28mself\u001b[39m\u001b[38;5;241m.\u001b[39m_backward_pre_hooks \u001b[38;5;129;01mor\u001b[39;00m \u001b[38;5;28mself\u001b[39m\u001b[38;5;241m.\u001b[39m_forward_hooks \u001b[38;5;129;01mor\u001b[39;00m \u001b[38;5;28mself\u001b[39m\u001b[38;5;241m.\u001b[39m_forward_pre_hooks\n\u001b[1;32m   1745\u001b[0m         \u001b[38;5;129;01mor\u001b[39;00m _global_backward_pre_hooks \u001b[38;5;129;01mor\u001b[39;00m _global_backward_hooks\n\u001b[1;32m   1746\u001b[0m         \u001b[38;5;129;01mor\u001b[39;00m _global_forward_hooks \u001b[38;5;129;01mor\u001b[39;00m _global_forward_pre_hooks):\n\u001b[0;32m-> 1747\u001b[0m     \u001b[38;5;28;01mreturn\u001b[39;00m \u001b[43mforward_call\u001b[49m\u001b[43m(\u001b[49m\u001b[38;5;241;43m*\u001b[39;49m\u001b[43margs\u001b[49m\u001b[43m,\u001b[49m\u001b[43m \u001b[49m\u001b[38;5;241;43m*\u001b[39;49m\u001b[38;5;241;43m*\u001b[39;49m\u001b[43mkwargs\u001b[49m\u001b[43m)\u001b[49m\n\u001b[1;32m   1749\u001b[0m result \u001b[38;5;241m=\u001b[39m \u001b[38;5;28;01mNone\u001b[39;00m\n\u001b[1;32m   1750\u001b[0m called_always_called_hooks \u001b[38;5;241m=\u001b[39m \u001b[38;5;28mset\u001b[39m()\n",
      "Cell \u001b[0;32mIn[1], line 47\u001b[0m, in \u001b[0;36mMultiInputModel.forward\u001b[0;34m(self, t_image, b_image, s_image)\u001b[0m\n\u001b[1;32m     44\u001b[0m combined_features \u001b[38;5;241m=\u001b[39m torch\u001b[38;5;241m.\u001b[39mcat([t_features, b_features, s_features], dim\u001b[38;5;241m=\u001b[39m\u001b[38;5;241m1\u001b[39m)\n\u001b[1;32m     46\u001b[0m \u001b[38;5;66;03m# Klasyfikacja\u001b[39;00m\n\u001b[0;32m---> 47\u001b[0m output \u001b[38;5;241m=\u001b[39m \u001b[38;5;28;43mself\u001b[39;49m\u001b[38;5;241;43m.\u001b[39;49m\u001b[43mfc\u001b[49m\u001b[43m(\u001b[49m\u001b[43mcombined_features\u001b[49m\u001b[43m)\u001b[49m\n\u001b[1;32m     48\u001b[0m \u001b[38;5;28;01mreturn\u001b[39;00m output\n",
      "File \u001b[0;32m~/miniconda3/envs/dnn_gpu/lib/python3.11/site-packages/torch/nn/modules/module.py:1736\u001b[0m, in \u001b[0;36mModule._wrapped_call_impl\u001b[0;34m(self, *args, **kwargs)\u001b[0m\n\u001b[1;32m   1734\u001b[0m     \u001b[38;5;28;01mreturn\u001b[39;00m \u001b[38;5;28mself\u001b[39m\u001b[38;5;241m.\u001b[39m_compiled_call_impl(\u001b[38;5;241m*\u001b[39margs, \u001b[38;5;241m*\u001b[39m\u001b[38;5;241m*\u001b[39mkwargs)  \u001b[38;5;66;03m# type: ignore[misc]\u001b[39;00m\n\u001b[1;32m   1735\u001b[0m \u001b[38;5;28;01melse\u001b[39;00m:\n\u001b[0;32m-> 1736\u001b[0m     \u001b[38;5;28;01mreturn\u001b[39;00m \u001b[38;5;28;43mself\u001b[39;49m\u001b[38;5;241;43m.\u001b[39;49m\u001b[43m_call_impl\u001b[49m\u001b[43m(\u001b[49m\u001b[38;5;241;43m*\u001b[39;49m\u001b[43margs\u001b[49m\u001b[43m,\u001b[49m\u001b[43m \u001b[49m\u001b[38;5;241;43m*\u001b[39;49m\u001b[38;5;241;43m*\u001b[39;49m\u001b[43mkwargs\u001b[49m\u001b[43m)\u001b[49m\n",
      "File \u001b[0;32m~/miniconda3/envs/dnn_gpu/lib/python3.11/site-packages/torch/nn/modules/module.py:1747\u001b[0m, in \u001b[0;36mModule._call_impl\u001b[0;34m(self, *args, **kwargs)\u001b[0m\n\u001b[1;32m   1742\u001b[0m \u001b[38;5;66;03m# If we don't have any hooks, we want to skip the rest of the logic in\u001b[39;00m\n\u001b[1;32m   1743\u001b[0m \u001b[38;5;66;03m# this function, and just call forward.\u001b[39;00m\n\u001b[1;32m   1744\u001b[0m \u001b[38;5;28;01mif\u001b[39;00m \u001b[38;5;129;01mnot\u001b[39;00m (\u001b[38;5;28mself\u001b[39m\u001b[38;5;241m.\u001b[39m_backward_hooks \u001b[38;5;129;01mor\u001b[39;00m \u001b[38;5;28mself\u001b[39m\u001b[38;5;241m.\u001b[39m_backward_pre_hooks \u001b[38;5;129;01mor\u001b[39;00m \u001b[38;5;28mself\u001b[39m\u001b[38;5;241m.\u001b[39m_forward_hooks \u001b[38;5;129;01mor\u001b[39;00m \u001b[38;5;28mself\u001b[39m\u001b[38;5;241m.\u001b[39m_forward_pre_hooks\n\u001b[1;32m   1745\u001b[0m         \u001b[38;5;129;01mor\u001b[39;00m _global_backward_pre_hooks \u001b[38;5;129;01mor\u001b[39;00m _global_backward_hooks\n\u001b[1;32m   1746\u001b[0m         \u001b[38;5;129;01mor\u001b[39;00m _global_forward_hooks \u001b[38;5;129;01mor\u001b[39;00m _global_forward_pre_hooks):\n\u001b[0;32m-> 1747\u001b[0m     \u001b[38;5;28;01mreturn\u001b[39;00m \u001b[43mforward_call\u001b[49m\u001b[43m(\u001b[49m\u001b[38;5;241;43m*\u001b[39;49m\u001b[43margs\u001b[49m\u001b[43m,\u001b[49m\u001b[43m \u001b[49m\u001b[38;5;241;43m*\u001b[39;49m\u001b[38;5;241;43m*\u001b[39;49m\u001b[43mkwargs\u001b[49m\u001b[43m)\u001b[49m\n\u001b[1;32m   1749\u001b[0m result \u001b[38;5;241m=\u001b[39m \u001b[38;5;28;01mNone\u001b[39;00m\n\u001b[1;32m   1750\u001b[0m called_always_called_hooks \u001b[38;5;241m=\u001b[39m \u001b[38;5;28mset\u001b[39m()\n",
      "File \u001b[0;32m~/miniconda3/envs/dnn_gpu/lib/python3.11/site-packages/torch/nn/modules/container.py:250\u001b[0m, in \u001b[0;36mSequential.forward\u001b[0;34m(self, input)\u001b[0m\n\u001b[1;32m    248\u001b[0m \u001b[38;5;28;01mdef\u001b[39;00m \u001b[38;5;21mforward\u001b[39m(\u001b[38;5;28mself\u001b[39m, \u001b[38;5;28minput\u001b[39m):\n\u001b[1;32m    249\u001b[0m     \u001b[38;5;28;01mfor\u001b[39;00m module \u001b[38;5;129;01min\u001b[39;00m \u001b[38;5;28mself\u001b[39m:\n\u001b[0;32m--> 250\u001b[0m         \u001b[38;5;28minput\u001b[39m \u001b[38;5;241m=\u001b[39m \u001b[43mmodule\u001b[49m\u001b[43m(\u001b[49m\u001b[38;5;28;43minput\u001b[39;49m\u001b[43m)\u001b[49m\n\u001b[1;32m    251\u001b[0m     \u001b[38;5;28;01mreturn\u001b[39;00m \u001b[38;5;28minput\u001b[39m\n",
      "File \u001b[0;32m~/miniconda3/envs/dnn_gpu/lib/python3.11/site-packages/torch/nn/modules/module.py:1736\u001b[0m, in \u001b[0;36mModule._wrapped_call_impl\u001b[0;34m(self, *args, **kwargs)\u001b[0m\n\u001b[1;32m   1734\u001b[0m     \u001b[38;5;28;01mreturn\u001b[39;00m \u001b[38;5;28mself\u001b[39m\u001b[38;5;241m.\u001b[39m_compiled_call_impl(\u001b[38;5;241m*\u001b[39margs, \u001b[38;5;241m*\u001b[39m\u001b[38;5;241m*\u001b[39mkwargs)  \u001b[38;5;66;03m# type: ignore[misc]\u001b[39;00m\n\u001b[1;32m   1735\u001b[0m \u001b[38;5;28;01melse\u001b[39;00m:\n\u001b[0;32m-> 1736\u001b[0m     \u001b[38;5;28;01mreturn\u001b[39;00m \u001b[38;5;28;43mself\u001b[39;49m\u001b[38;5;241;43m.\u001b[39;49m\u001b[43m_call_impl\u001b[49m\u001b[43m(\u001b[49m\u001b[38;5;241;43m*\u001b[39;49m\u001b[43margs\u001b[49m\u001b[43m,\u001b[49m\u001b[43m \u001b[49m\u001b[38;5;241;43m*\u001b[39;49m\u001b[38;5;241;43m*\u001b[39;49m\u001b[43mkwargs\u001b[49m\u001b[43m)\u001b[49m\n",
      "File \u001b[0;32m~/miniconda3/envs/dnn_gpu/lib/python3.11/site-packages/torch/nn/modules/module.py:1747\u001b[0m, in \u001b[0;36mModule._call_impl\u001b[0;34m(self, *args, **kwargs)\u001b[0m\n\u001b[1;32m   1742\u001b[0m \u001b[38;5;66;03m# If we don't have any hooks, we want to skip the rest of the logic in\u001b[39;00m\n\u001b[1;32m   1743\u001b[0m \u001b[38;5;66;03m# this function, and just call forward.\u001b[39;00m\n\u001b[1;32m   1744\u001b[0m \u001b[38;5;28;01mif\u001b[39;00m \u001b[38;5;129;01mnot\u001b[39;00m (\u001b[38;5;28mself\u001b[39m\u001b[38;5;241m.\u001b[39m_backward_hooks \u001b[38;5;129;01mor\u001b[39;00m \u001b[38;5;28mself\u001b[39m\u001b[38;5;241m.\u001b[39m_backward_pre_hooks \u001b[38;5;129;01mor\u001b[39;00m \u001b[38;5;28mself\u001b[39m\u001b[38;5;241m.\u001b[39m_forward_hooks \u001b[38;5;129;01mor\u001b[39;00m \u001b[38;5;28mself\u001b[39m\u001b[38;5;241m.\u001b[39m_forward_pre_hooks\n\u001b[1;32m   1745\u001b[0m         \u001b[38;5;129;01mor\u001b[39;00m _global_backward_pre_hooks \u001b[38;5;129;01mor\u001b[39;00m _global_backward_hooks\n\u001b[1;32m   1746\u001b[0m         \u001b[38;5;129;01mor\u001b[39;00m _global_forward_hooks \u001b[38;5;129;01mor\u001b[39;00m _global_forward_pre_hooks):\n\u001b[0;32m-> 1747\u001b[0m     \u001b[38;5;28;01mreturn\u001b[39;00m \u001b[43mforward_call\u001b[49m\u001b[43m(\u001b[49m\u001b[38;5;241;43m*\u001b[39;49m\u001b[43margs\u001b[49m\u001b[43m,\u001b[49m\u001b[43m \u001b[49m\u001b[38;5;241;43m*\u001b[39;49m\u001b[38;5;241;43m*\u001b[39;49m\u001b[43mkwargs\u001b[49m\u001b[43m)\u001b[49m\n\u001b[1;32m   1749\u001b[0m result \u001b[38;5;241m=\u001b[39m \u001b[38;5;28;01mNone\u001b[39;00m\n\u001b[1;32m   1750\u001b[0m called_always_called_hooks \u001b[38;5;241m=\u001b[39m \u001b[38;5;28mset\u001b[39m()\n",
      "File \u001b[0;32m~/miniconda3/envs/dnn_gpu/lib/python3.11/site-packages/torch/nn/modules/linear.py:125\u001b[0m, in \u001b[0;36mLinear.forward\u001b[0;34m(self, input)\u001b[0m\n\u001b[1;32m    124\u001b[0m \u001b[38;5;28;01mdef\u001b[39;00m \u001b[38;5;21mforward\u001b[39m(\u001b[38;5;28mself\u001b[39m, \u001b[38;5;28minput\u001b[39m: Tensor) \u001b[38;5;241m-\u001b[39m\u001b[38;5;241m>\u001b[39m Tensor:\n\u001b[0;32m--> 125\u001b[0m     \u001b[38;5;28;01mreturn\u001b[39;00m \u001b[43mF\u001b[49m\u001b[38;5;241;43m.\u001b[39;49m\u001b[43mlinear\u001b[49m\u001b[43m(\u001b[49m\u001b[38;5;28;43minput\u001b[39;49m\u001b[43m,\u001b[49m\u001b[43m \u001b[49m\u001b[38;5;28;43mself\u001b[39;49m\u001b[38;5;241;43m.\u001b[39;49m\u001b[43mweight\u001b[49m\u001b[43m,\u001b[49m\u001b[43m \u001b[49m\u001b[38;5;28;43mself\u001b[39;49m\u001b[38;5;241;43m.\u001b[39;49m\u001b[43mbias\u001b[49m\u001b[43m)\u001b[49m\n",
      "\u001b[0;31mRuntimeError\u001b[0m: mat1 and mat2 shapes cannot be multiplied (32x2688 and 2816x512)"
     ]
    }
   ],
   "source": [
    "from torch.utils.data import DataLoader\n",
    "import torch.optim as optim\n",
    "import os\n",
    "os.environ['CUDA_LAUNCH_BLOCKING'] = '1'\n",
    "\n",
    "# Załaduj dane\n",
    "train_dataset = MultiInputDataset(\"CSV/dataset/train.csv\", transform_rgb=transform_rgb, transform_binary=transform_binary)\n",
    "val_dataset = MultiInputDataset(\"CSV/dataset/val.csv\", transform_rgb=transform_rgb, transform_binary=transform_binary)\n",
    "\n",
    "train_loader = DataLoader(train_dataset, batch_size=32, shuffle=True)\n",
    "val_loader = DataLoader(val_dataset, batch_size=32, shuffle=False)\n",
    "\n",
    "# Inicjalizacja modelu\n",
    "model = MultiInputModel(num_classes=11)  # Liczba klas\n",
    "model = model.to(\"cuda\")  # Jeśli używasz GPU\n",
    "\n",
    "# Optymalizator i funkcja straty\n",
    "criterion = nn.CrossEntropyLoss()\n",
    "optimizer = optim.Adam(model.parameters(), lr=0.001)\n",
    "\n",
    "# Pętla treningowa\n",
    "for epoch in range(10):\n",
    "    model.train()\n",
    "    total_loss = 0\n",
    "    for t_image, b_image, s_image, labels in train_loader:\n",
    "        t_image, b_image, s_image, labels = (\n",
    "            t_image.to(\"cuda\"),\n",
    "            b_image.to(\"cuda\"),\n",
    "            s_image.to(\"cuda\"),\n",
    "            labels.to(\"cuda\")\n",
    "        )\n",
    "\n",
    "        # Oblicz predykcje i stratę\n",
    "        outputs = model(t_image, b_image, s_image)\n",
    "\n",
    "        #print(f\"Outputs shape: {outputs.shape}\")  # Dodaj tę linię\n",
    "        #print(f\"Labels shape: {labels.shape}\")    # Dodaj tę linię\n",
    "        #print(f\"Labels min: {labels.min()}, Labels max: {labels.max()}\")  # Dodaj tę linię\n",
    "        #print(f\"Labels dtype: {labels.dtype}\")  # Dodaj tę linię\n",
    "\n",
    "        loss = criterion(outputs, labels)\n",
    "\n",
    "        # Backpropagation\n",
    "        optimizer.zero_grad()\n",
    "        loss.backward()\n",
    "        optimizer.step()\n",
    "\n",
    "        total_loss += loss.item()\n",
    "\n",
    "\n",
    "    print(f\"Epoch {epoch + 1}, Loss: {total_loss / len(train_loader):.4f}\")\n"
   ]
  },
  {
   "cell_type": "markdown",
   "metadata": {},
   "source": [
    "Testy modelu:\n",
    "Wynik\n",
    "Macierz pomyłek:\n",
    "\n",
    "Wizualizacja macierzy pomyłek pokazuje liczbę poprawnych klasyfikacji (wartości na przekątnej) i błędnych klasyfikacji (wartości poza przekątną).\n",
    "Dokładność (Accuracy):\n",
    "\n",
    "Ogólna dokładność modelu, tj. stosunek poprawnie sklasyfikowanych przykładów do wszystkich przykładów.\n",
    "Raport klasyfikacji:\n",
    "\n",
    "Wyświetlenie takich metryk jak:\n",
    "Precision: Dokładność przewidywań dla danej klasy.\n",
    "Recall: Odsetek poprawnie sklasyfikowanych przykładów w danej klasie.\n",
    "F1-score: Średnia harmoniczna precyzji i czułości."
   ]
  },
  {
   "cell_type": "code",
   "execution_count": 5,
   "metadata": {},
   "outputs": [
    {
     "ename": "NameError",
     "evalue": "name 'model' is not defined",
     "output_type": "error",
     "traceback": [
      "\u001b[0;31m---------------------------------------------------------------------------\u001b[0m",
      "\u001b[0;31mNameError\u001b[0m                                 Traceback (most recent call last)",
      "Cell \u001b[0;32mIn[5], line 54\u001b[0m\n\u001b[1;32m     51\u001b[0m test_loader \u001b[38;5;241m=\u001b[39m DataLoader(test_dataset, batch_size\u001b[38;5;241m=\u001b[39m\u001b[38;5;241m32\u001b[39m, shuffle\u001b[38;5;241m=\u001b[39m\u001b[38;5;28;01mTrue\u001b[39;00m)\n\u001b[1;32m     53\u001b[0m \u001b[38;5;66;03m# Wywołanie funkcji testującej\u001b[39;00m\n\u001b[0;32m---> 54\u001b[0m cm, y_true, y_pred \u001b[38;5;241m=\u001b[39m test_model(\u001b[43mmodel\u001b[49m, test_loader, test_dataset\u001b[38;5;241m.\u001b[39mclass_to_idx)\n\u001b[1;32m     56\u001b[0m \u001b[38;5;66;03m# Wyświetlenie macierzy pomyłek\u001b[39;00m\n\u001b[1;32m     57\u001b[0m class_names \u001b[38;5;241m=\u001b[39m \u001b[38;5;28mlist\u001b[39m(test_dataset\u001b[38;5;241m.\u001b[39mclass_to_idx\u001b[38;5;241m.\u001b[39mkeys())\n",
      "\u001b[0;31mNameError\u001b[0m: name 'model' is not defined"
     ]
    }
   ],
   "source": [
    "import torch\n",
    "from sklearn.metrics import confusion_matrix, classification_report, accuracy_score\n",
    "import seaborn as sns\n",
    "import matplotlib.pyplot as plt\n",
    "from torch.utils.data import DataLoader\n",
    "\n",
    "def test_model(model, test_loader, class_to_idx, device=\"cuda\"):\n",
    "    \"\"\"\n",
    "    Testuje model na zbiorze testowym i wyznacza macierz pomyłek.\n",
    "\n",
    "    Args:\n",
    "        model (nn.Module): Wytrenowany model.\n",
    "        test_loader (DataLoader): DataLoader dla zbioru testowego.\n",
    "        class_to_idx (dict): Mapowanie nazw klas na liczby całkowite.\n",
    "        device (str): Urządzenie (\"cuda\" lub \"cpu\").\n",
    "\n",
    "    Returns:\n",
    "        confusion_matrix: Macierz pomyłek.\n",
    "        y_true: Rzeczywiste etykiety.\n",
    "        y_pred: Przewidywane etykiety.\n",
    "    \"\"\"\n",
    "    model.eval()  # Ustawienie modelu w tryb ewaluacji\n",
    "    y_true = []\n",
    "    y_pred = []\n",
    "\n",
    "    with torch.no_grad():\n",
    "        for t_image, b_image, s_image, labels in test_loader:\n",
    "            t_image, b_image, s_image, labels = (\n",
    "                t_image.to(device),\n",
    "                b_image.to(device),\n",
    "                s_image.to(device),\n",
    "                labels.to(device)\n",
    "            )\n",
    "\n",
    "            # Oblicz predykcje\n",
    "            outputs = model(t_image, b_image, s_image)\n",
    "            _, predicted = torch.max(outputs, 1)\n",
    "\n",
    "            # Zbierz rzeczywiste i przewidywane etykiety\n",
    "            y_true.extend(labels.cpu().numpy())\n",
    "            y_pred.extend(predicted.cpu().numpy())\n",
    "\n",
    "    # Wyznaczenie macierzy pomyłek\n",
    "    cm = confusion_matrix(y_true, y_pred)\n",
    "\n",
    "    return cm, y_true, y_pred\n",
    "\n",
    "\n",
    "# Załaduj dane\n",
    "test_dataset = MultiInputDataset(\"CSV/dataset/test.csv\", transform_rgb=transform_rgb, transform_binary=transform_binary)\n",
    "test_loader = DataLoader(test_dataset, batch_size=32, shuffle=True)\n",
    "\n",
    "# Wywołanie funkcji testującej\n",
    "cm, y_true, y_pred = test_model(model, test_loader, test_dataset.class_to_idx)\n",
    "\n",
    "# Wyświetlenie macierzy pomyłek\n",
    "class_names = list(test_dataset.class_to_idx.keys())\n",
    "plt.figure(figsize=(10, 8))\n",
    "sns.heatmap(cm, annot=True, fmt=\"d\", cmap=\"Blues\", xticklabels=class_names, yticklabels=class_names)\n",
    "plt.xlabel(\"Przewidywane klasy\")\n",
    "plt.ylabel(\"Rzeczywiste klasy\")\n",
    "plt.title(\"Macierz pomyłek\")\n",
    "plt.show()\n",
    "\n",
    "# Inne metryki\n",
    "print(\"Dokładność:\", accuracy_score(y_true, y_pred))\n",
    "print(\"\\nRaport klasyfikacji:\")\n",
    "print(classification_report(y_true, y_pred, target_names=class_names))\n"
   ]
  },
  {
   "cell_type": "code",
   "execution_count": 7,
   "metadata": {},
   "outputs": [
    {
     "name": "stdout",
     "output_type": "stream",
     "text": [
      "Najczęściej mylone klasy: kws_olof → kucyk_insect\n",
      "Liczba pomyłek: 28\n"
     ]
    }
   ],
   "source": [
    "import numpy as np\n",
    "\n",
    "# Wyświetl pary klas z największą liczbą pomyłek (poza przekątną)\n",
    "off_diagonal = cm - np.diag(np.diag(cm))  # Macierz bez przekątnej\n",
    "max_misclassified = np.unravel_index(np.argmax(off_diagonal), off_diagonal.shape)\n",
    "\n",
    "print(f\"Najczęściej mylone klasy: {class_names[max_misclassified[0]]} → {class_names[max_misclassified[1]]}\")\n",
    "print(f\"Liczba pomyłek: {off_diagonal[max_misclassified]}\")"
   ]
  },
  {
   "cell_type": "code",
   "execution_count": 8,
   "metadata": {},
   "outputs": [
    {
     "data": {
      "image/png": "[encoded data removed]",
      "text/plain": [
       "<Figure size 640x480 with 1 Axes>"
      ]
     },
     "metadata": {},
     "output_type": "display_data"
    }
   ],
   "source": [
    "from sklearn.metrics import roc_curve, auc\n",
    "from sklearn.preprocessing import label_binarize\n",
    "\n",
    "# Binarizacja etykiet dla OvR\n",
    "y_true_bin = label_binarize(y_true, classes=range(len(class_names)))\n",
    "y_pred_bin = label_binarize(y_pred, classes=range(len(class_names)))\n",
    "\n",
    "# Obliczanie ROC i AUC dla każdej klasy\n",
    "for i, class_name in enumerate(class_names):\n",
    "    fpr, tpr, _ = roc_curve(y_true_bin[:, i], y_pred_bin[:, i])\n",
    "    roc_auc = auc(fpr, tpr)\n",
    "    plt.plot(fpr, tpr, label=f\"Klasa {class_name} (AUC = {roc_auc:.2f})\")\n",
    "\n",
    "plt.plot([0, 1], [0, 1], 'k--')  # Linia bazowa\n",
    "plt.xlabel(\"False Positive Rate\")\n",
    "plt.ylabel(\"True Positive Rate\")\n",
    "plt.title(\"ROC Curve\")\n",
    "plt.legend(loc=\"lower right\")\n",
    "plt.show()\n"
   ]
  },
  {
   "cell_type": "code",
   "execution_count": 9,
   "metadata": {},
   "outputs": [
    {
     "name": "stdout",
     "output_type": "stream",
     "text": [
      "Rzeczywista klasa: penguin, Przewidywana klasa: jary_jeczmien_skald_czyszczony_insect\n",
      "Rzeczywista klasa: jary_oberek_czyszczony, Przewidywana klasa: jary_hajduczek\n",
      "Rzeczywista klasa: kucyk_insect, Przewidywana klasa: kws_atrika\n",
      "Rzeczywista klasa: kws_olof, Przewidywana klasa: jary_skarb_czyzczony\n",
      "Rzeczywista klasa: jary_oberek_czyszczony, Przewidywana klasa: jary_skarb_czyzczony\n"
     ]
    }
   ],
   "source": [
    "# Znajdź indeksy przykładów błędnie sklasyfikowanych\n",
    "error_indices = [i for i, (true, pred) in enumerate(zip(y_true, y_pred)) if true != pred]\n",
    "\n",
    "# Wyświetl kilka przykładów błędów\n",
    "for idx in error_indices[:5]:  # Pierwsze 5 błędów\n",
    "    print(f\"Rzeczywista klasa: {class_names[y_true[idx]]}, Przewidywana klasa: {class_names[y_pred[idx]]}\")\n",
    "    # Opcjonalnie: Wyświetl obrazy (zależy od implementacji Dataset)\n"
   ]
  },
  {
   "cell_type": "code",
   "execution_count": 11,
   "metadata": {},
   "outputs": [
    {
     "name": "stderr",
     "output_type": "stream",
     "text": [
      "/home/mk/miniconda3/envs/dnn_gpu/lib/python3.11/site-packages/torchvision/models/_utils.py:208: UserWarning: The parameter 'pretrained' is deprecated since 0.13 and may be removed in the future, please use 'weights' instead.\n",
      "  warnings.warn(\n",
      "/home/mk/miniconda3/envs/dnn_gpu/lib/python3.11/site-packages/torchvision/models/_utils.py:223: UserWarning: Arguments other than a weight enum or `None` for 'weights' are deprecated since 0.13 and may be removed in the future. The current behavior is equivalent to passing `weights=EfficientNet_B0_Weights.IMAGENET1K_V1`. You can also use `weights=EfficientNet_B0_Weights.DEFAULT` to get the most up-to-date weights.\n",
      "  warnings.warn(msg)\n"
     ]
    },
    {
     "data": {
      "text/plain": [
       "'model_architecture.png'"
      ]
     },
     "execution_count": 11,
     "metadata": {},
     "output_type": "execute_result"
    }
   ],
   "source": [
    "from torchviz import make_dot\n",
    "import torch\n",
    "\n",
    "# Inicjalizacja modelu\n",
    "num_classes = 11  # Liczba klas w Twoim zadaniu\n",
    "model = MultiInputModel(num_classes=num_classes)\n",
    "\n",
    "# Przygotowanie danych wejściowych\n",
    "t_image = torch.randn(1, 3, 224, 224)  # Przykładowy obraz RGB widok T (batch_size=1)\n",
    "b_image = torch.randn(1, 3, 224, 224)  # Przykładowy obraz RGB widok B\n",
    "s_image = torch.randn(1, 1, 224, 224)  # Przykładowy obraz binarny widok S\n",
    "\n",
    "# Przepływ danych przez model\n",
    "outputs = model(t_image, b_image, s_image)\n",
    "\n",
    "# Tworzenie wizualizacji modelu\n",
    "dot = make_dot(outputs, params=dict(model.named_parameters()))\n",
    "dot.render(\"model_architecture\", format=\"png\")  # Zapisz jako plik PNG\n"
   ]
  },
  {
   "cell_type": "code",
   "execution_count": 12,
   "metadata": {},
   "outputs": [
    {
     "data": {
      "text/plain": [
       "'simplified_architecture.png'"
      ]
     },
     "execution_count": 12,
     "metadata": {},
     "output_type": "execute_result"
    }
   ],
   "source": [
    "from graphviz import Digraph\n",
    "\n",
    "# Inicjalizacja diagramu\n",
    "dot = Digraph(comment=\"Uproszczona Architektura Multi-Input Model\")\n",
    "\n",
    "# Wejścia\n",
    "dot.node(\"Input_T\", \"Widok z góry (_T)\", shape=\"box\", style=\"rounded,filled\", fillcolor=\"lightblue\")\n",
    "dot.node(\"Input_B\", \"Widok z dołu (_B)\", shape=\"box\", style=\"rounded,filled\", fillcolor=\"lightblue\")\n",
    "dot.node(\"Input_S\", \"Widok z boku (_S)\", shape=\"box\", style=\"rounded,filled\", fillcolor=\"lightgreen\")\n",
    "\n",
    "# Przetwarzanie\n",
    "dot.node(\"EfficientNet_T\", \"EfficientNet\", shape=\"ellipse\", style=\"filled\", fillcolor=\"lightyellow\")\n",
    "dot.node(\"EfficientNet_B\", \"EfficientNet\", shape=\"ellipse\", style=\"filled\", fillcolor=\"lightyellow\")\n",
    "dot.node(\"BinaryCNN\", \"Custom CNN (Binary)\", shape=\"ellipse\", style=\"filled\", fillcolor=\"orange\")\n",
    "\n",
    "# Połączenie i klasyfikacja\n",
    "dot.node(\"Concat\", \"Połączenie cech\", shape=\"box\", style=\"rounded,filled\", fillcolor=\"lightgrey\")\n",
    "dot.node(\"FC\", \"Fully Connected\", shape=\"ellipse\", style=\"filled\", fillcolor=\"pink\")\n",
    "dot.node(\"Output\", \"Klasyfikacja\", shape=\"box\", style=\"rounded,filled\", fillcolor=\"lightcoral\")\n",
    "\n",
    "# Połączenia między komponentami\n",
    "dot.edges([(\"Input_T\", \"EfficientNet_T\"), (\"Input_B\", \"EfficientNet_B\"), (\"Input_S\", \"BinaryCNN\")])\n",
    "dot.edges([(\"EfficientNet_T\", \"Concat\"), (\"EfficientNet_B\", \"Concat\"), (\"BinaryCNN\", \"Concat\")])\n",
    "dot.edge(\"Concat\", \"FC\")\n",
    "dot.edge(\"FC\", \"Output\")\n",
    "\n",
    "# Render diagramu\n",
    "dot.render(\"simplified_architecture\", format=\"png\", cleanup=True)\n"
   ]
  },
  {
   "cell_type": "code",
   "execution_count": 13,
   "metadata": {},
   "outputs": [
    {
     "data": {
      "text/plain": [
       "'detailed_architecture.png'"
      ]
     },
     "execution_count": 13,
     "metadata": {},
     "output_type": "execute_result"
    }
   ],
   "source": [
    "from graphviz import Digraph\n",
    "\n",
    "# Inicjalizacja diagramu\n",
    "dot = Digraph(comment=\"Szczegółowa Architektura Multi-Input Model\")\n",
    "\n",
    "# Wejścia\n",
    "dot.node(\"Input_T\", \"Widok z góry (_T)\\n(3 x 224 x 224)\", shape=\"box\", style=\"rounded,filled\", fillcolor=\"lightblue\")\n",
    "dot.node(\"Input_B\", \"Widok z dołu (_B)\\n(3 x 224 x 224)\", shape=\"box\", style=\"rounded,filled\", fillcolor=\"lightblue\")\n",
    "dot.node(\"Input_S\", \"Widok z boku (_S)\\n(1 x 224 x 224)\", shape=\"box\", style=\"rounded,filled\", fillcolor=\"lightgreen\")\n",
    "\n",
    "# Przetwarzanie\n",
    "dot.node(\"EfficientNet_T\", \"EfficientNet\\n(Widok T)\\n1280 cech\", shape=\"ellipse\", style=\"filled\", fillcolor=\"lightyellow\")\n",
    "dot.node(\"EfficientNet_B\", \"EfficientNet\\n(Widok B)\\n1280 cech\", shape=\"ellipse\", style=\"filled\", fillcolor=\"lightyellow\")\n",
    "dot.node(\"BinaryCNN\", \"Custom CNN (Binary)\\n256 cech\", shape=\"ellipse\", style=\"filled\", fillcolor=\"orange\")\n",
    "\n",
    "# Połączenie i klasyfikacja\n",
    "dot.node(\"Concat\", \"Połączenie cech\\n(1280 + 1280 + 256 = 2816)\", shape=\"box\", style=\"rounded,filled\", fillcolor=\"lightgrey\")\n",
    "dot.node(\"FC\", \"Fully Connected\\n512 cech\", shape=\"ellipse\", style=\"filled\", fillcolor=\"pink\")\n",
    "dot.node(\"Output\", \"Klasyfikacja\\n(Liczba klas)\", shape=\"box\", style=\"rounded,filled\", fillcolor=\"lightcoral\")\n",
    "\n",
    "# Połączenia między komponentami\n",
    "dot.edges([(\"Input_T\", \"EfficientNet_T\"), (\"Input_B\", \"EfficientNet_B\"), (\"Input_S\", \"BinaryCNN\")])\n",
    "dot.edges([(\"EfficientNet_T\", \"Concat\"), (\"EfficientNet_B\", \"Concat\"), (\"BinaryCNN\", \"Concat\")])\n",
    "dot.edge(\"Concat\", \"FC\")\n",
    "dot.edge(\"FC\", \"Output\")\n",
    "\n",
    "# Render diagramu\n",
    "dot.render(\"detailed_architecture\", format=\"png\", cleanup=True)\n"
   ]
  },
  {
   "cell_type": "code",
   "execution_count": 14,
   "metadata": {},
   "outputs": [
    {
     "data": {
      "text/plain": [
       "'efficientnet_architecture.png'"
      ]
     },
     "execution_count": 14,
     "metadata": {},
     "output_type": "execute_result"
    }
   ],
   "source": [
    "from graphviz import Digraph\n",
    "\n",
    "# Uproszczona architektura EfficientNet\n",
    "dot = Digraph(comment=\"Uproszczona Architektura EfficientNet\")\n",
    "\n",
    "# Wejście\n",
    "dot.node(\"Input\", \"Wejście (3 x 224 x 224)\", shape=\"box\", style=\"rounded,filled\", fillcolor=\"lightblue\")\n",
    "\n",
    "# Bloki przetwarzania\n",
    "dot.node(\"Stem\", \"Stem (3x3 Conv)\", shape=\"ellipse\", style=\"filled\", fillcolor=\"lightyellow\")\n",
    "dot.node(\"MBConv1\", \"MBConv1 x 1\", shape=\"ellipse\", style=\"filled\", fillcolor=\"lightyellow\")\n",
    "dot.node(\"MBConv6\", \"MBConv6 x n\", shape=\"ellipse\", style=\"filled\", fillcolor=\"lightyellow\")\n",
    "dot.node(\"Head\", \"Head (1x1 Conv)\", shape=\"ellipse\", style=\"filled\", fillcolor=\"lightyellow\")\n",
    "\n",
    "# Global Average Pooling\n",
    "dot.node(\"GAP\", \"Global Average Pooling\", shape=\"ellipse\", style=\"filled\", fillcolor=\"lightgrey\")\n",
    "\n",
    "# Wyjście cech\n",
    "dot.node(\"Features\", \"Wyjście cech (1280)\", shape=\"box\", style=\"rounded,filled\", fillcolor=\"lightgreen\")\n",
    "\n",
    "# Połączenia\n",
    "dot.edges([(\"Input\", \"Stem\"), \n",
    "           (\"Stem\", \"MBConv1\"), \n",
    "           (\"MBConv1\", \"MBConv6\"),\n",
    "           (\"MBConv6\", \"Head\"),\n",
    "           (\"Head\", \"GAP\"),\n",
    "           (\"GAP\", \"Features\")])\n",
    "\n",
    "# Render diagramu\n",
    "dot.render(\"efficientnet_architecture\", format=\"png\", cleanup=True)\n"
   ]
  },
  {
   "cell_type": "code",
   "execution_count": 15,
   "metadata": {},
   "outputs": [
    {
     "data": {
      "text/plain": [
       "'custom_cnn_architecture.png'"
      ]
     },
     "execution_count": 15,
     "metadata": {},
     "output_type": "execute_result"
    }
   ],
   "source": [
    "# Uproszczona architektura Custom CNN\n",
    "dot = Digraph(comment=\"Uproszczona Architektura Custom CNN (Binary)\")\n",
    "\n",
    "# Wejście\n",
    "dot.node(\"Input\", \"Wejście (1 x 224 x 224)\", shape=\"box\", style=\"rounded,filled\", fillcolor=\"lightblue\")\n",
    "\n",
    "# Warstwy splotowe\n",
    "dot.node(\"Conv1\", \"Conv2D (16, 3x3)\", shape=\"ellipse\", style=\"filled\", fillcolor=\"lightyellow\")\n",
    "dot.node(\"Pool1\", \"MaxPool2D (2x2)\", shape=\"ellipse\", style=\"filled\", fillcolor=\"lightgrey\")\n",
    "\n",
    "dot.node(\"Conv2\", \"Conv2D (32, 3x3)\", shape=\"ellipse\", style=\"filled\", fillcolor=\"lightyellow\")\n",
    "dot.node(\"Pool2\", \"MaxPool2D (2x2)\", shape=\"ellipse\", style=\"filled\", fillcolor=\"lightgrey\")\n",
    "\n",
    "# Warstwy końcowe\n",
    "dot.node(\"Flatten\", \"Flatten\", shape=\"ellipse\", style=\"filled\", fillcolor=\"lightgrey\")\n",
    "dot.node(\"FC\", \"Fully Connected (256)\", shape=\"ellipse\", style=\"filled\", fillcolor=\"lightgreen\")\n",
    "\n",
    "# Połączenia\n",
    "dot.edges([(\"Input\", \"Conv1\"),\n",
    "           (\"Conv1\", \"Pool1\"),\n",
    "           (\"Pool1\", \"Conv2\"),\n",
    "           (\"Conv2\", \"Pool2\"),\n",
    "           (\"Pool2\", \"Flatten\"),\n",
    "           (\"Flatten\", \"FC\")])\n",
    "\n",
    "# Render diagramu\n",
    "dot.render(\"custom_cnn_architecture\", format=\"png\", cleanup=True)\n"
   ]
  },
  {
   "cell_type": "code",
   "execution_count": 20,
   "metadata": {},
   "outputs": [
    {
     "name": "stdout",
     "output_type": "stream",
     "text": [
      "Średni czas preprocesingu na obraz (RGB + Binary): 0.016317 s\n",
      "Średni czas przetwarzania przez model na próbkę: 0.065846 s\n",
      "Średni czas preprocesingu: 0.016317 s\n",
      "Średni czas przetwarzania przez model: 0.065846 s\n",
      "Łączny czas na obraz: 0.082164 s\n"
     ]
    }
   ],
   "source": [
    "import time\n",
    "import torch\n",
    "from torch.utils.data import DataLoader\n",
    "from torchvision.transforms import Compose, Resize, ToTensor, Normalize\n",
    "from PIL import Image\n",
    "import numpy as np\n",
    "\n",
    "# Przykładowe transformacje (dla RGB i binarnych obrazów)\n",
    "transform_rgb = Compose([\n",
    "    Resize((224, 224)),\n",
    "    ToTensor(),\n",
    "    Normalize(mean=[0.485, 0.456, 0.406], std=[0.229, 0.224, 0.225])  # Standardowe normalizacje\n",
    "])\n",
    "\n",
    "transform_binary = Compose([\n",
    "    Resize((224, 224)),\n",
    "    ToTensor()\n",
    "])\n",
    "\n",
    "# Funkcja do pomiaru czasu preprocesingu\n",
    "def measure_preprocessing_time(dataset, num_samples=100):\n",
    "    \"\"\"\n",
    "    Mierzy czas preprocesingu dla przykładowych obrazów w zbiorze danych.\n",
    "\n",
    "    Args:\n",
    "        dataset (Dataset): Obiekt Dataset z obrazami.\n",
    "        num_samples (int): Liczba próbek do przetestowania.\n",
    "\n",
    "    Returns:\n",
    "        avg_time: Średni czas preprocesingu na obraz.\n",
    "    \"\"\"\n",
    "    start_time = time.time()\n",
    "    for i in range(num_samples):\n",
    "        # Pobierz próbkę z datasetu\n",
    "        t_image, b_image, s_image, label = dataset[i]\n",
    "    total_time = time.time() - start_time\n",
    "    avg_time = total_time / num_samples\n",
    "    print(f\"Średni czas preprocesingu na obraz (RGB + Binary): {avg_time:.6f} s\")\n",
    "    return avg_time\n",
    "\n",
    "# Funkcja do pomiaru czasu przetwarzania modelu\n",
    "def measure_model_inference_time(model, dataset, num_samples=100, device=\"cuda\"):\n",
    "    \"\"\"\n",
    "    Mierzy czas przetwarzania przez model dla przykładowych obrazów.\n",
    "\n",
    "    Args:\n",
    "        model (nn.Module): Wytrenowany model.\n",
    "        dataset (Dataset): Obiekt Dataset z obrazami.\n",
    "        num_samples (int): Liczba próbek do przetestowania.\n",
    "        device (str): Urządzenie (\"cuda\" lub \"cpu\").\n",
    "\n",
    "    Returns:\n",
    "        avg_time: Średni czas inferencji na próbkę.\n",
    "    \"\"\"\n",
    "    model = model.to(device)\n",
    "    model.eval()\n",
    "\n",
    "    start_time = time.time()\n",
    "    with torch.no_grad():\n",
    "        for i in range(num_samples):\n",
    "            # Pobierz próbkę z datasetu\n",
    "            t_image, b_image, s_image, label = dataset[i]\n",
    "            t_image = t_image.unsqueeze(0).to(device)  # Dodaj batch dimension\n",
    "            b_image = b_image.unsqueeze(0).to(device)\n",
    "            s_image = s_image.unsqueeze(0).to(device)\n",
    "\n",
    "            # Przepuść dane przez model\n",
    "            _ = model(t_image, b_image, s_image)\n",
    "    total_time = time.time() - start_time\n",
    "    avg_time = total_time / num_samples\n",
    "    print(f\"Średni czas przetwarzania przez model na próbkę: {avg_time:.6f} s\")\n",
    "    return avg_time\n",
    "\n",
    "\n",
    "num_samples=100\n",
    "device=\"cpu\"\n",
    "# Testowanie na zbiorze testowym\n",
    "test_dataset = MultiInputDataset(\"CSV/dataset/test.csv\", transform_rgb=transform_rgb, transform_binary=transform_binary)\n",
    "\n",
    "# 1. Pomiar czasu preprocesingu\n",
    "preprocessing_time = measure_preprocessing_time(test_dataset, num_samples=num_samples)\n",
    "\n",
    "# 2. Pomiar czasu przetwarzania przez model\n",
    "inference_time = measure_model_inference_time(model, test_dataset, num_samples=num_samples, device=device)\n",
    "\n",
    "# Podsumowanie wyników\n",
    "print(f\"Średni czas preprocesingu: {preprocessing_time:.6f} s\")\n",
    "print(f\"Średni czas przetwarzania przez model: {inference_time:.6f} s\")\n",
    "print(f\"Łączny czas na obraz: {preprocessing_time + inference_time:.6f} s\")\n"
   ]
  },
  {
   "cell_type": "code",
   "execution_count": 21,
   "metadata": {},
   "outputs": [
    {
     "name": "stderr",
     "output_type": "stream",
     "text": [
      "/home/mk/miniconda3/envs/dnn_gpu/lib/python3.11/site-packages/torchvision/models/_utils.py:208: UserWarning: The parameter 'pretrained' is deprecated since 0.13 and may be removed in the future, please use 'weights' instead.\n",
      "  warnings.warn(\n",
      "/home/mk/miniconda3/envs/dnn_gpu/lib/python3.11/site-packages/torchvision/models/_utils.py:223: UserWarning: Arguments other than a weight enum or `None` for 'weights' are deprecated since 0.13 and may be removed in the future. The current behavior is equivalent to passing `weights=EfficientNet_B0_Weights.IMAGENET1K_V1`. You can also use `weights=EfficientNet_B0_Weights.DEFAULT` to get the most up-to-date weights.\n",
      "  warnings.warn(msg)\n"
     ]
    },
    {
     "name": "stdout",
     "output_type": "stream",
     "text": [
      "Liczba parametrów w modelu: 31150150\n"
     ]
    }
   ],
   "source": [
    "def count_parameters(model):\n",
    "    \"\"\"\n",
    "    Oblicza łączną liczbę parametrów w modelu.\n",
    "    Args:\n",
    "        model (nn.Module): Model PyTorch.\n",
    "    Returns:\n",
    "        int: Liczba parametrów.\n",
    "    \"\"\"\n",
    "    return sum(p.numel() for p in model.parameters() if p.requires_grad)\n",
    "\n",
    "# Inicjalizacja modelu\n",
    "model = MultiInputModel(num_classes=10)\n",
    "\n",
    "# Oblicz liczbę parametrów\n",
    "total_params = count_parameters(model)\n",
    "print(f\"Liczba parametrów w modelu: {total_params}\")\n"
   ]
  }
 ],
 "metadata": {
  "kernelspec": {
   "display_name": "dnn_gpu",
   "language": "python",
   "name": "python3"
  },
  "language_info": {
   "codemirror_mode": {
    "name": "ipython",
    "version": 3
   },
   "file_extension": ".py",
   "mimetype": "text/x-python",
   "name": "python",
   "nbconvert_exporter": "python",
   "pygments_lexer": "ipython3",
   "version": "3.11.11"
  }
 },
 "nbformat": 4,
 "nbformat_minor": 2
}
